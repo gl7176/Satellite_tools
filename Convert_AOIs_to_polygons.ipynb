{
 "cells": [
  {
   "cell_type": "code",
   "execution_count": 6,
   "id": "636d485d",
   "metadata": {},
   "outputs": [
    {
     "name": "stdout",
     "output_type": "stream",
     "text": [
      "AcumulacionAaron2B\n",
      "Anel\n",
      "Clavelito\n",
      "ElEngano\n",
      "Kotsimba\n",
      "Linda2\n",
      "Linda\n",
      "Los5Rebeldes\n",
      "Nayda\n",
      "Paolita1\n",
      "PlayaMirador\n",
      "SantaInesDosMil\n"
     ]
    }
   ],
   "source": [
    "# the input raster, which defines our \"area of interest\"\n",
    "\n",
    "import os, utils, rasterio\n",
    "\n",
    "base_dir = 'D:/Drone shapefile/classified_corrected/'\n",
    "\n",
    "output_directory = 'D:/Drone shapefile/bounds/'\n",
    "if not os.path.exists(output_directory):\n",
    "    os.makedirs(output_directory)\n",
    "    \n",
    "for root, dirs, files in os.walk(os.path.abspath(base_dir)):\n",
    "    for file in files:\n",
    "        if file.endswith(\".tif\"):\n",
    "            print(file.split(\"_\")[0])\n",
    "            with rasterio.open(os.path.join(root, file)) as dataset:\n",
    "                utils.polygon_from_rasterbounds(dataset, 'kml', output_directory, file.split(\"_\")[0])"
   ]
  },
  {
   "cell_type": "code",
   "execution_count": 12,
   "id": "6a80c982",
   "metadata": {},
   "outputs": [],
   "source": [
    "outfile = output_directory + file.split(\"_\")[0] + \".kml\""
   ]
  },
  {
   "cell_type": "code",
   "execution_count": 13,
   "id": "aa724839",
   "metadata": {},
   "outputs": [],
   "source": [
    "import geopandas as gpd\n",
    "import fiona\n",
    "\n",
    "gpd.io.file.fiona.drvsupport.supported_drivers['KML'] = 'rw'\n",
    "df = gpd.read_file(outfile, driver='KML')"
   ]
  },
  {
   "cell_type": "code",
   "execution_count": 23,
   "id": "301c2359",
   "metadata": {},
   "outputs": [
    {
     "name": "stdout",
     "output_type": "stream",
     "text": [
      "0    POLYGON ((-70.37594 -13.06179, -70.37589 -13.0...\n",
      "Name: geometry, dtype: geometry\n"
     ]
    }
   ],
   "source": [
    "print(df.geometry)"
   ]
  }
 ],
 "metadata": {
  "kernelspec": {
   "display_name": "Python 3 (ipykernel)",
   "language": "python",
   "name": "python3"
  },
  "language_info": {
   "codemirror_mode": {
    "name": "ipython",
    "version": 3
   },
   "file_extension": ".py",
   "mimetype": "text/x-python",
   "name": "python",
   "nbconvert_exporter": "python",
   "pygments_lexer": "ipython3",
   "version": "3.9.15"
  }
 },
 "nbformat": 4,
 "nbformat_minor": 5
}
