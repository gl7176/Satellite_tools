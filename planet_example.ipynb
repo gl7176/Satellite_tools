{
 "cells": [
  {
   "cell_type": "code",
   "execution_count": 6,
   "id": "0e887802",
   "metadata": {},
   "outputs": [],
   "source": [
    "import datetime\n",
    "import rasterio\n",
    "import utils\n",
    "\n",
    "\n",
    "target_date = datetime.datetime(month=2, day=1, year=2022)\n",
    "date_tolerance = 10 # plus and minus margin of target dates\n",
    "max_cloud_percent = 30 # maximum amount of cloud permitted in a candidate scene\n",
    "\n",
    "# the input raster, which defines our \"area of interest\"\n",
    "AOI_raster = 'D:/Drone shapefile/classified_corrected/AcumulacionAaron2B_classified_corrected.tif'\n",
    "ordername = AOI_raster.split(\"/\")[-1].split(\".\")[0].split(\"_\")[0]\n",
    "\n",
    "# the directory where we store our whole satellite scenes\n",
    "dl_directory = str('D:/sat_dls/')"
   ]
  },
  {
   "cell_type": "code",
   "execution_count": 7,
   "id": "5f406683",
   "metadata": {},
   "outputs": [],
   "source": [
    "start_date = target_date - datetime.timedelta(days=date_tolerance)\n",
    "end_date = target_date + datetime.timedelta(days=date_tolerance)\n",
    "\n",
    "if 'pl_API_key' not in globals():\n",
    "    import getpass\n",
    "    pl_API_key = getpass.getpass(prompt = 'Enter Planet API key: ')      # found at https://www.planet.com/account/#/user-settings\n",
    "\n",
    "from shapely.geometry import Polygon, MultiPolygon\n",
    "\n",
    "dataset = rasterio.open(AOI_raster)\n",
    "raster_extent = utils.get_spatial_extent(dataset, latlon=True)\n",
    "\n",
    "# limit on the number of scenes that will be ordered, here set to 2 for testing\n",
    "#order_limit = 2"
   ]
  },
  {
   "cell_type": "code",
   "execution_count": 8,
   "id": "fa74a4fc",
   "metadata": {},
   "outputs": [
    {
     "name": "stdout",
     "output_type": "stream",
     "text": [
      "6 planet orders will be attempted\n"
     ]
    }
   ],
   "source": [
    "import planet_tools\n",
    "pl_scenes = await planet_tools.pl_search_query(login=pl_API_key,\n",
    "                            dataset='PSOrthoTile', # product type: see https://developers.planet.com/docs/apis/data/items-assets/\n",
    "                            extent=raster_extent,\n",
    "                            start_date=start_date,\n",
    "                            end_date=end_date,\n",
    "                            max_cloud_cover=max_cloud_percent,\n",
    "                            name = ordername)"
   ]
  },
  {
   "cell_type": "code",
   "execution_count": null,
   "id": "cf74885b",
   "metadata": {},
   "outputs": [
    {
     "name": "stdout",
     "output_type": "stream",
     "text": [
      "------\n",
      "[['5329020_1933208_2022-01-27_2264', '5328549_1933208_2022-01-27_1049'], ['5371978_1933208_2022-02-08_2212'], ['5358149_1933208_2022-02-04_2427'], ['5351209_1933208_2022-02-02_2416'], ['5357953_1933208_2022-02-03_2426', '5354290_1933208_2022-02-03_105c'], ['5326082_1933208_2022-01-26_2251']]\n",
      "Downloading planet\n"
     ]
    },
    {
     "name": "stderr",
     "output_type": "stream",
     "text": [
      "\r",
      "00:00 - order  - state: creating"
     ]
    },
    {
     "name": "stdout",
     "output_type": "stream",
     "text": [
      "{'name': 'AcumulacionAaron2B', 'products': [{'item_ids': ['5329020_1933208_2022-01-27_2264', '5328549_1933208_2022-01-27_1049'], 'item_type': 'PSOrthoTile', 'product_bundle': 'analytic_sr_udm2'}]}\n",
      "creating order\n"
     ]
    },
    {
     "name": "stderr",
     "output_type": "stream",
     "text": [
      "00:00 - order 2ab6f912-c687-464b-8a0f-9e0f29cb0aea - state: queued "
     ]
    },
    {
     "name": "stdout",
     "output_type": "stream",
     "text": [
      "polling order\n"
     ]
    },
    {
     "name": "stderr",
     "output_type": "stream",
     "text": [
      "06:46 - order 2ab6f912-c687-464b-8a0f-9e0f29cb0aea - state: running"
     ]
    }
   ],
   "source": [
    "dl_keys = utils.check_dls(dl_directory, planet=pl_scenes)\n",
    "print(\"------\")\n",
    "for key, val in dl_keys.items():\n",
    "    if len(val) > 0:\n",
    "        print(val)\n",
    "        if key == 'landsat':\n",
    "            print('Downloading ' + key)\n",
    "            ls_results = landsat_tools.ls_place_order(login=ls_login,\n",
    "                                          scenes=val,\n",
    "                                          dl_directory=dl_directory)\n",
    "            output_directory = dl_directory + key\n",
    "        if key == 'sentinel-2':\n",
    "            print('Downloading ' + key)\n",
    "            val = utils.s2_key_to_hash(val, s2_scenes)\n",
    "            s2_results = sentinel_tools.s2_place_order(login=s2_login,\n",
    "                                           scenes=val, \n",
    "                                           dl_directory=dl_directory)\n",
    "            output_directory = dl_directory + key\n",
    "        if key == 'planet':\n",
    "            print('Downloading ' + key)\n",
    "            val = utils.pl_key_to_hash(val, pl_scenes)\n",
    "#            pl_results = [asyncio.create_task(planet_tools.pl_place_order(login=pl_API_key,\n",
    "            pl_results = await planet_tools.pl_place_order(login=pl_API_key,\n",
    "                                          scenes=val,\n",
    "                                          dl_directory=dl_directory)\n",
    "            output_directory = dl_directory + key"
   ]
  },
  {
   "cell_type": "code",
   "execution_count": null,
   "id": "f43c74fe",
   "metadata": {},
   "outputs": [],
   "source": [
    "# the directory where we want to store our clipped satellite scenes\n",
    "import os\n",
    "ordername = AOI_raster.split(\"/\")[-1].split(\".\")[0].split(\"_\")[0]\n",
    "output_directory = str(dl_directory + ordername + \"_clipped\")\n",
    "\n",
    "if not os.path.exists(output_directory):\n",
    "    os.makedirs(output_directory)\n",
    "top_directory_list = os.listdir(dl_directory)"
   ]
  },
  {
   "cell_type": "code",
   "execution_count": null,
   "id": "bd587858",
   "metadata": {},
   "outputs": [],
   "source": [
    "pl_scn_dirs = utils.pl_directory_scns(dl_directory + 'planet')\n",
    "\n",
    "import planet_tools\n",
    "raster_extent = utils.get_spatial_extent(dataset, latlon=False)\n",
    "pg = MultiPolygon([Polygon(raster_extent)])\n",
    "planet_tools.pl_crop(pl_scn_dirs, pg, output_directory)"
   ]
  }
 ],
 "metadata": {
  "kernelspec": {
   "display_name": "Python 3 (ipykernel)",
   "language": "python",
   "name": "python3"
  },
  "language_info": {
   "codemirror_mode": {
    "name": "ipython",
    "version": 3
   },
   "file_extension": ".py",
   "mimetype": "text/x-python",
   "name": "python",
   "nbconvert_exporter": "python",
   "pygments_lexer": "ipython3",
   "version": "3.9.15"
  }
 },
 "nbformat": 4,
 "nbformat_minor": 5
}
