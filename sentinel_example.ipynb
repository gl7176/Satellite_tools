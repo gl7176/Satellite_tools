{
 "cells": [
  {
   "cell_type": "code",
   "execution_count": 1,
   "id": "8c2cbfe4",
   "metadata": {},
   "outputs": [],
   "source": [
    "import datetime\n",
    "import rasterio\n",
    "import utils\n",
    "\n",
    "\n",
    "target_date = datetime.datetime(month=2, day=1, year=2022)\n",
    "date_tolerance = 360 # plus and minus margin of target dates\n",
    "max_cloud_percent = 30 # maximum amount of cloud permitted in a candidate scene\n",
    "\n",
    "# the input raster, which defines our \"area of interest\"\n",
    "AOI_raster = 'D:/Drone shapefile/classified_corrected/AcumulacionAaron2B_classified_corrected.tif'\n",
    "\n",
    "# the directory where we store our whole satellite scenes\n",
    "dl_directory = str('D:/sat_dls/')\n",
    "\n",
    "# 10m, 20m or 60m, for now I've only coded for 10m bands (B2, B3, B4, B8)\n",
    "# https://gisgeography.com/sentinel-2-bands-combinations/\n",
    "target_bands = '30m'"
   ]
  },
  {
   "cell_type": "code",
   "execution_count": 7,
   "id": "40c5f191",
   "metadata": {},
   "outputs": [],
   "source": [
    "start_date = target_date - datetime.timedelta(days=date_tolerance)\n",
    "end_date = target_date + datetime.timedelta(days=date_tolerance)\n",
    "\n",
    "if 's2_login' not in globals():\n",
    "    import getpass\n",
    "    user = getpass.getpass(prompt = 'Enter Copernicus Username: ')      # Username for https://scihub.copernicus.eu/dhus/#/user-profile\n",
    "    password = getpass.getpass(prompt = 'Enter Copernicus Password: ')  # Password for https://scihub.copernicus.eu/dhus/#/user-profile\n",
    "    s2_login = [user, password]\n",
    "\n",
    "from shapely.geometry import Polygon, MultiPolygon\n",
    "\n",
    "dataset = rasterio.open(AOI_raster)\n",
    "raster_extent = utils.get_spatial_extent(dataset, latlon=True)\n",
    "\n",
    "# limit on the number of scenes that will be ordered, here set to 2 for testing\n",
    "#order_limit = 2"
   ]
  },
  {
   "cell_type": "code",
   "execution_count": 8,
   "id": "5e9db2a4",
   "metadata": {},
   "outputs": [
    {
     "name": "stdout",
     "output_type": "stream",
     "text": [
      "Search yields: 33 orders\n"
     ]
    }
   ],
   "source": [
    "import sentinel_tools\n",
    "s2_scenes = sentinel_tools.s2_search_query(login=s2_login,\n",
    "                            dataset='S2MSI2A', # product type: see https://sentinels.copernicus.eu/web/sentinel/user-guides/sentinel-2-msi/product-types\n",
    "                            extent=raster_extent,\n",
    "                            start_date=start_date,\n",
    "                            end_date=end_date,\n",
    "                            max_cloud_cover=max_cloud_percent\n",
    "                           )"
   ]
  },
  {
   "cell_type": "code",
   "execution_count": 9,
   "id": "16e72f63",
   "metadata": {},
   "outputs": [
    {
     "name": "stdout",
     "output_type": "stream",
     "text": [
      "S2A_MSIL2A_20210713T145731_N0301_R039_T19LCG_20210713T184642 is already downloaded\n",
      "S2A_MSIL2A_20220618T145741_N0400_R039_T19LCG_20220618T212919 is already downloaded\n",
      "S2A_MSIL2A_20220728T145741_N0400_R039_T19LCG_20220728T212801 is already downloaded\n",
      "S2A_MSIL2A_20220827T145741_N0400_R039_T19LCG_20220827T221202 is already downloaded\n",
      "S2A_MSIL2A_20220906T145741_N0400_R039_T19LCG_20220906T213301 is already downloaded\n",
      "S2A_MSIL2A_20220926T145731_N0400_R039_T19LCG_20220926T215253 is already downloaded\n",
      "S2A_MSIL2A_20221016T145731_N0400_R039_T19LCG_20221016T195254 is already downloaded\n",
      "S2A_MSIL2A_20221125T145731_N0400_R039_T19LCG_20221125T205059 is already downloaded\n",
      "S2A_MSIL2A_20221205T145731_N0400_R039_T19LCG_20221205T195755 is already downloaded\n",
      "S2B_MSIL2A_20220623T145729_N0400_R039_T19LCG_20220623T183341 is already downloaded\n",
      "S2B_MSIL2A_20220723T145729_N0400_R039_T19LCG_20220723T185043 is already downloaded\n",
      "S2B_MSIL2A_20220822T145729_N0400_R039_T19LCG_20220822T184327 is already downloaded\n",
      "S2B_MSIL2A_20220901T145729_N0400_R039_T19LCG_20220901T184119 is already downloaded\n"
     ]
    }
   ],
   "source": [
    "s2_keys = utils.extract_order_keys(sentinel=s2_scenes)['sentinel-2'] #extracts \"order codes\" from our scene list\n",
    "s2_dates = utils.extract_order_dates(sentinel=s2_keys)['sentinel-2'] #extracts \"dates\" from our order codes\n",
    "dl_keys = utils.check_dls(sentinel=s2_scenes, dl_directory=dl_directory) #checks our orders against downloads in the folder \n"
   ]
  },
  {
   "cell_type": "code",
   "execution_count": null,
   "id": "66baa52e",
   "metadata": {
    "scrolled": true
   },
   "outputs": [
    {
     "name": "stdout",
     "output_type": "stream",
     "text": [
      "Downloading sentinel-2\n",
      "4342c771-cb14-4e40-b484-8666497146d7\n",
      "unknown error: <class 'sentinelsat.exceptions.ServerError'>\n",
      "1c28afe5-b79f-42e5-80f6-cfa820c82775\n",
      "unknown error: <class 'sentinelsat.exceptions.ServerError'>\n",
      "ce359d10-4fcb-4629-83ca-566df35b4c2d\n",
      "unknown error: <class 'sentinelsat.exceptions.ServerError'>\n",
      "fa3d2558-4da0-407b-b1d7-868520320f3f\n"
     ]
    },
    {
     "data": {
      "application/vnd.jupyter.widget-view+json": {
       "model_id": "7023d082653449968ea05f7b9647ace2",
       "version_major": 2,
       "version_minor": 0
      },
      "text/plain": [
       "Downloading T19LCG_20211021T145731_AOT_10m.jp2:   0%|          | 0.00/396k [00:00<?, ?B/s]"
      ]
     },
     "metadata": {},
     "output_type": "display_data"
    },
    {
     "data": {
      "application/vnd.jupyter.widget-view+json": {
       "model_id": "",
       "version_major": 2,
       "version_minor": 0
      },
      "text/plain": [
       "SHA3_256 checksumming:   0%|          | 0.00/396k [00:00<?, ?B/s]"
      ]
     },
     "metadata": {},
     "output_type": "display_data"
    },
    {
     "data": {
      "application/vnd.jupyter.widget-view+json": {
       "model_id": "7f559cb1d0bf445a913c8bb0b3f04eef",
       "version_major": 2,
       "version_minor": 0
      },
      "text/plain": [
       "Downloading T19LCG_20211021T145731_B02_10m.jp2:   0%|          | 0.00/104M [00:00<?, ?B/s]"
      ]
     },
     "metadata": {},
     "output_type": "display_data"
    },
    {
     "data": {
      "application/vnd.jupyter.widget-view+json": {
       "model_id": "",
       "version_major": 2,
       "version_minor": 0
      },
      "text/plain": [
       "SHA3_256 checksumming:   0%|          | 0.00/104M [00:00<?, ?B/s]"
      ]
     },
     "metadata": {},
     "output_type": "display_data"
    },
    {
     "data": {
      "application/vnd.jupyter.widget-view+json": {
       "model_id": "bed24131b530409a9a8787a7e767b1c9",
       "version_major": 2,
       "version_minor": 0
      },
      "text/plain": [
       "Downloading T19LCG_20211021T145731_B03_10m.jp2:   0%|          | 0.00/116M [00:00<?, ?B/s]"
      ]
     },
     "metadata": {},
     "output_type": "display_data"
    },
    {
     "data": {
      "application/vnd.jupyter.widget-view+json": {
       "model_id": "",
       "version_major": 2,
       "version_minor": 0
      },
      "text/plain": [
       "SHA3_256 checksumming:   0%|          | 0.00/116M [00:00<?, ?B/s]"
      ]
     },
     "metadata": {},
     "output_type": "display_data"
    },
    {
     "data": {
      "application/vnd.jupyter.widget-view+json": {
       "model_id": "bfa3255e42704441ada1714b67b828fb",
       "version_major": 2,
       "version_minor": 0
      },
      "text/plain": [
       "Downloading T19LCG_20211021T145731_B04_10m.jp2:   0%|          | 0.00/106M [00:00<?, ?B/s]"
      ]
     },
     "metadata": {},
     "output_type": "display_data"
    },
    {
     "data": {
      "application/vnd.jupyter.widget-view+json": {
       "model_id": "",
       "version_major": 2,
       "version_minor": 0
      },
      "text/plain": [
       "SHA3_256 checksumming:   0%|          | 0.00/106M [00:00<?, ?B/s]"
      ]
     },
     "metadata": {},
     "output_type": "display_data"
    },
    {
     "data": {
      "application/vnd.jupyter.widget-view+json": {
       "model_id": "99b78cfd0fa84833bfcceaa15315621f",
       "version_major": 2,
       "version_minor": 0
      },
      "text/plain": [
       "Downloading T19LCG_20211021T145731_B08_10m.jp2:   0%|          | 0.00/135M [00:00<?, ?B/s]"
      ]
     },
     "metadata": {},
     "output_type": "display_data"
    },
    {
     "data": {
      "application/vnd.jupyter.widget-view+json": {
       "model_id": "",
       "version_major": 2,
       "version_minor": 0
      },
      "text/plain": [
       "SHA3_256 checksumming:   0%|          | 0.00/135M [00:00<?, ?B/s]"
      ]
     },
     "metadata": {},
     "output_type": "display_data"
    },
    {
     "data": {
      "application/vnd.jupyter.widget-view+json": {
       "model_id": "075f6cdbda9d4283b61e76e8a3f91435",
       "version_major": 2,
       "version_minor": 0
      },
      "text/plain": [
       "Downloading T19LCG_20211021T145731_TCI_10m.jp2:   0%|          | 0.00/135M [00:00<?, ?B/s]"
      ]
     },
     "metadata": {},
     "output_type": "display_data"
    },
    {
     "data": {
      "application/vnd.jupyter.widget-view+json": {
       "model_id": "",
       "version_major": 2,
       "version_minor": 0
      },
      "text/plain": [
       "SHA3_256 checksumming:   0%|          | 0.00/135M [00:00<?, ?B/s]"
      ]
     },
     "metadata": {},
     "output_type": "display_data"
    },
    {
     "data": {
      "application/vnd.jupyter.widget-view+json": {
       "model_id": "e7d5029920134e1681087873436ff77e",
       "version_major": 2,
       "version_minor": 0
      },
      "text/plain": [
       "Downloading T19LCG_20211021T145731_WVP_10m.jp2:   0%|          | 0.00/107M [00:00<?, ?B/s]"
      ]
     },
     "metadata": {},
     "output_type": "display_data"
    },
    {
     "data": {
      "application/vnd.jupyter.widget-view+json": {
       "model_id": "",
       "version_major": 2,
       "version_minor": 0
      },
      "text/plain": [
       "SHA3_256 checksumming:   0%|          | 0.00/107M [00:00<?, ?B/s]"
      ]
     },
     "metadata": {},
     "output_type": "display_data"
    },
    {
     "data": {
      "application/vnd.jupyter.widget-view+json": {
       "model_id": "e5b00bf1c96a4bddb639ffa8645b81ae",
       "version_major": 2,
       "version_minor": 0
      },
      "text/plain": [
       "Downloading T19LCG_20211021T145731_AOT_20m.jp2:   0%|          | 0.00/405k [00:00<?, ?B/s]"
      ]
     },
     "metadata": {},
     "output_type": "display_data"
    },
    {
     "data": {
      "application/vnd.jupyter.widget-view+json": {
       "model_id": "",
       "version_major": 2,
       "version_minor": 0
      },
      "text/plain": [
       "SHA3_256 checksumming:   0%|          | 0.00/405k [00:00<?, ?B/s]"
      ]
     },
     "metadata": {},
     "output_type": "display_data"
    },
    {
     "data": {
      "application/vnd.jupyter.widget-view+json": {
       "model_id": "67e92e45489b47b8828723aabdc1e2ef",
       "version_major": 2,
       "version_minor": 0
      },
      "text/plain": [
       "Downloading T19LCG_20211021T145731_B02_20m.jp2:   0%|          | 0.00/28.9M [00:00<?, ?B/s]"
      ]
     },
     "metadata": {},
     "output_type": "display_data"
    },
    {
     "data": {
      "application/vnd.jupyter.widget-view+json": {
       "model_id": "",
       "version_major": 2,
       "version_minor": 0
      },
      "text/plain": [
       "SHA3_256 checksumming:   0%|          | 0.00/28.9M [00:00<?, ?B/s]"
      ]
     },
     "metadata": {},
     "output_type": "display_data"
    },
    {
     "data": {
      "application/vnd.jupyter.widget-view+json": {
       "model_id": "69f3229c21354e62a3b00edd281de7c7",
       "version_major": 2,
       "version_minor": 0
      },
      "text/plain": [
       "Downloading T19LCG_20211021T145731_B03_20m.jp2:   0%|          | 0.00/32.2M [00:00<?, ?B/s]"
      ]
     },
     "metadata": {},
     "output_type": "display_data"
    },
    {
     "data": {
      "application/vnd.jupyter.widget-view+json": {
       "model_id": "",
       "version_major": 2,
       "version_minor": 0
      },
      "text/plain": [
       "SHA3_256 checksumming:   0%|          | 0.00/32.2M [00:00<?, ?B/s]"
      ]
     },
     "metadata": {},
     "output_type": "display_data"
    },
    {
     "data": {
      "application/vnd.jupyter.widget-view+json": {
       "model_id": "69787ae60532468980a015a26d339887",
       "version_major": 2,
       "version_minor": 0
      },
      "text/plain": [
       "Downloading T19LCG_20211021T145731_B04_20m.jp2:   0%|          | 0.00/30.2M [00:00<?, ?B/s]"
      ]
     },
     "metadata": {},
     "output_type": "display_data"
    },
    {
     "data": {
      "application/vnd.jupyter.widget-view+json": {
       "model_id": "",
       "version_major": 2,
       "version_minor": 0
      },
      "text/plain": [
       "SHA3_256 checksumming:   0%|          | 0.00/30.2M [00:00<?, ?B/s]"
      ]
     },
     "metadata": {},
     "output_type": "display_data"
    },
    {
     "data": {
      "application/vnd.jupyter.widget-view+json": {
       "model_id": "7c3eb555211948f587b9047b44f0f7e6",
       "version_major": 2,
       "version_minor": 0
      },
      "text/plain": [
       "Downloading T19LCG_20211021T145731_B05_20m.jp2:   0%|          | 0.00/33.5M [00:00<?, ?B/s]"
      ]
     },
     "metadata": {},
     "output_type": "display_data"
    },
    {
     "data": {
      "application/vnd.jupyter.widget-view+json": {
       "model_id": "",
       "version_major": 2,
       "version_minor": 0
      },
      "text/plain": [
       "SHA3_256 checksumming:   0%|          | 0.00/33.5M [00:00<?, ?B/s]"
      ]
     },
     "metadata": {},
     "output_type": "display_data"
    },
    {
     "data": {
      "application/vnd.jupyter.widget-view+json": {
       "model_id": "cbbe5cd545394f15ba50fa5842ad9bed",
       "version_major": 2,
       "version_minor": 0
      },
      "text/plain": [
       "Downloading T19LCG_20211021T145731_B06_20m.jp2:   0%|          | 0.00/33.8M [00:00<?, ?B/s]"
      ]
     },
     "metadata": {},
     "output_type": "display_data"
    },
    {
     "data": {
      "application/vnd.jupyter.widget-view+json": {
       "model_id": "",
       "version_major": 2,
       "version_minor": 0
      },
      "text/plain": [
       "SHA3_256 checksumming:   0%|          | 0.00/33.8M [00:00<?, ?B/s]"
      ]
     },
     "metadata": {},
     "output_type": "display_data"
    },
    {
     "data": {
      "application/vnd.jupyter.widget-view+json": {
       "model_id": "66f169797eea4aee8fa13f7d9a74f8bf",
       "version_major": 2,
       "version_minor": 0
      },
      "text/plain": [
       "Downloading T19LCG_20211021T145731_B07_20m.jp2:   0%|          | 0.00/33.8M [00:00<?, ?B/s]"
      ]
     },
     "metadata": {},
     "output_type": "display_data"
    },
    {
     "data": {
      "application/vnd.jupyter.widget-view+json": {
       "model_id": "",
       "version_major": 2,
       "version_minor": 0
      },
      "text/plain": [
       "SHA3_256 checksumming:   0%|          | 0.00/33.8M [00:00<?, ?B/s]"
      ]
     },
     "metadata": {},
     "output_type": "display_data"
    },
    {
     "data": {
      "application/vnd.jupyter.widget-view+json": {
       "model_id": "0d5e7cd7a15f498c9647b479f74d3299",
       "version_major": 2,
       "version_minor": 0
      },
      "text/plain": [
       "Downloading T19LCG_20211021T145731_B11_20m.jp2:   0%|          | 0.00/33.7M [00:00<?, ?B/s]"
      ]
     },
     "metadata": {},
     "output_type": "display_data"
    },
    {
     "data": {
      "application/vnd.jupyter.widget-view+json": {
       "model_id": "",
       "version_major": 2,
       "version_minor": 0
      },
      "text/plain": [
       "SHA3_256 checksumming:   0%|          | 0.00/33.7M [00:00<?, ?B/s]"
      ]
     },
     "metadata": {},
     "output_type": "display_data"
    },
    {
     "data": {
      "application/vnd.jupyter.widget-view+json": {
       "model_id": "bc2318bed97643938efd6d8ab20e61b1",
       "version_major": 2,
       "version_minor": 0
      },
      "text/plain": [
       "Downloading T19LCG_20211021T145731_B12_20m.jp2:   0%|          | 0.00/31.2M [00:00<?, ?B/s]"
      ]
     },
     "metadata": {},
     "output_type": "display_data"
    },
    {
     "data": {
      "application/vnd.jupyter.widget-view+json": {
       "model_id": "",
       "version_major": 2,
       "version_minor": 0
      },
      "text/plain": [
       "SHA3_256 checksumming:   0%|          | 0.00/31.2M [00:00<?, ?B/s]"
      ]
     },
     "metadata": {},
     "output_type": "display_data"
    },
    {
     "data": {
      "application/vnd.jupyter.widget-view+json": {
       "model_id": "a0ffeb06ba1f4e7e815679b3d5ac78cc",
       "version_major": 2,
       "version_minor": 0
      },
      "text/plain": [
       "Downloading T19LCG_20211021T145731_B8A_20m.jp2:   0%|          | 0.00/33.8M [00:00<?, ?B/s]"
      ]
     },
     "metadata": {},
     "output_type": "display_data"
    },
    {
     "data": {
      "application/vnd.jupyter.widget-view+json": {
       "model_id": "",
       "version_major": 2,
       "version_minor": 0
      },
      "text/plain": [
       "SHA3_256 checksumming:   0%|          | 0.00/33.8M [00:00<?, ?B/s]"
      ]
     },
     "metadata": {},
     "output_type": "display_data"
    },
    {
     "data": {
      "application/vnd.jupyter.widget-view+json": {
       "model_id": "874a6e20859443ec96591797c9fab426",
       "version_major": 2,
       "version_minor": 0
      },
      "text/plain": [
       "Downloading T19LCG_20211021T145731_SCL_20m.jp2:   0%|          | 0.00/1.06M [00:00<?, ?B/s]"
      ]
     },
     "metadata": {},
     "output_type": "display_data"
    },
    {
     "data": {
      "application/vnd.jupyter.widget-view+json": {
       "model_id": "",
       "version_major": 2,
       "version_minor": 0
      },
      "text/plain": [
       "SHA3_256 checksumming:   0%|          | 0.00/1.06M [00:00<?, ?B/s]"
      ]
     },
     "metadata": {},
     "output_type": "display_data"
    },
    {
     "data": {
      "application/vnd.jupyter.widget-view+json": {
       "model_id": "6b9d32ba83294c15825c4489c362d038",
       "version_major": 2,
       "version_minor": 0
      },
      "text/plain": [
       "Downloading T19LCG_20211021T145731_TCI_20m.jp2:   0%|          | 0.00/33.9M [00:00<?, ?B/s]"
      ]
     },
     "metadata": {},
     "output_type": "display_data"
    },
    {
     "data": {
      "application/vnd.jupyter.widget-view+json": {
       "model_id": "",
       "version_major": 2,
       "version_minor": 0
      },
      "text/plain": [
       "SHA3_256 checksumming:   0%|          | 0.00/33.9M [00:00<?, ?B/s]"
      ]
     },
     "metadata": {},
     "output_type": "display_data"
    },
    {
     "data": {
      "application/vnd.jupyter.widget-view+json": {
       "model_id": "95b8694d488b477faa14a56c7c61fd9b",
       "version_major": 2,
       "version_minor": 0
      },
      "text/plain": [
       "Downloading T19LCG_20211021T145731_WVP_20m.jp2:   0%|          | 0.00/33.3M [00:00<?, ?B/s]"
      ]
     },
     "metadata": {},
     "output_type": "display_data"
    },
    {
     "data": {
      "application/vnd.jupyter.widget-view+json": {
       "model_id": "",
       "version_major": 2,
       "version_minor": 0
      },
      "text/plain": [
       "SHA3_256 checksumming:   0%|          | 0.00/33.3M [00:00<?, ?B/s]"
      ]
     },
     "metadata": {},
     "output_type": "display_data"
    },
    {
     "data": {
      "application/vnd.jupyter.widget-view+json": {
       "model_id": "4dc87d18c39242fbbabc87807667dc06",
       "version_major": 2,
       "version_minor": 0
      },
      "text/plain": [
       "Downloading T19LCG_20211021T145731_AOT_60m.jp2:   0%|          | 0.00/142k [00:00<?, ?B/s]"
      ]
     },
     "metadata": {},
     "output_type": "display_data"
    },
    {
     "data": {
      "application/vnd.jupyter.widget-view+json": {
       "model_id": "",
       "version_major": 2,
       "version_minor": 0
      },
      "text/plain": [
       "SHA3_256 checksumming:   0%|          | 0.00/142k [00:00<?, ?B/s]"
      ]
     },
     "metadata": {},
     "output_type": "display_data"
    },
    {
     "data": {
      "application/vnd.jupyter.widget-view+json": {
       "model_id": "94046cd90c0f447f8700bc7823cc659e",
       "version_major": 2,
       "version_minor": 0
      },
      "text/plain": [
       "Downloading T19LCG_20211021T145731_B01_60m.jp2:   0%|          | 0.00/3.13M [00:00<?, ?B/s]"
      ]
     },
     "metadata": {},
     "output_type": "display_data"
    },
    {
     "data": {
      "application/vnd.jupyter.widget-view+json": {
       "model_id": "",
       "version_major": 2,
       "version_minor": 0
      },
      "text/plain": [
       "SHA3_256 checksumming:   0%|          | 0.00/3.13M [00:00<?, ?B/s]"
      ]
     },
     "metadata": {},
     "output_type": "display_data"
    },
    {
     "data": {
      "application/vnd.jupyter.widget-view+json": {
       "model_id": "c3b7bd62f5cb46ab95c220b1bac213b7",
       "version_major": 2,
       "version_minor": 0
      },
      "text/plain": [
       "Downloading T19LCG_20211021T145731_B02_60m.jp2:   0%|          | 0.00/3.63M [00:00<?, ?B/s]"
      ]
     },
     "metadata": {},
     "output_type": "display_data"
    },
    {
     "data": {
      "application/vnd.jupyter.widget-view+json": {
       "model_id": "",
       "version_major": 2,
       "version_minor": 0
      },
      "text/plain": [
       "SHA3_256 checksumming:   0%|          | 0.00/3.63M [00:00<?, ?B/s]"
      ]
     },
     "metadata": {},
     "output_type": "display_data"
    },
    {
     "data": {
      "application/vnd.jupyter.widget-view+json": {
       "model_id": "046d632b95564e28b1e06c8cbd5d7698",
       "version_major": 2,
       "version_minor": 0
      },
      "text/plain": [
       "Downloading T19LCG_20211021T145731_B03_60m.jp2:   0%|          | 0.00/3.75M [00:00<?, ?B/s]"
      ]
     },
     "metadata": {},
     "output_type": "display_data"
    },
    {
     "data": {
      "application/vnd.jupyter.widget-view+json": {
       "model_id": "",
       "version_major": 2,
       "version_minor": 0
      },
      "text/plain": [
       "SHA3_256 checksumming:   0%|          | 0.00/3.75M [00:00<?, ?B/s]"
      ]
     },
     "metadata": {},
     "output_type": "display_data"
    },
    {
     "data": {
      "application/vnd.jupyter.widget-view+json": {
       "model_id": "9ac1db1dae534030b1df6a325df3524c",
       "version_major": 2,
       "version_minor": 0
      },
      "text/plain": [
       "Downloading T19LCG_20211021T145731_B04_60m.jp2:   0%|          | 0.00/3.77M [00:00<?, ?B/s]"
      ]
     },
     "metadata": {},
     "output_type": "display_data"
    },
    {
     "data": {
      "application/vnd.jupyter.widget-view+json": {
       "model_id": "",
       "version_major": 2,
       "version_minor": 0
      },
      "text/plain": [
       "SHA3_256 checksumming:   0%|          | 0.00/3.77M [00:00<?, ?B/s]"
      ]
     },
     "metadata": {},
     "output_type": "display_data"
    },
    {
     "data": {
      "application/vnd.jupyter.widget-view+json": {
       "model_id": "ff8707af78df456f8087b97009d896d0",
       "version_major": 2,
       "version_minor": 0
      },
      "text/plain": [
       "Downloading T19LCG_20211021T145731_B05_60m.jp2:   0%|          | 0.00/3.74M [00:00<?, ?B/s]"
      ]
     },
     "metadata": {},
     "output_type": "display_data"
    },
    {
     "data": {
      "application/vnd.jupyter.widget-view+json": {
       "model_id": "",
       "version_major": 2,
       "version_minor": 0
      },
      "text/plain": [
       "SHA3_256 checksumming:   0%|          | 0.00/3.74M [00:00<?, ?B/s]"
      ]
     },
     "metadata": {},
     "output_type": "display_data"
    },
    {
     "data": {
      "application/vnd.jupyter.widget-view+json": {
       "model_id": "59f2f09425e04a8bb4c3e72944691505",
       "version_major": 2,
       "version_minor": 0
      },
      "text/plain": [
       "Downloading T19LCG_20211021T145731_B06_60m.jp2:   0%|          | 0.00/3.76M [00:00<?, ?B/s]"
      ]
     },
     "metadata": {},
     "output_type": "display_data"
    },
    {
     "data": {
      "application/vnd.jupyter.widget-view+json": {
       "model_id": "",
       "version_major": 2,
       "version_minor": 0
      },
      "text/plain": [
       "SHA3_256 checksumming:   0%|          | 0.00/3.76M [00:00<?, ?B/s]"
      ]
     },
     "metadata": {},
     "output_type": "display_data"
    },
    {
     "data": {
      "application/vnd.jupyter.widget-view+json": {
       "model_id": "87cf21eaf6764ebdaa4811a014332109",
       "version_major": 2,
       "version_minor": 0
      },
      "text/plain": [
       "Downloading T19LCG_20211021T145731_B07_60m.jp2:   0%|          | 0.00/3.75M [00:00<?, ?B/s]"
      ]
     },
     "metadata": {},
     "output_type": "display_data"
    },
    {
     "data": {
      "application/vnd.jupyter.widget-view+json": {
       "model_id": "",
       "version_major": 2,
       "version_minor": 0
      },
      "text/plain": [
       "SHA3_256 checksumming:   0%|          | 0.00/3.75M [00:00<?, ?B/s]"
      ]
     },
     "metadata": {},
     "output_type": "display_data"
    },
    {
     "data": {
      "application/vnd.jupyter.widget-view+json": {
       "model_id": "de75353cb31640daa30466eb49eb019c",
       "version_major": 2,
       "version_minor": 0
      },
      "text/plain": [
       "Downloading T19LCG_20211021T145731_B09_60m.jp2:   0%|          | 0.00/3.75M [00:00<?, ?B/s]"
      ]
     },
     "metadata": {},
     "output_type": "display_data"
    },
    {
     "data": {
      "application/vnd.jupyter.widget-view+json": {
       "model_id": "",
       "version_major": 2,
       "version_minor": 0
      },
      "text/plain": [
       "SHA3_256 checksumming:   0%|          | 0.00/3.75M [00:00<?, ?B/s]"
      ]
     },
     "metadata": {},
     "output_type": "display_data"
    },
    {
     "data": {
      "application/vnd.jupyter.widget-view+json": {
       "model_id": "5ea4313ded9a4474abe9cdf94ce29c71",
       "version_major": 2,
       "version_minor": 0
      },
      "text/plain": [
       "Downloading T19LCG_20211021T145731_B11_60m.jp2:   0%|          | 0.00/3.74M [00:00<?, ?B/s]"
      ]
     },
     "metadata": {},
     "output_type": "display_data"
    },
    {
     "data": {
      "application/vnd.jupyter.widget-view+json": {
       "model_id": "",
       "version_major": 2,
       "version_minor": 0
      },
      "text/plain": [
       "SHA3_256 checksumming:   0%|          | 0.00/3.74M [00:00<?, ?B/s]"
      ]
     },
     "metadata": {},
     "output_type": "display_data"
    },
    {
     "data": {
      "application/vnd.jupyter.widget-view+json": {
       "model_id": "ffdb630109aa4099b5ceb72acd85e15e",
       "version_major": 2,
       "version_minor": 0
      },
      "text/plain": [
       "Downloading T19LCG_20211021T145731_B12_60m.jp2:   0%|          | 0.00/3.73M [00:00<?, ?B/s]"
      ]
     },
     "metadata": {},
     "output_type": "display_data"
    },
    {
     "data": {
      "application/vnd.jupyter.widget-view+json": {
       "model_id": "",
       "version_major": 2,
       "version_minor": 0
      },
      "text/plain": [
       "SHA3_256 checksumming:   0%|          | 0.00/3.73M [00:00<?, ?B/s]"
      ]
     },
     "metadata": {},
     "output_type": "display_data"
    },
    {
     "data": {
      "application/vnd.jupyter.widget-view+json": {
       "model_id": "634aa3447d9546eab73caca000c04d9f",
       "version_major": 2,
       "version_minor": 0
      },
      "text/plain": [
       "Downloading T19LCG_20211021T145731_B8A_60m.jp2:   0%|          | 0.00/3.75M [00:00<?, ?B/s]"
      ]
     },
     "metadata": {},
     "output_type": "display_data"
    },
    {
     "data": {
      "application/vnd.jupyter.widget-view+json": {
       "model_id": "",
       "version_major": 2,
       "version_minor": 0
      },
      "text/plain": [
       "SHA3_256 checksumming:   0%|          | 0.00/3.75M [00:00<?, ?B/s]"
      ]
     },
     "metadata": {},
     "output_type": "display_data"
    },
    {
     "data": {
      "application/vnd.jupyter.widget-view+json": {
       "model_id": "37e7903cd351484aa82bf841027e7ada",
       "version_major": 2,
       "version_minor": 0
      },
      "text/plain": [
       "Downloading T19LCG_20211021T145731_SCL_60m.jp2:   0%|          | 0.00/263k [00:00<?, ?B/s]"
      ]
     },
     "metadata": {},
     "output_type": "display_data"
    },
    {
     "data": {
      "application/vnd.jupyter.widget-view+json": {
       "model_id": "",
       "version_major": 2,
       "version_minor": 0
      },
      "text/plain": [
       "SHA3_256 checksumming:   0%|          | 0.00/263k [00:00<?, ?B/s]"
      ]
     },
     "metadata": {},
     "output_type": "display_data"
    },
    {
     "data": {
      "application/vnd.jupyter.widget-view+json": {
       "model_id": "dcf62c00dcac4fbdb8f7b872b3a485c0",
       "version_major": 2,
       "version_minor": 0
      },
      "text/plain": [
       "Downloading T19LCG_20211021T145731_TCI_60m.jp2:   0%|          | 0.00/3.77M [00:00<?, ?B/s]"
      ]
     },
     "metadata": {},
     "output_type": "display_data"
    },
    {
     "data": {
      "application/vnd.jupyter.widget-view+json": {
       "model_id": "",
       "version_major": 2,
       "version_minor": 0
      },
      "text/plain": [
       "SHA3_256 checksumming:   0%|          | 0.00/3.77M [00:00<?, ?B/s]"
      ]
     },
     "metadata": {},
     "output_type": "display_data"
    },
    {
     "data": {
      "application/vnd.jupyter.widget-view+json": {
       "model_id": "1656d00c92bc445cb6ccd7716587b26b",
       "version_major": 2,
       "version_minor": 0
      },
      "text/plain": [
       "Downloading T19LCG_20211021T145731_WVP_60m.jp2:   0%|          | 0.00/3.75M [00:00<?, ?B/s]"
      ]
     },
     "metadata": {},
     "output_type": "display_data"
    },
    {
     "data": {
      "application/vnd.jupyter.widget-view+json": {
       "model_id": "",
       "version_major": 2,
       "version_minor": 0
      },
      "text/plain": [
       "SHA3_256 checksumming:   0%|          | 0.00/3.75M [00:00<?, ?B/s]"
      ]
     },
     "metadata": {},
     "output_type": "display_data"
    },
    {
     "name": "stdout",
     "output_type": "stream",
     "text": [
      "b74a5498-edd3-4cfd-8d7d-ceb9bea075ba\n"
     ]
    },
    {
     "data": {
      "application/vnd.jupyter.widget-view+json": {
       "model_id": "ba73c00ae24949e0b7c108d0a26d822d",
       "version_major": 2,
       "version_minor": 0
      },
      "text/plain": [
       "Downloading T19LCG_20211011T145731_AOT_10m.jp2:   0%|          | 0.00/599k [00:00<?, ?B/s]"
      ]
     },
     "metadata": {},
     "output_type": "display_data"
    },
    {
     "data": {
      "application/vnd.jupyter.widget-view+json": {
       "model_id": "",
       "version_major": 2,
       "version_minor": 0
      },
      "text/plain": [
       "SHA3_256 checksumming:   0%|          | 0.00/599k [00:00<?, ?B/s]"
      ]
     },
     "metadata": {},
     "output_type": "display_data"
    },
    {
     "data": {
      "application/vnd.jupyter.widget-view+json": {
       "model_id": "5f121e140ac94978973d4779af5c4b45",
       "version_major": 2,
       "version_minor": 0
      },
      "text/plain": [
       "Downloading T19LCG_20211011T145731_B02_10m.jp2:   0%|          | 0.00/116M [00:00<?, ?B/s]"
      ]
     },
     "metadata": {},
     "output_type": "display_data"
    },
    {
     "data": {
      "application/vnd.jupyter.widget-view+json": {
       "model_id": "",
       "version_major": 2,
       "version_minor": 0
      },
      "text/plain": [
       "SHA3_256 checksumming:   0%|          | 0.00/116M [00:00<?, ?B/s]"
      ]
     },
     "metadata": {},
     "output_type": "display_data"
    },
    {
     "data": {
      "application/vnd.jupyter.widget-view+json": {
       "model_id": "7053037886a74a42b5f58fc61dcfda7b",
       "version_major": 2,
       "version_minor": 0
      },
      "text/plain": [
       "Downloading T19LCG_20211011T145731_B03_10m.jp2:   0%|          | 0.00/122M [00:00<?, ?B/s]"
      ]
     },
     "metadata": {},
     "output_type": "display_data"
    },
    {
     "data": {
      "application/vnd.jupyter.widget-view+json": {
       "model_id": "",
       "version_major": 2,
       "version_minor": 0
      },
      "text/plain": [
       "SHA3_256 checksumming:   0%|          | 0.00/122M [00:00<?, ?B/s]"
      ]
     },
     "metadata": {},
     "output_type": "display_data"
    },
    {
     "data": {
      "application/vnd.jupyter.widget-view+json": {
       "model_id": "a66090523d714331b8682836a16aef7e",
       "version_major": 2,
       "version_minor": 0
      },
      "text/plain": [
       "Downloading T19LCG_20211011T145731_B04_10m.jp2:   0%|          | 0.00/116M [00:00<?, ?B/s]"
      ]
     },
     "metadata": {},
     "output_type": "display_data"
    },
    {
     "data": {
      "application/vnd.jupyter.widget-view+json": {
       "model_id": "",
       "version_major": 2,
       "version_minor": 0
      },
      "text/plain": [
       "SHA3_256 checksumming:   0%|          | 0.00/116M [00:00<?, ?B/s]"
      ]
     },
     "metadata": {},
     "output_type": "display_data"
    },
    {
     "data": {
      "application/vnd.jupyter.widget-view+json": {
       "model_id": "9c3ae04e8cd5440e8e7891f9158d605d",
       "version_major": 2,
       "version_minor": 0
      },
      "text/plain": [
       "Downloading T19LCG_20211011T145731_B08_10m.jp2:   0%|          | 0.00/135M [00:00<?, ?B/s]"
      ]
     },
     "metadata": {},
     "output_type": "display_data"
    },
    {
     "data": {
      "application/vnd.jupyter.widget-view+json": {
       "model_id": "",
       "version_major": 2,
       "version_minor": 0
      },
      "text/plain": [
       "SHA3_256 checksumming:   0%|          | 0.00/135M [00:00<?, ?B/s]"
      ]
     },
     "metadata": {},
     "output_type": "display_data"
    },
    {
     "data": {
      "application/vnd.jupyter.widget-view+json": {
       "model_id": "4c457fb307c94addb0f8cc699ffe5d93",
       "version_major": 2,
       "version_minor": 0
      },
      "text/plain": [
       "Downloading T19LCG_20211011T145731_TCI_10m.jp2:   0%|          | 0.00/135M [00:00<?, ?B/s]"
      ]
     },
     "metadata": {},
     "output_type": "display_data"
    },
    {
     "data": {
      "application/vnd.jupyter.widget-view+json": {
       "model_id": "",
       "version_major": 2,
       "version_minor": 0
      },
      "text/plain": [
       "SHA3_256 checksumming:   0%|          | 0.00/135M [00:00<?, ?B/s]"
      ]
     },
     "metadata": {},
     "output_type": "display_data"
    },
    {
     "data": {
      "application/vnd.jupyter.widget-view+json": {
       "model_id": "8c8c197bb23b4aefb615629f1b47a299",
       "version_major": 2,
       "version_minor": 0
      },
      "text/plain": [
       "Downloading T19LCG_20211011T145731_WVP_10m.jp2:   0%|          | 0.00/91.4M [00:00<?, ?B/s]"
      ]
     },
     "metadata": {},
     "output_type": "display_data"
    },
    {
     "data": {
      "application/vnd.jupyter.widget-view+json": {
       "model_id": "",
       "version_major": 2,
       "version_minor": 0
      },
      "text/plain": [
       "SHA3_256 checksumming:   0%|          | 0.00/91.4M [00:00<?, ?B/s]"
      ]
     },
     "metadata": {},
     "output_type": "display_data"
    },
    {
     "data": {
      "application/vnd.jupyter.widget-view+json": {
       "model_id": "700809728e3d4db9b23c32ae86707579",
       "version_major": 2,
       "version_minor": 0
      },
      "text/plain": [
       "Downloading T19LCG_20211011T145731_AOT_20m.jp2:   0%|          | 0.00/570k [00:00<?, ?B/s]"
      ]
     },
     "metadata": {},
     "output_type": "display_data"
    },
    {
     "data": {
      "application/vnd.jupyter.widget-view+json": {
       "model_id": "",
       "version_major": 2,
       "version_minor": 0
      },
      "text/plain": [
       "SHA3_256 checksumming:   0%|          | 0.00/570k [00:00<?, ?B/s]"
      ]
     },
     "metadata": {},
     "output_type": "display_data"
    },
    {
     "data": {
      "application/vnd.jupyter.widget-view+json": {
       "model_id": "341a94a9befa45539544b139729280f3",
       "version_major": 2,
       "version_minor": 0
      },
      "text/plain": [
       "Downloading T19LCG_20211011T145731_B02_20m.jp2:   0%|          | 0.00/33.7M [00:00<?, ?B/s]"
      ]
     },
     "metadata": {},
     "output_type": "display_data"
    },
    {
     "data": {
      "application/vnd.jupyter.widget-view+json": {
       "model_id": "",
       "version_major": 2,
       "version_minor": 0
      },
      "text/plain": [
       "SHA3_256 checksumming:   0%|          | 0.00/33.7M [00:00<?, ?B/s]"
      ]
     },
     "metadata": {},
     "output_type": "display_data"
    },
    {
     "data": {
      "application/vnd.jupyter.widget-view+json": {
       "model_id": "9c776198be8a4676a54f21f55a87077b",
       "version_major": 2,
       "version_minor": 0
      },
      "text/plain": [
       "Downloading T19LCG_20211011T145731_B03_20m.jp2:   0%|          | 0.00/33.8M [00:00<?, ?B/s]"
      ]
     },
     "metadata": {},
     "output_type": "display_data"
    },
    {
     "data": {
      "application/vnd.jupyter.widget-view+json": {
       "model_id": "",
       "version_major": 2,
       "version_minor": 0
      },
      "text/plain": [
       "SHA3_256 checksumming:   0%|          | 0.00/33.8M [00:00<?, ?B/s]"
      ]
     },
     "metadata": {},
     "output_type": "display_data"
    },
    {
     "data": {
      "application/vnd.jupyter.widget-view+json": {
       "model_id": "5c4c706fc3d34f95b4722c6643944c55",
       "version_major": 2,
       "version_minor": 0
      },
      "text/plain": [
       "Downloading T19LCG_20211011T145731_B04_20m.jp2:   0%|          | 0.00/33.8M [00:00<?, ?B/s]"
      ]
     },
     "metadata": {},
     "output_type": "display_data"
    },
    {
     "data": {
      "application/vnd.jupyter.widget-view+json": {
       "model_id": "",
       "version_major": 2,
       "version_minor": 0
      },
      "text/plain": [
       "SHA3_256 checksumming:   0%|          | 0.00/33.8M [00:00<?, ?B/s]"
      ]
     },
     "metadata": {},
     "output_type": "display_data"
    },
    {
     "data": {
      "application/vnd.jupyter.widget-view+json": {
       "model_id": "f5d599e518b040a49c9e9488e3704f1c",
       "version_major": 2,
       "version_minor": 0
      },
      "text/plain": [
       "Downloading T19LCG_20211011T145731_B05_20m.jp2:   0%|          | 0.00/33.8M [00:00<?, ?B/s]"
      ]
     },
     "metadata": {},
     "output_type": "display_data"
    },
    {
     "data": {
      "application/vnd.jupyter.widget-view+json": {
       "model_id": "",
       "version_major": 2,
       "version_minor": 0
      },
      "text/plain": [
       "SHA3_256 checksumming:   0%|          | 0.00/33.8M [00:00<?, ?B/s]"
      ]
     },
     "metadata": {},
     "output_type": "display_data"
    },
    {
     "data": {
      "application/vnd.jupyter.widget-view+json": {
       "model_id": "243d000e7ea4488396bbf893b0dffbcc",
       "version_major": 2,
       "version_minor": 0
      },
      "text/plain": [
       "Downloading T19LCG_20211011T145731_B06_20m.jp2:   0%|          | 0.00/33.7M [00:00<?, ?B/s]"
      ]
     },
     "metadata": {},
     "output_type": "display_data"
    },
    {
     "data": {
      "application/vnd.jupyter.widget-view+json": {
       "model_id": "",
       "version_major": 2,
       "version_minor": 0
      },
      "text/plain": [
       "SHA3_256 checksumming:   0%|          | 0.00/33.7M [00:00<?, ?B/s]"
      ]
     },
     "metadata": {},
     "output_type": "display_data"
    },
    {
     "data": {
      "application/vnd.jupyter.widget-view+json": {
       "model_id": "f15421cc576843988834eb06b05c82f6",
       "version_major": 2,
       "version_minor": 0
      },
      "text/plain": [
       "Downloading T19LCG_20211011T145731_B07_20m.jp2:   0%|          | 0.00/33.7M [00:00<?, ?B/s]"
      ]
     },
     "metadata": {},
     "output_type": "display_data"
    },
    {
     "data": {
      "application/vnd.jupyter.widget-view+json": {
       "model_id": "",
       "version_major": 2,
       "version_minor": 0
      },
      "text/plain": [
       "SHA3_256 checksumming:   0%|          | 0.00/33.7M [00:00<?, ?B/s]"
      ]
     },
     "metadata": {},
     "output_type": "display_data"
    },
    {
     "data": {
      "application/vnd.jupyter.widget-view+json": {
       "model_id": "337b0634d83e4e65b22a3c0688928dcf",
       "version_major": 2,
       "version_minor": 0
      },
      "text/plain": [
       "Downloading T19LCG_20211011T145731_B11_20m.jp2:   0%|          | 0.00/33.7M [00:00<?, ?B/s]"
      ]
     },
     "metadata": {},
     "output_type": "display_data"
    },
    {
     "data": {
      "application/vnd.jupyter.widget-view+json": {
       "model_id": "",
       "version_major": 2,
       "version_minor": 0
      },
      "text/plain": [
       "SHA3_256 checksumming:   0%|          | 0.00/33.7M [00:00<?, ?B/s]"
      ]
     },
     "metadata": {},
     "output_type": "display_data"
    },
    {
     "data": {
      "application/vnd.jupyter.widget-view+json": {
       "model_id": "35dd5c5d19104f0a8fa1d5b7fd627bb8",
       "version_major": 2,
       "version_minor": 0
      },
      "text/plain": [
       "Downloading T19LCG_20211011T145731_B12_20m.jp2:   0%|          | 0.00/33.8M [00:00<?, ?B/s]"
      ]
     },
     "metadata": {},
     "output_type": "display_data"
    },
    {
     "data": {
      "application/vnd.jupyter.widget-view+json": {
       "model_id": "",
       "version_major": 2,
       "version_minor": 0
      },
      "text/plain": [
       "SHA3_256 checksumming:   0%|          | 0.00/33.8M [00:00<?, ?B/s]"
      ]
     },
     "metadata": {},
     "output_type": "display_data"
    },
    {
     "data": {
      "application/vnd.jupyter.widget-view+json": {
       "model_id": "94bbc553df28424684b4f027afa6edc4",
       "version_major": 2,
       "version_minor": 0
      },
      "text/plain": [
       "Downloading T19LCG_20211011T145731_B8A_20m.jp2:   0%|          | 0.00/33.7M [00:00<?, ?B/s]"
      ]
     },
     "metadata": {},
     "output_type": "display_data"
    },
    {
     "data": {
      "application/vnd.jupyter.widget-view+json": {
       "model_id": "",
       "version_major": 2,
       "version_minor": 0
      },
      "text/plain": [
       "SHA3_256 checksumming:   0%|          | 0.00/33.7M [00:00<?, ?B/s]"
      ]
     },
     "metadata": {},
     "output_type": "display_data"
    },
    {
     "data": {
      "application/vnd.jupyter.widget-view+json": {
       "model_id": "cdb87ab8df2c43fcbc8c9b836afbc0e7",
       "version_major": 2,
       "version_minor": 0
      },
      "text/plain": [
       "Downloading T19LCG_20211011T145731_SCL_20m.jp2:   0%|          | 0.00/3.36M [00:00<?, ?B/s]"
      ]
     },
     "metadata": {},
     "output_type": "display_data"
    },
    {
     "data": {
      "application/vnd.jupyter.widget-view+json": {
       "model_id": "",
       "version_major": 2,
       "version_minor": 0
      },
      "text/plain": [
       "SHA3_256 checksumming:   0%|          | 0.00/3.36M [00:00<?, ?B/s]"
      ]
     },
     "metadata": {},
     "output_type": "display_data"
    },
    {
     "data": {
      "application/vnd.jupyter.widget-view+json": {
       "model_id": "7f144dffd63c4de09072476a61fc9fb9",
       "version_major": 2,
       "version_minor": 0
      },
      "text/plain": [
       "Downloading T19LCG_20211011T145731_TCI_20m.jp2:   0%|          | 0.00/33.8M [00:00<?, ?B/s]"
      ]
     },
     "metadata": {},
     "output_type": "display_data"
    },
    {
     "data": {
      "application/vnd.jupyter.widget-view+json": {
       "model_id": "",
       "version_major": 2,
       "version_minor": 0
      },
      "text/plain": [
       "SHA3_256 checksumming:   0%|          | 0.00/33.8M [00:00<?, ?B/s]"
      ]
     },
     "metadata": {},
     "output_type": "display_data"
    },
    {
     "data": {
      "application/vnd.jupyter.widget-view+json": {
       "model_id": "9cd242e8b325464bbac2b77c13cc90f7",
       "version_major": 2,
       "version_minor": 0
      },
      "text/plain": [
       "Downloading T19LCG_20211011T145731_WVP_20m.jp2:   0%|          | 0.00/29.6M [00:00<?, ?B/s]"
      ]
     },
     "metadata": {},
     "output_type": "display_data"
    },
    {
     "data": {
      "application/vnd.jupyter.widget-view+json": {
       "model_id": "",
       "version_major": 2,
       "version_minor": 0
      },
      "text/plain": [
       "SHA3_256 checksumming:   0%|          | 0.00/29.6M [00:00<?, ?B/s]"
      ]
     },
     "metadata": {},
     "output_type": "display_data"
    },
    {
     "data": {
      "application/vnd.jupyter.widget-view+json": {
       "model_id": "8b3e7def9c81408883b01234306f57ba",
       "version_major": 2,
       "version_minor": 0
      },
      "text/plain": [
       "Downloading T19LCG_20211011T145731_AOT_60m.jp2:   0%|          | 0.00/204k [00:00<?, ?B/s]"
      ]
     },
     "metadata": {},
     "output_type": "display_data"
    },
    {
     "data": {
      "application/vnd.jupyter.widget-view+json": {
       "model_id": "",
       "version_major": 2,
       "version_minor": 0
      },
      "text/plain": [
       "SHA3_256 checksumming:   0%|          | 0.00/204k [00:00<?, ?B/s]"
      ]
     },
     "metadata": {},
     "output_type": "display_data"
    },
    {
     "data": {
      "application/vnd.jupyter.widget-view+json": {
       "model_id": "ce2f336f95eb4c1286e8d46ee9b32a76",
       "version_major": 2,
       "version_minor": 0
      },
      "text/plain": [
       "Downloading T19LCG_20211011T145731_B01_60m.jp2:   0%|          | 0.00/3.75M [00:00<?, ?B/s]"
      ]
     },
     "metadata": {},
     "output_type": "display_data"
    },
    {
     "data": {
      "application/vnd.jupyter.widget-view+json": {
       "model_id": "",
       "version_major": 2,
       "version_minor": 0
      },
      "text/plain": [
       "SHA3_256 checksumming:   0%|          | 0.00/3.75M [00:00<?, ?B/s]"
      ]
     },
     "metadata": {},
     "output_type": "display_data"
    },
    {
     "data": {
      "application/vnd.jupyter.widget-view+json": {
       "model_id": "0aa41e64ec6f421885cea8ace1401d0b",
       "version_major": 2,
       "version_minor": 0
      },
      "text/plain": [
       "Downloading T19LCG_20211011T145731_B02_60m.jp2:   0%|          | 0.00/3.75M [00:00<?, ?B/s]"
      ]
     },
     "metadata": {},
     "output_type": "display_data"
    },
    {
     "data": {
      "application/vnd.jupyter.widget-view+json": {
       "model_id": "",
       "version_major": 2,
       "version_minor": 0
      },
      "text/plain": [
       "SHA3_256 checksumming:   0%|          | 0.00/3.75M [00:00<?, ?B/s]"
      ]
     },
     "metadata": {},
     "output_type": "display_data"
    },
    {
     "data": {
      "application/vnd.jupyter.widget-view+json": {
       "model_id": "4aa6d7db5dcb4c91a934109d79466390",
       "version_major": 2,
       "version_minor": 0
      },
      "text/plain": [
       "Downloading T19LCG_20211011T145731_B03_60m.jp2:   0%|          | 0.00/3.75M [00:00<?, ?B/s]"
      ]
     },
     "metadata": {},
     "output_type": "display_data"
    },
    {
     "data": {
      "application/vnd.jupyter.widget-view+json": {
       "model_id": "",
       "version_major": 2,
       "version_minor": 0
      },
      "text/plain": [
       "SHA3_256 checksumming:   0%|          | 0.00/3.75M [00:00<?, ?B/s]"
      ]
     },
     "metadata": {},
     "output_type": "display_data"
    },
    {
     "data": {
      "application/vnd.jupyter.widget-view+json": {
       "model_id": "8dc775adbb624e0eb667238f7b0ec9f0",
       "version_major": 2,
       "version_minor": 0
      },
      "text/plain": [
       "Downloading T19LCG_20211011T145731_B04_60m.jp2:   0%|          | 0.00/3.76M [00:00<?, ?B/s]"
      ]
     },
     "metadata": {},
     "output_type": "display_data"
    },
    {
     "data": {
      "application/vnd.jupyter.widget-view+json": {
       "model_id": "",
       "version_major": 2,
       "version_minor": 0
      },
      "text/plain": [
       "SHA3_256 checksumming:   0%|          | 0.00/3.76M [00:00<?, ?B/s]"
      ]
     },
     "metadata": {},
     "output_type": "display_data"
    },
    {
     "data": {
      "application/vnd.jupyter.widget-view+json": {
       "model_id": "0e2b12d31e6846808b544aa8447e7209",
       "version_major": 2,
       "version_minor": 0
      },
      "text/plain": [
       "Downloading T19LCG_20211011T145731_B05_60m.jp2:   0%|          | 0.00/3.75M [00:00<?, ?B/s]"
      ]
     },
     "metadata": {},
     "output_type": "display_data"
    },
    {
     "data": {
      "application/vnd.jupyter.widget-view+json": {
       "model_id": "",
       "version_major": 2,
       "version_minor": 0
      },
      "text/plain": [
       "SHA3_256 checksumming:   0%|          | 0.00/3.75M [00:00<?, ?B/s]"
      ]
     },
     "metadata": {},
     "output_type": "display_data"
    },
    {
     "data": {
      "application/vnd.jupyter.widget-view+json": {
       "model_id": "0f6db783f8c844eba56cbb449fc856d9",
       "version_major": 2,
       "version_minor": 0
      },
      "text/plain": [
       "Downloading T19LCG_20211011T145731_B06_60m.jp2:   0%|          | 0.00/3.74M [00:00<?, ?B/s]"
      ]
     },
     "metadata": {},
     "output_type": "display_data"
    },
    {
     "data": {
      "application/vnd.jupyter.widget-view+json": {
       "model_id": "",
       "version_major": 2,
       "version_minor": 0
      },
      "text/plain": [
       "SHA3_256 checksumming:   0%|          | 0.00/3.74M [00:00<?, ?B/s]"
      ]
     },
     "metadata": {},
     "output_type": "display_data"
    },
    {
     "data": {
      "application/vnd.jupyter.widget-view+json": {
       "model_id": "1eb6a4c9d4394a3d8720aa86cdaa8aa0",
       "version_major": 2,
       "version_minor": 0
      },
      "text/plain": [
       "Downloading T19LCG_20211011T145731_B07_60m.jp2:   0%|          | 0.00/3.76M [00:00<?, ?B/s]"
      ]
     },
     "metadata": {},
     "output_type": "display_data"
    },
    {
     "data": {
      "application/vnd.jupyter.widget-view+json": {
       "model_id": "",
       "version_major": 2,
       "version_minor": 0
      },
      "text/plain": [
       "SHA3_256 checksumming:   0%|          | 0.00/3.76M [00:00<?, ?B/s]"
      ]
     },
     "metadata": {},
     "output_type": "display_data"
    },
    {
     "data": {
      "application/vnd.jupyter.widget-view+json": {
       "model_id": "ed4920ad266640b3a4c335ed6ec85cbb",
       "version_major": 2,
       "version_minor": 0
      },
      "text/plain": [
       "Downloading T19LCG_20211011T145731_B09_60m.jp2:   0%|          | 0.00/3.72M [00:00<?, ?B/s]"
      ]
     },
     "metadata": {},
     "output_type": "display_data"
    },
    {
     "data": {
      "application/vnd.jupyter.widget-view+json": {
       "model_id": "",
       "version_major": 2,
       "version_minor": 0
      },
      "text/plain": [
       "SHA3_256 checksumming:   0%|          | 0.00/3.72M [00:00<?, ?B/s]"
      ]
     },
     "metadata": {},
     "output_type": "display_data"
    },
    {
     "data": {
      "application/vnd.jupyter.widget-view+json": {
       "model_id": "62b066bf7a634c8f99b881ed740dfe8b",
       "version_major": 2,
       "version_minor": 0
      },
      "text/plain": [
       "Downloading T19LCG_20211011T145731_B11_60m.jp2:   0%|          | 0.00/3.74M [00:00<?, ?B/s]"
      ]
     },
     "metadata": {},
     "output_type": "display_data"
    },
    {
     "data": {
      "application/vnd.jupyter.widget-view+json": {
       "model_id": "",
       "version_major": 2,
       "version_minor": 0
      },
      "text/plain": [
       "SHA3_256 checksumming:   0%|          | 0.00/3.74M [00:00<?, ?B/s]"
      ]
     },
     "metadata": {},
     "output_type": "display_data"
    },
    {
     "data": {
      "application/vnd.jupyter.widget-view+json": {
       "model_id": "1903a2b9d9894d819a4951339c44981f",
       "version_major": 2,
       "version_minor": 0
      },
      "text/plain": [
       "Downloading T19LCG_20211011T145731_B12_60m.jp2:   0%|          | 0.00/3.75M [00:00<?, ?B/s]"
      ]
     },
     "metadata": {},
     "output_type": "display_data"
    },
    {
     "data": {
      "application/vnd.jupyter.widget-view+json": {
       "model_id": "",
       "version_major": 2,
       "version_minor": 0
      },
      "text/plain": [
       "SHA3_256 checksumming:   0%|          | 0.00/3.75M [00:00<?, ?B/s]"
      ]
     },
     "metadata": {},
     "output_type": "display_data"
    },
    {
     "data": {
      "application/vnd.jupyter.widget-view+json": {
       "model_id": "b6fe916a261b4ee383e4d7429a781b4f",
       "version_major": 2,
       "version_minor": 0
      },
      "text/plain": [
       "Downloading T19LCG_20211011T145731_B8A_60m.jp2:   0%|          | 0.00/3.77M [00:00<?, ?B/s]"
      ]
     },
     "metadata": {},
     "output_type": "display_data"
    },
    {
     "data": {
      "application/vnd.jupyter.widget-view+json": {
       "model_id": "",
       "version_major": 2,
       "version_minor": 0
      },
      "text/plain": [
       "SHA3_256 checksumming:   0%|          | 0.00/3.77M [00:00<?, ?B/s]"
      ]
     },
     "metadata": {},
     "output_type": "display_data"
    },
    {
     "data": {
      "application/vnd.jupyter.widget-view+json": {
       "model_id": "aae99bb65dc94d7a925302f208563a2e",
       "version_major": 2,
       "version_minor": 0
      },
      "text/plain": [
       "Downloading T19LCG_20211011T145731_SCL_60m.jp2:   0%|          | 0.00/838k [00:00<?, ?B/s]"
      ]
     },
     "metadata": {},
     "output_type": "display_data"
    },
    {
     "data": {
      "application/vnd.jupyter.widget-view+json": {
       "model_id": "",
       "version_major": 2,
       "version_minor": 0
      },
      "text/plain": [
       "SHA3_256 checksumming:   0%|          | 0.00/838k [00:00<?, ?B/s]"
      ]
     },
     "metadata": {},
     "output_type": "display_data"
    },
    {
     "data": {
      "application/vnd.jupyter.widget-view+json": {
       "model_id": "6dea86ccac1c4c3c8b0644357e28d706",
       "version_major": 2,
       "version_minor": 0
      },
      "text/plain": [
       "Downloading T19LCG_20211011T145731_TCI_60m.jp2:   0%|          | 0.00/3.77M [00:00<?, ?B/s]"
      ]
     },
     "metadata": {},
     "output_type": "display_data"
    },
    {
     "data": {
      "application/vnd.jupyter.widget-view+json": {
       "model_id": "",
       "version_major": 2,
       "version_minor": 0
      },
      "text/plain": [
       "SHA3_256 checksumming:   0%|          | 0.00/3.77M [00:00<?, ?B/s]"
      ]
     },
     "metadata": {},
     "output_type": "display_data"
    },
    {
     "data": {
      "application/vnd.jupyter.widget-view+json": {
       "model_id": "9a7f80545d0349438da67a82920e575f",
       "version_major": 2,
       "version_minor": 0
      },
      "text/plain": [
       "Downloading T19LCG_20211011T145731_WVP_60m.jp2:   0%|          | 0.00/3.75M [00:00<?, ?B/s]"
      ]
     },
     "metadata": {},
     "output_type": "display_data"
    },
    {
     "data": {
      "application/vnd.jupyter.widget-view+json": {
       "model_id": "",
       "version_major": 2,
       "version_minor": 0
      },
      "text/plain": [
       "SHA3_256 checksumming:   0%|          | 0.00/3.75M [00:00<?, ?B/s]"
      ]
     },
     "metadata": {},
     "output_type": "display_data"
    },
    {
     "name": "stdout",
     "output_type": "stream",
     "text": [
      "d628bf96-76d5-4433-846d-e46fd2c4dc48\n",
      "unknown error: <class 'sentinelsat.exceptions.ServerError'>\n",
      "68d3a13b-052b-46a4-ac50-37e87e56130a\n"
     ]
    },
    {
     "data": {
      "application/vnd.jupyter.widget-view+json": {
       "model_id": "ed2b8b992cad4f199095a41b85ee4223",
       "version_major": 2,
       "version_minor": 0
      },
      "text/plain": [
       "Downloading T19LCG_20210926T145729_AOT_10m.jp2:   0%|          | 0.00/3.21M [00:00<?, ?B/s]"
      ]
     },
     "metadata": {},
     "output_type": "display_data"
    },
    {
     "data": {
      "application/vnd.jupyter.widget-view+json": {
       "model_id": "",
       "version_major": 2,
       "version_minor": 0
      },
      "text/plain": [
       "SHA3_256 checksumming:   0%|          | 0.00/3.21M [00:00<?, ?B/s]"
      ]
     },
     "metadata": {},
     "output_type": "display_data"
    },
    {
     "data": {
      "application/vnd.jupyter.widget-view+json": {
       "model_id": "2c3e1eacaabc4cc3874e27bfd53e8ad5",
       "version_major": 2,
       "version_minor": 0
      },
      "text/plain": [
       "Downloading T19LCG_20210926T145729_B02_10m.jp2:   0%|          | 0.00/115M [00:00<?, ?B/s]"
      ]
     },
     "metadata": {},
     "output_type": "display_data"
    },
    {
     "data": {
      "application/vnd.jupyter.widget-view+json": {
       "model_id": "",
       "version_major": 2,
       "version_minor": 0
      },
      "text/plain": [
       "SHA3_256 checksumming:   0%|          | 0.00/115M [00:00<?, ?B/s]"
      ]
     },
     "metadata": {},
     "output_type": "display_data"
    },
    {
     "data": {
      "application/vnd.jupyter.widget-view+json": {
       "model_id": "1c571fffe30d498a8205cb837ab5c2b2",
       "version_major": 2,
       "version_minor": 0
      },
      "text/plain": [
       "Downloading T19LCG_20210926T145729_B03_10m.jp2:   0%|          | 0.00/118M [00:00<?, ?B/s]"
      ]
     },
     "metadata": {},
     "output_type": "display_data"
    },
    {
     "data": {
      "application/vnd.jupyter.widget-view+json": {
       "model_id": "",
       "version_major": 2,
       "version_minor": 0
      },
      "text/plain": [
       "SHA3_256 checksumming:   0%|          | 0.00/118M [00:00<?, ?B/s]"
      ]
     },
     "metadata": {},
     "output_type": "display_data"
    },
    {
     "data": {
      "application/vnd.jupyter.widget-view+json": {
       "model_id": "6e85e8a8da4b442cb8d058713b7f4b91",
       "version_major": 2,
       "version_minor": 0
      },
      "text/plain": [
       "Downloading T19LCG_20210926T145729_B04_10m.jp2:   0%|          | 0.00/116M [00:00<?, ?B/s]"
      ]
     },
     "metadata": {},
     "output_type": "display_data"
    },
    {
     "data": {
      "application/vnd.jupyter.widget-view+json": {
       "model_id": "",
       "version_major": 2,
       "version_minor": 0
      },
      "text/plain": [
       "SHA3_256 checksumming:   0%|          | 0.00/116M [00:00<?, ?B/s]"
      ]
     },
     "metadata": {},
     "output_type": "display_data"
    },
    {
     "data": {
      "application/vnd.jupyter.widget-view+json": {
       "model_id": "9bb74ac728364c4aa74b73c7da791964",
       "version_major": 2,
       "version_minor": 0
      },
      "text/plain": [
       "Downloading T19LCG_20210926T145729_B08_10m.jp2:   0%|          | 0.00/135M [00:00<?, ?B/s]"
      ]
     },
     "metadata": {},
     "output_type": "display_data"
    },
    {
     "data": {
      "application/vnd.jupyter.widget-view+json": {
       "model_id": "",
       "version_major": 2,
       "version_minor": 0
      },
      "text/plain": [
       "SHA3_256 checksumming:   0%|          | 0.00/135M [00:00<?, ?B/s]"
      ]
     },
     "metadata": {},
     "output_type": "display_data"
    },
    {
     "data": {
      "application/vnd.jupyter.widget-view+json": {
       "model_id": "041799d7aaf04f6d88d1ab94387e38c2",
       "version_major": 2,
       "version_minor": 0
      },
      "text/plain": [
       "Downloading T19LCG_20210926T145729_TCI_10m.jp2:   0%|          | 0.00/135M [00:00<?, ?B/s]"
      ]
     },
     "metadata": {},
     "output_type": "display_data"
    },
    {
     "data": {
      "application/vnd.jupyter.widget-view+json": {
       "model_id": "",
       "version_major": 2,
       "version_minor": 0
      },
      "text/plain": [
       "SHA3_256 checksumming:   0%|          | 0.00/135M [00:00<?, ?B/s]"
      ]
     },
     "metadata": {},
     "output_type": "display_data"
    },
    {
     "data": {
      "application/vnd.jupyter.widget-view+json": {
       "model_id": "c1e890de74e045abb36f50fd3fdd6439",
       "version_major": 2,
       "version_minor": 0
      },
      "text/plain": [
       "Downloading T19LCG_20210926T145729_WVP_10m.jp2:   0%|          | 0.00/65.2M [00:00<?, ?B/s]"
      ]
     },
     "metadata": {},
     "output_type": "display_data"
    },
    {
     "data": {
      "application/vnd.jupyter.widget-view+json": {
       "model_id": "",
       "version_major": 2,
       "version_minor": 0
      },
      "text/plain": [
       "SHA3_256 checksumming:   0%|          | 0.00/65.2M [00:00<?, ?B/s]"
      ]
     },
     "metadata": {},
     "output_type": "display_data"
    },
    {
     "data": {
      "application/vnd.jupyter.widget-view+json": {
       "model_id": "8a186593479f4afd87e429c04067bf26",
       "version_major": 2,
       "version_minor": 0
      },
      "text/plain": [
       "Downloading T19LCG_20210926T145729_AOT_20m.jp2:   0%|          | 0.00/2.61M [00:00<?, ?B/s]"
      ]
     },
     "metadata": {},
     "output_type": "display_data"
    },
    {
     "data": {
      "application/vnd.jupyter.widget-view+json": {
       "model_id": "",
       "version_major": 2,
       "version_minor": 0
      },
      "text/plain": [
       "SHA3_256 checksumming:   0%|          | 0.00/2.61M [00:00<?, ?B/s]"
      ]
     },
     "metadata": {},
     "output_type": "display_data"
    },
    {
     "data": {
      "application/vnd.jupyter.widget-view+json": {
       "model_id": "4b51e599eef94033ba63a43e92ac12be",
       "version_major": 2,
       "version_minor": 0
      },
      "text/plain": [
       "Downloading T19LCG_20210926T145729_B02_20m.jp2:   0%|          | 0.00/33.2M [00:00<?, ?B/s]"
      ]
     },
     "metadata": {},
     "output_type": "display_data"
    },
    {
     "data": {
      "application/vnd.jupyter.widget-view+json": {
       "model_id": "",
       "version_major": 2,
       "version_minor": 0
      },
      "text/plain": [
       "SHA3_256 checksumming:   0%|          | 0.00/33.2M [00:00<?, ?B/s]"
      ]
     },
     "metadata": {},
     "output_type": "display_data"
    },
    {
     "data": {
      "application/vnd.jupyter.widget-view+json": {
       "model_id": "296d4838daf14f8a8adca316ba61d755",
       "version_major": 2,
       "version_minor": 0
      },
      "text/plain": [
       "Downloading T19LCG_20210926T145729_B03_20m.jp2:   0%|          | 0.00/33.8M [00:00<?, ?B/s]"
      ]
     },
     "metadata": {},
     "output_type": "display_data"
    },
    {
     "data": {
      "application/vnd.jupyter.widget-view+json": {
       "model_id": "",
       "version_major": 2,
       "version_minor": 0
      },
      "text/plain": [
       "SHA3_256 checksumming:   0%|          | 0.00/33.8M [00:00<?, ?B/s]"
      ]
     },
     "metadata": {},
     "output_type": "display_data"
    },
    {
     "data": {
      "application/vnd.jupyter.widget-view+json": {
       "model_id": "a366dd4a0bd94f2f91e6d51ec7df3a84",
       "version_major": 2,
       "version_minor": 0
      },
      "text/plain": [
       "Downloading T19LCG_20210926T145729_B04_20m.jp2:   0%|          | 0.00/33.7M [00:00<?, ?B/s]"
      ]
     },
     "metadata": {},
     "output_type": "display_data"
    },
    {
     "data": {
      "application/vnd.jupyter.widget-view+json": {
       "model_id": "",
       "version_major": 2,
       "version_minor": 0
      },
      "text/plain": [
       "SHA3_256 checksumming:   0%|          | 0.00/33.7M [00:00<?, ?B/s]"
      ]
     },
     "metadata": {},
     "output_type": "display_data"
    },
    {
     "data": {
      "application/vnd.jupyter.widget-view+json": {
       "model_id": "2fb0f2e3c2a0473fa1c7d55e7306744e",
       "version_major": 2,
       "version_minor": 0
      },
      "text/plain": [
       "Downloading T19LCG_20210926T145729_B05_20m.jp2:   0%|          | 0.00/33.7M [00:00<?, ?B/s]"
      ]
     },
     "metadata": {},
     "output_type": "display_data"
    },
    {
     "data": {
      "application/vnd.jupyter.widget-view+json": {
       "model_id": "",
       "version_major": 2,
       "version_minor": 0
      },
      "text/plain": [
       "SHA3_256 checksumming:   0%|          | 0.00/33.7M [00:00<?, ?B/s]"
      ]
     },
     "metadata": {},
     "output_type": "display_data"
    },
    {
     "data": {
      "application/vnd.jupyter.widget-view+json": {
       "model_id": "9b644ab633074b51b71e3e6d1dc41798",
       "version_major": 2,
       "version_minor": 0
      },
      "text/plain": [
       "Downloading T19LCG_20210926T145729_B06_20m.jp2:   0%|          | 0.00/33.7M [00:00<?, ?B/s]"
      ]
     },
     "metadata": {},
     "output_type": "display_data"
    },
    {
     "data": {
      "application/vnd.jupyter.widget-view+json": {
       "model_id": "",
       "version_major": 2,
       "version_minor": 0
      },
      "text/plain": [
       "SHA3_256 checksumming:   0%|          | 0.00/33.7M [00:00<?, ?B/s]"
      ]
     },
     "metadata": {},
     "output_type": "display_data"
    },
    {
     "data": {
      "application/vnd.jupyter.widget-view+json": {
       "model_id": "9f092354f75e41bb9779f4b5cd41eb2d",
       "version_major": 2,
       "version_minor": 0
      },
      "text/plain": [
       "Downloading T19LCG_20210926T145729_B07_20m.jp2:   0%|          | 0.00/33.8M [00:00<?, ?B/s]"
      ]
     },
     "metadata": {},
     "output_type": "display_data"
    },
    {
     "data": {
      "application/vnd.jupyter.widget-view+json": {
       "model_id": "",
       "version_major": 2,
       "version_minor": 0
      },
      "text/plain": [
       "SHA3_256 checksumming:   0%|          | 0.00/33.8M [00:00<?, ?B/s]"
      ]
     },
     "metadata": {},
     "output_type": "display_data"
    },
    {
     "data": {
      "application/vnd.jupyter.widget-view+json": {
       "model_id": "e0cba71481ed4d998729f0b5e1dfbab7",
       "version_major": 2,
       "version_minor": 0
      },
      "text/plain": [
       "Downloading T19LCG_20210926T145729_B11_20m.jp2:   0%|          | 0.00/33.7M [00:00<?, ?B/s]"
      ]
     },
     "metadata": {},
     "output_type": "display_data"
    },
    {
     "data": {
      "application/vnd.jupyter.widget-view+json": {
       "model_id": "",
       "version_major": 2,
       "version_minor": 0
      },
      "text/plain": [
       "SHA3_256 checksumming:   0%|          | 0.00/33.7M [00:00<?, ?B/s]"
      ]
     },
     "metadata": {},
     "output_type": "display_data"
    },
    {
     "data": {
      "application/vnd.jupyter.widget-view+json": {
       "model_id": "568c9bc286a6438f9c5e50018cdebee6",
       "version_major": 2,
       "version_minor": 0
      },
      "text/plain": [
       "Downloading T19LCG_20210926T145729_B12_20m.jp2:   0%|          | 0.00/33.8M [00:00<?, ?B/s]"
      ]
     },
     "metadata": {},
     "output_type": "display_data"
    },
    {
     "data": {
      "application/vnd.jupyter.widget-view+json": {
       "model_id": "",
       "version_major": 2,
       "version_minor": 0
      },
      "text/plain": [
       "SHA3_256 checksumming:   0%|          | 0.00/33.8M [00:00<?, ?B/s]"
      ]
     },
     "metadata": {},
     "output_type": "display_data"
    },
    {
     "data": {
      "application/vnd.jupyter.widget-view+json": {
       "model_id": "2f56ac0bae93446cb19cfee849811df3",
       "version_major": 2,
       "version_minor": 0
      },
      "text/plain": [
       "Downloading T19LCG_20210926T145729_B8A_20m.jp2:   0%|          | 0.00/33.8M [00:00<?, ?B/s]"
      ]
     },
     "metadata": {},
     "output_type": "display_data"
    },
    {
     "data": {
      "application/vnd.jupyter.widget-view+json": {
       "model_id": "",
       "version_major": 2,
       "version_minor": 0
      },
      "text/plain": [
       "SHA3_256 checksumming:   0%|          | 0.00/33.8M [00:00<?, ?B/s]"
      ]
     },
     "metadata": {},
     "output_type": "display_data"
    },
    {
     "data": {
      "application/vnd.jupyter.widget-view+json": {
       "model_id": "16e335303a5b4da78cec6752018bb313",
       "version_major": 2,
       "version_minor": 0
      },
      "text/plain": [
       "Downloading T19LCG_20210926T145729_SCL_20m.jp2:   0%|          | 0.00/4.33M [00:00<?, ?B/s]"
      ]
     },
     "metadata": {},
     "output_type": "display_data"
    },
    {
     "data": {
      "application/vnd.jupyter.widget-view+json": {
       "model_id": "",
       "version_major": 2,
       "version_minor": 0
      },
      "text/plain": [
       "SHA3_256 checksumming:   0%|          | 0.00/4.33M [00:00<?, ?B/s]"
      ]
     },
     "metadata": {},
     "output_type": "display_data"
    },
    {
     "data": {
      "application/vnd.jupyter.widget-view+json": {
       "model_id": "637a09ffce8e411791f9c35527037747",
       "version_major": 2,
       "version_minor": 0
      },
      "text/plain": [
       "Downloading T19LCG_20210926T145729_TCI_20m.jp2:   0%|          | 0.00/33.9M [00:00<?, ?B/s]"
      ]
     },
     "metadata": {},
     "output_type": "display_data"
    },
    {
     "data": {
      "application/vnd.jupyter.widget-view+json": {
       "model_id": "",
       "version_major": 2,
       "version_minor": 0
      },
      "text/plain": [
       "SHA3_256 checksumming:   0%|          | 0.00/33.9M [00:00<?, ?B/s]"
      ]
     },
     "metadata": {},
     "output_type": "display_data"
    },
    {
     "data": {
      "application/vnd.jupyter.widget-view+json": {
       "model_id": "991dfe286eab4ebd8fc8fdbe703a0ad5",
       "version_major": 2,
       "version_minor": 0
      },
      "text/plain": [
       "Downloading T19LCG_20210926T145729_WVP_20m.jp2:   0%|          | 0.00/21.6M [00:00<?, ?B/s]"
      ]
     },
     "metadata": {},
     "output_type": "display_data"
    },
    {
     "data": {
      "application/vnd.jupyter.widget-view+json": {
       "model_id": "",
       "version_major": 2,
       "version_minor": 0
      },
      "text/plain": [
       "SHA3_256 checksumming:   0%|          | 0.00/21.6M [00:00<?, ?B/s]"
      ]
     },
     "metadata": {},
     "output_type": "display_data"
    },
    {
     "data": {
      "application/vnd.jupyter.widget-view+json": {
       "model_id": "03a6e0e41259416091be8bc5bc9c7280",
       "version_major": 2,
       "version_minor": 0
      },
      "text/plain": [
       "Downloading T19LCG_20210926T145729_AOT_60m.jp2:   0%|          | 0.00/692k [00:00<?, ?B/s]"
      ]
     },
     "metadata": {},
     "output_type": "display_data"
    },
    {
     "data": {
      "application/vnd.jupyter.widget-view+json": {
       "model_id": "",
       "version_major": 2,
       "version_minor": 0
      },
      "text/plain": [
       "SHA3_256 checksumming:   0%|          | 0.00/692k [00:00<?, ?B/s]"
      ]
     },
     "metadata": {},
     "output_type": "display_data"
    },
    {
     "data": {
      "application/vnd.jupyter.widget-view+json": {
       "model_id": "0c423f8edbcb4dc0aaf9ee53fac9d144",
       "version_major": 2,
       "version_minor": 0
      },
      "text/plain": [
       "Downloading T19LCG_20210926T145729_B01_60m.jp2:   0%|          | 0.00/3.74M [00:00<?, ?B/s]"
      ]
     },
     "metadata": {},
     "output_type": "display_data"
    },
    {
     "data": {
      "application/vnd.jupyter.widget-view+json": {
       "model_id": "",
       "version_major": 2,
       "version_minor": 0
      },
      "text/plain": [
       "SHA3_256 checksumming:   0%|          | 0.00/3.74M [00:00<?, ?B/s]"
      ]
     },
     "metadata": {},
     "output_type": "display_data"
    },
    {
     "data": {
      "application/vnd.jupyter.widget-view+json": {
       "model_id": "1f7207e052a544a5baf5d4a29b761b4a",
       "version_major": 2,
       "version_minor": 0
      },
      "text/plain": [
       "Downloading T19LCG_20210926T145729_B02_60m.jp2:   0%|          | 0.00/3.75M [00:00<?, ?B/s]"
      ]
     },
     "metadata": {},
     "output_type": "display_data"
    },
    {
     "data": {
      "application/vnd.jupyter.widget-view+json": {
       "model_id": "",
       "version_major": 2,
       "version_minor": 0
      },
      "text/plain": [
       "SHA3_256 checksumming:   0%|          | 0.00/3.75M [00:00<?, ?B/s]"
      ]
     },
     "metadata": {},
     "output_type": "display_data"
    },
    {
     "data": {
      "application/vnd.jupyter.widget-view+json": {
       "model_id": "f6cda59b37364d84a31d1150f7859c32",
       "version_major": 2,
       "version_minor": 0
      },
      "text/plain": [
       "Downloading T19LCG_20210926T145729_B03_60m.jp2:   0%|          | 0.00/3.76M [00:00<?, ?B/s]"
      ]
     },
     "metadata": {},
     "output_type": "display_data"
    },
    {
     "data": {
      "application/vnd.jupyter.widget-view+json": {
       "model_id": "",
       "version_major": 2,
       "version_minor": 0
      },
      "text/plain": [
       "SHA3_256 checksumming:   0%|          | 0.00/3.76M [00:00<?, ?B/s]"
      ]
     },
     "metadata": {},
     "output_type": "display_data"
    },
    {
     "data": {
      "application/vnd.jupyter.widget-view+json": {
       "model_id": "50170b3b24a240fea7af133518c2133e",
       "version_major": 2,
       "version_minor": 0
      },
      "text/plain": [
       "Downloading T19LCG_20210926T145729_B04_60m.jp2:   0%|          | 0.00/3.76M [00:00<?, ?B/s]"
      ]
     },
     "metadata": {},
     "output_type": "display_data"
    },
    {
     "data": {
      "application/vnd.jupyter.widget-view+json": {
       "model_id": "",
       "version_major": 2,
       "version_minor": 0
      },
      "text/plain": [
       "SHA3_256 checksumming:   0%|          | 0.00/3.76M [00:00<?, ?B/s]"
      ]
     },
     "metadata": {},
     "output_type": "display_data"
    },
    {
     "data": {
      "application/vnd.jupyter.widget-view+json": {
       "model_id": "0ec3e8b30772449d945081c4ef7dcd53",
       "version_major": 2,
       "version_minor": 0
      },
      "text/plain": [
       "Downloading T19LCG_20210926T145729_B05_60m.jp2:   0%|          | 0.00/3.76M [00:00<?, ?B/s]"
      ]
     },
     "metadata": {},
     "output_type": "display_data"
    },
    {
     "data": {
      "application/vnd.jupyter.widget-view+json": {
       "model_id": "",
       "version_major": 2,
       "version_minor": 0
      },
      "text/plain": [
       "SHA3_256 checksumming:   0%|          | 0.00/3.76M [00:00<?, ?B/s]"
      ]
     },
     "metadata": {},
     "output_type": "display_data"
    },
    {
     "data": {
      "application/vnd.jupyter.widget-view+json": {
       "model_id": "0c5aca338fcc4ef688764470a177f492",
       "version_major": 2,
       "version_minor": 0
      },
      "text/plain": [
       "Downloading T19LCG_20210926T145729_B06_60m.jp2:   0%|          | 0.00/3.74M [00:00<?, ?B/s]"
      ]
     },
     "metadata": {},
     "output_type": "display_data"
    },
    {
     "data": {
      "application/vnd.jupyter.widget-view+json": {
       "model_id": "",
       "version_major": 2,
       "version_minor": 0
      },
      "text/plain": [
       "SHA3_256 checksumming:   0%|          | 0.00/3.74M [00:00<?, ?B/s]"
      ]
     },
     "metadata": {},
     "output_type": "display_data"
    },
    {
     "data": {
      "application/vnd.jupyter.widget-view+json": {
       "model_id": "c2831f5258af435799d7d631cc222e16",
       "version_major": 2,
       "version_minor": 0
      },
      "text/plain": [
       "Downloading T19LCG_20210926T145729_B07_60m.jp2:   0%|          | 0.00/3.77M [00:00<?, ?B/s]"
      ]
     },
     "metadata": {},
     "output_type": "display_data"
    },
    {
     "data": {
      "application/vnd.jupyter.widget-view+json": {
       "model_id": "",
       "version_major": 2,
       "version_minor": 0
      },
      "text/plain": [
       "SHA3_256 checksumming:   0%|          | 0.00/3.77M [00:00<?, ?B/s]"
      ]
     },
     "metadata": {},
     "output_type": "display_data"
    },
    {
     "data": {
      "application/vnd.jupyter.widget-view+json": {
       "model_id": "dd156256a1d54694b2a2a1de9c0479e0",
       "version_major": 2,
       "version_minor": 0
      },
      "text/plain": [
       "Downloading T19LCG_20210926T145729_B09_60m.jp2:   0%|          | 0.00/3.75M [00:00<?, ?B/s]"
      ]
     },
     "metadata": {},
     "output_type": "display_data"
    },
    {
     "data": {
      "application/vnd.jupyter.widget-view+json": {
       "model_id": "",
       "version_major": 2,
       "version_minor": 0
      },
      "text/plain": [
       "SHA3_256 checksumming:   0%|          | 0.00/3.75M [00:00<?, ?B/s]"
      ]
     },
     "metadata": {},
     "output_type": "display_data"
    },
    {
     "data": {
      "application/vnd.jupyter.widget-view+json": {
       "model_id": "b318d8357a9b47cfbc8ca6bba5a96f6d",
       "version_major": 2,
       "version_minor": 0
      },
      "text/plain": [
       "Downloading T19LCG_20210926T145729_B11_60m.jp2:   0%|          | 0.00/3.74M [00:00<?, ?B/s]"
      ]
     },
     "metadata": {},
     "output_type": "display_data"
    },
    {
     "data": {
      "application/vnd.jupyter.widget-view+json": {
       "model_id": "",
       "version_major": 2,
       "version_minor": 0
      },
      "text/plain": [
       "SHA3_256 checksumming:   0%|          | 0.00/3.74M [00:00<?, ?B/s]"
      ]
     },
     "metadata": {},
     "output_type": "display_data"
    },
    {
     "data": {
      "application/vnd.jupyter.widget-view+json": {
       "model_id": "8c8c45777fcd46e3926ea3e9787e9d91",
       "version_major": 2,
       "version_minor": 0
      },
      "text/plain": [
       "Downloading T19LCG_20210926T145729_B12_60m.jp2:   0%|          | 0.00/3.74M [00:00<?, ?B/s]"
      ]
     },
     "metadata": {},
     "output_type": "display_data"
    },
    {
     "data": {
      "application/vnd.jupyter.widget-view+json": {
       "model_id": "",
       "version_major": 2,
       "version_minor": 0
      },
      "text/plain": [
       "SHA3_256 checksumming:   0%|          | 0.00/3.74M [00:00<?, ?B/s]"
      ]
     },
     "metadata": {},
     "output_type": "display_data"
    },
    {
     "data": {
      "application/vnd.jupyter.widget-view+json": {
       "model_id": "f8c52c6ccc504cf8994f6cbfeaa13cd8",
       "version_major": 2,
       "version_minor": 0
      },
      "text/plain": [
       "Downloading T19LCG_20210926T145729_B8A_60m.jp2:   0%|          | 0.00/3.76M [00:00<?, ?B/s]"
      ]
     },
     "metadata": {},
     "output_type": "display_data"
    },
    {
     "data": {
      "application/vnd.jupyter.widget-view+json": {
       "model_id": "",
       "version_major": 2,
       "version_minor": 0
      },
      "text/plain": [
       "SHA3_256 checksumming:   0%|          | 0.00/3.76M [00:00<?, ?B/s]"
      ]
     },
     "metadata": {},
     "output_type": "display_data"
    },
    {
     "data": {
      "application/vnd.jupyter.widget-view+json": {
       "model_id": "001c8a17531b4114a6b3214a7ab226bb",
       "version_major": 2,
       "version_minor": 0
      },
      "text/plain": [
       "Downloading T19LCG_20210926T145729_SCL_60m.jp2:   0%|          | 0.00/950k [00:00<?, ?B/s]"
      ]
     },
     "metadata": {},
     "output_type": "display_data"
    },
    {
     "data": {
      "application/vnd.jupyter.widget-view+json": {
       "model_id": "",
       "version_major": 2,
       "version_minor": 0
      },
      "text/plain": [
       "SHA3_256 checksumming:   0%|          | 0.00/950k [00:00<?, ?B/s]"
      ]
     },
     "metadata": {},
     "output_type": "display_data"
    },
    {
     "data": {
      "application/vnd.jupyter.widget-view+json": {
       "model_id": "8f20fd4905e54e63831c6734424bec4d",
       "version_major": 2,
       "version_minor": 0
      },
      "text/plain": [
       "Downloading T19LCG_20210926T145729_TCI_60m.jp2:   0%|          | 0.00/3.76M [00:00<?, ?B/s]"
      ]
     },
     "metadata": {},
     "output_type": "display_data"
    },
    {
     "data": {
      "application/vnd.jupyter.widget-view+json": {
       "model_id": "",
       "version_major": 2,
       "version_minor": 0
      },
      "text/plain": [
       "SHA3_256 checksumming:   0%|          | 0.00/3.76M [00:00<?, ?B/s]"
      ]
     },
     "metadata": {},
     "output_type": "display_data"
    },
    {
     "data": {
      "application/vnd.jupyter.widget-view+json": {
       "model_id": "a89cc49e62944119bfa00dbdf890edcd",
       "version_major": 2,
       "version_minor": 0
      },
      "text/plain": [
       "Downloading T19LCG_20210926T145729_WVP_60m.jp2:   0%|          | 0.00/3.33M [00:00<?, ?B/s]"
      ]
     },
     "metadata": {},
     "output_type": "display_data"
    },
    {
     "data": {
      "application/vnd.jupyter.widget-view+json": {
       "model_id": "",
       "version_major": 2,
       "version_minor": 0
      },
      "text/plain": [
       "SHA3_256 checksumming:   0%|          | 0.00/3.33M [00:00<?, ?B/s]"
      ]
     },
     "metadata": {},
     "output_type": "display_data"
    },
    {
     "name": "stdout",
     "output_type": "stream",
     "text": [
      "08b2df85-33d8-4be9-8892-078e0290304b\n"
     ]
    },
    {
     "data": {
      "application/vnd.jupyter.widget-view+json": {
       "model_id": "f50e8d2f5dfc4a1a8d5250bc3686288c",
       "version_major": 2,
       "version_minor": 0
      },
      "text/plain": [
       "Downloading T19LCG_20210901T145731_AOT_10m.jp2:   0%|          | 0.00/1.61M [00:00<?, ?B/s]"
      ]
     },
     "metadata": {},
     "output_type": "display_data"
    },
    {
     "data": {
      "application/vnd.jupyter.widget-view+json": {
       "model_id": "",
       "version_major": 2,
       "version_minor": 0
      },
      "text/plain": [
       "SHA3_256 checksumming:   0%|          | 0.00/1.61M [00:00<?, ?B/s]"
      ]
     },
     "metadata": {},
     "output_type": "display_data"
    },
    {
     "data": {
      "application/vnd.jupyter.widget-view+json": {
       "model_id": "ae905922d70a4ea795ee54a61f57054a",
       "version_major": 2,
       "version_minor": 0
      },
      "text/plain": [
       "Downloading T19LCG_20210901T145731_B02_10m.jp2:   0%|          | 0.00/105M [00:00<?, ?B/s]"
      ]
     },
     "metadata": {},
     "output_type": "display_data"
    },
    {
     "data": {
      "application/vnd.jupyter.widget-view+json": {
       "model_id": "",
       "version_major": 2,
       "version_minor": 0
      },
      "text/plain": [
       "SHA3_256 checksumming:   0%|          | 0.00/105M [00:00<?, ?B/s]"
      ]
     },
     "metadata": {},
     "output_type": "display_data"
    },
    {
     "data": {
      "application/vnd.jupyter.widget-view+json": {
       "model_id": "bbac4c6581c549f5b38dabb99c22b670",
       "version_major": 2,
       "version_minor": 0
      },
      "text/plain": [
       "Downloading T19LCG_20210901T145731_B03_10m.jp2:   0%|          | 0.00/114M [00:00<?, ?B/s]"
      ]
     },
     "metadata": {},
     "output_type": "display_data"
    },
    {
     "data": {
      "application/vnd.jupyter.widget-view+json": {
       "model_id": "",
       "version_major": 2,
       "version_minor": 0
      },
      "text/plain": [
       "SHA3_256 checksumming:   0%|          | 0.00/114M [00:00<?, ?B/s]"
      ]
     },
     "metadata": {},
     "output_type": "display_data"
    },
    {
     "data": {
      "application/vnd.jupyter.widget-view+json": {
       "model_id": "7328d0d2bfdb43949400c0579fc54acb",
       "version_major": 2,
       "version_minor": 0
      },
      "text/plain": [
       "Downloading T19LCG_20210901T145731_B04_10m.jp2:   0%|          | 0.00/107M [00:00<?, ?B/s]"
      ]
     },
     "metadata": {},
     "output_type": "display_data"
    },
    {
     "data": {
      "application/vnd.jupyter.widget-view+json": {
       "model_id": "",
       "version_major": 2,
       "version_minor": 0
      },
      "text/plain": [
       "SHA3_256 checksumming:   0%|          | 0.00/107M [00:00<?, ?B/s]"
      ]
     },
     "metadata": {},
     "output_type": "display_data"
    },
    {
     "data": {
      "application/vnd.jupyter.widget-view+json": {
       "model_id": "77b10ef548df4511bc075bc1b3b22849",
       "version_major": 2,
       "version_minor": 0
      },
      "text/plain": [
       "Downloading T19LCG_20210901T145731_B08_10m.jp2:   0%|          | 0.00/135M [00:00<?, ?B/s]"
      ]
     },
     "metadata": {},
     "output_type": "display_data"
    },
    {
     "data": {
      "application/vnd.jupyter.widget-view+json": {
       "model_id": "",
       "version_major": 2,
       "version_minor": 0
      },
      "text/plain": [
       "SHA3_256 checksumming:   0%|          | 0.00/135M [00:00<?, ?B/s]"
      ]
     },
     "metadata": {},
     "output_type": "display_data"
    },
    {
     "data": {
      "application/vnd.jupyter.widget-view+json": {
       "model_id": "5273d7f1833f43488907ec157c91b6d1",
       "version_major": 2,
       "version_minor": 0
      },
      "text/plain": [
       "Downloading T19LCG_20210901T145731_TCI_10m.jp2:   0%|          | 0.00/135M [00:00<?, ?B/s]"
      ]
     },
     "metadata": {},
     "output_type": "display_data"
    },
    {
     "data": {
      "application/vnd.jupyter.widget-view+json": {
       "model_id": "",
       "version_major": 2,
       "version_minor": 0
      },
      "text/plain": [
       "SHA3_256 checksumming:   0%|          | 0.00/135M [00:00<?, ?B/s]"
      ]
     },
     "metadata": {},
     "output_type": "display_data"
    },
    {
     "data": {
      "application/vnd.jupyter.widget-view+json": {
       "model_id": "21cc92052f264c1b86c397c9e231428a",
       "version_major": 2,
       "version_minor": 0
      },
      "text/plain": [
       "Downloading T19LCG_20210901T145731_WVP_10m.jp2:   0%|          | 0.00/100M [00:00<?, ?B/s]"
      ]
     },
     "metadata": {},
     "output_type": "display_data"
    },
    {
     "data": {
      "application/vnd.jupyter.widget-view+json": {
       "model_id": "",
       "version_major": 2,
       "version_minor": 0
      },
      "text/plain": [
       "SHA3_256 checksumming:   0%|          | 0.00/100M [00:00<?, ?B/s]"
      ]
     },
     "metadata": {},
     "output_type": "display_data"
    },
    {
     "data": {
      "application/vnd.jupyter.widget-view+json": {
       "model_id": "bd7e1773c0be49669579faf8ea8fa484",
       "version_major": 2,
       "version_minor": 0
      },
      "text/plain": [
       "Downloading T19LCG_20210901T145731_AOT_20m.jp2:   0%|          | 0.00/1.45M [00:00<?, ?B/s]"
      ]
     },
     "metadata": {},
     "output_type": "display_data"
    },
    {
     "data": {
      "application/vnd.jupyter.widget-view+json": {
       "model_id": "",
       "version_major": 2,
       "version_minor": 0
      },
      "text/plain": [
       "SHA3_256 checksumming:   0%|          | 0.00/1.45M [00:00<?, ?B/s]"
      ]
     },
     "metadata": {},
     "output_type": "display_data"
    },
    {
     "data": {
      "application/vnd.jupyter.widget-view+json": {
       "model_id": "eeacfe5ed65b431290f382612f9acd6a",
       "version_major": 2,
       "version_minor": 0
      },
      "text/plain": [
       "Downloading T19LCG_20210901T145731_B02_20m.jp2:   0%|          | 0.00/28.7M [00:00<?, ?B/s]"
      ]
     },
     "metadata": {},
     "output_type": "display_data"
    },
    {
     "data": {
      "application/vnd.jupyter.widget-view+json": {
       "model_id": "",
       "version_major": 2,
       "version_minor": 0
      },
      "text/plain": [
       "SHA3_256 checksumming:   0%|          | 0.00/28.7M [00:00<?, ?B/s]"
      ]
     },
     "metadata": {},
     "output_type": "display_data"
    },
    {
     "data": {
      "application/vnd.jupyter.widget-view+json": {
       "model_id": "620a7a045cde4093884c20822284af66",
       "version_major": 2,
       "version_minor": 0
      },
      "text/plain": [
       "Downloading T19LCG_20210901T145731_B03_20m.jp2:   0%|          | 0.00/31.5M [00:00<?, ?B/s]"
      ]
     },
     "metadata": {},
     "output_type": "display_data"
    },
    {
     "data": {
      "application/vnd.jupyter.widget-view+json": {
       "model_id": "",
       "version_major": 2,
       "version_minor": 0
      },
      "text/plain": [
       "SHA3_256 checksumming:   0%|          | 0.00/31.5M [00:00<?, ?B/s]"
      ]
     },
     "metadata": {},
     "output_type": "display_data"
    },
    {
     "data": {
      "application/vnd.jupyter.widget-view+json": {
       "model_id": "399cd1ad901e4d70b4e373c5e7585789",
       "version_major": 2,
       "version_minor": 0
      },
      "text/plain": [
       "Downloading T19LCG_20210901T145731_B04_20m.jp2:   0%|          | 0.00/30.3M [00:00<?, ?B/s]"
      ]
     },
     "metadata": {},
     "output_type": "display_data"
    },
    {
     "data": {
      "application/vnd.jupyter.widget-view+json": {
       "model_id": "",
       "version_major": 2,
       "version_minor": 0
      },
      "text/plain": [
       "SHA3_256 checksumming:   0%|          | 0.00/30.3M [00:00<?, ?B/s]"
      ]
     },
     "metadata": {},
     "output_type": "display_data"
    },
    {
     "data": {
      "application/vnd.jupyter.widget-view+json": {
       "model_id": "20b6c1ca3b6e40e28052733ee8e86732",
       "version_major": 2,
       "version_minor": 0
      },
      "text/plain": [
       "Downloading T19LCG_20210901T145731_B05_20m.jp2:   0%|          | 0.00/33.2M [00:00<?, ?B/s]"
      ]
     },
     "metadata": {},
     "output_type": "display_data"
    },
    {
     "data": {
      "application/vnd.jupyter.widget-view+json": {
       "model_id": "",
       "version_major": 2,
       "version_minor": 0
      },
      "text/plain": [
       "SHA3_256 checksumming:   0%|          | 0.00/33.2M [00:00<?, ?B/s]"
      ]
     },
     "metadata": {},
     "output_type": "display_data"
    },
    {
     "data": {
      "application/vnd.jupyter.widget-view+json": {
       "model_id": "3693a40a16194bb993edc97470b1ad82",
       "version_major": 2,
       "version_minor": 0
      },
      "text/plain": [
       "Downloading T19LCG_20210901T145731_B06_20m.jp2:   0%|          | 0.00/33.7M [00:00<?, ?B/s]"
      ]
     },
     "metadata": {},
     "output_type": "display_data"
    },
    {
     "data": {
      "application/vnd.jupyter.widget-view+json": {
       "model_id": "",
       "version_major": 2,
       "version_minor": 0
      },
      "text/plain": [
       "SHA3_256 checksumming:   0%|          | 0.00/33.7M [00:00<?, ?B/s]"
      ]
     },
     "metadata": {},
     "output_type": "display_data"
    },
    {
     "data": {
      "application/vnd.jupyter.widget-view+json": {
       "model_id": "6ec40f4526a449b9bfcbb8ff15140fea",
       "version_major": 2,
       "version_minor": 0
      },
      "text/plain": [
       "Downloading T19LCG_20210901T145731_B07_20m.jp2:   0%|          | 0.00/33.9M [00:00<?, ?B/s]"
      ]
     },
     "metadata": {},
     "output_type": "display_data"
    },
    {
     "data": {
      "application/vnd.jupyter.widget-view+json": {
       "model_id": "",
       "version_major": 2,
       "version_minor": 0
      },
      "text/plain": [
       "SHA3_256 checksumming:   0%|          | 0.00/33.9M [00:00<?, ?B/s]"
      ]
     },
     "metadata": {},
     "output_type": "display_data"
    },
    {
     "data": {
      "application/vnd.jupyter.widget-view+json": {
       "model_id": "01d9b520886b47c5a0fe3aff988eb76d",
       "version_major": 2,
       "version_minor": 0
      },
      "text/plain": [
       "Downloading T19LCG_20210901T145731_B11_20m.jp2:   0%|          | 0.00/33.7M [00:00<?, ?B/s]"
      ]
     },
     "metadata": {},
     "output_type": "display_data"
    },
    {
     "data": {
      "application/vnd.jupyter.widget-view+json": {
       "model_id": "",
       "version_major": 2,
       "version_minor": 0
      },
      "text/plain": [
       "SHA3_256 checksumming:   0%|          | 0.00/33.7M [00:00<?, ?B/s]"
      ]
     },
     "metadata": {},
     "output_type": "display_data"
    },
    {
     "data": {
      "application/vnd.jupyter.widget-view+json": {
       "model_id": "bc11eae366fb49a2b581f7cc29ac02c7",
       "version_major": 2,
       "version_minor": 0
      },
      "text/plain": [
       "Downloading T19LCG_20210901T145731_B12_20m.jp2:   0%|          | 0.00/30.8M [00:00<?, ?B/s]"
      ]
     },
     "metadata": {},
     "output_type": "display_data"
    },
    {
     "data": {
      "application/vnd.jupyter.widget-view+json": {
       "model_id": "",
       "version_major": 2,
       "version_minor": 0
      },
      "text/plain": [
       "SHA3_256 checksumming:   0%|          | 0.00/30.8M [00:00<?, ?B/s]"
      ]
     },
     "metadata": {},
     "output_type": "display_data"
    },
    {
     "data": {
      "application/vnd.jupyter.widget-view+json": {
       "model_id": "e49dff836a2e4f6986dd631640a0891c",
       "version_major": 2,
       "version_minor": 0
      },
      "text/plain": [
       "Downloading T19LCG_20210901T145731_B8A_20m.jp2:   0%|          | 0.00/33.7M [00:00<?, ?B/s]"
      ]
     },
     "metadata": {},
     "output_type": "display_data"
    },
    {
     "data": {
      "application/vnd.jupyter.widget-view+json": {
       "model_id": "",
       "version_major": 2,
       "version_minor": 0
      },
      "text/plain": [
       "SHA3_256 checksumming:   0%|          | 0.00/33.7M [00:00<?, ?B/s]"
      ]
     },
     "metadata": {},
     "output_type": "display_data"
    },
    {
     "data": {
      "application/vnd.jupyter.widget-view+json": {
       "model_id": "17d32c8cd7244e4cabb15f914fbc6ff7",
       "version_major": 2,
       "version_minor": 0
      },
      "text/plain": [
       "Downloading T19LCG_20210901T145731_SCL_20m.jp2:   0%|          | 0.00/923k [00:00<?, ?B/s]"
      ]
     },
     "metadata": {},
     "output_type": "display_data"
    },
    {
     "data": {
      "application/vnd.jupyter.widget-view+json": {
       "model_id": "",
       "version_major": 2,
       "version_minor": 0
      },
      "text/plain": [
       "SHA3_256 checksumming:   0%|          | 0.00/923k [00:00<?, ?B/s]"
      ]
     },
     "metadata": {},
     "output_type": "display_data"
    },
    {
     "data": {
      "application/vnd.jupyter.widget-view+json": {
       "model_id": "2c46ac4a9f944c1c85c444e59fe140d1",
       "version_major": 2,
       "version_minor": 0
      },
      "text/plain": [
       "Downloading T19LCG_20210901T145731_TCI_20m.jp2:   0%|          | 0.00/33.8M [00:00<?, ?B/s]"
      ]
     },
     "metadata": {},
     "output_type": "display_data"
    },
    {
     "data": {
      "application/vnd.jupyter.widget-view+json": {
       "model_id": "",
       "version_major": 2,
       "version_minor": 0
      },
      "text/plain": [
       "SHA3_256 checksumming:   0%|          | 0.00/33.8M [00:00<?, ?B/s]"
      ]
     },
     "metadata": {},
     "output_type": "display_data"
    },
    {
     "data": {
      "application/vnd.jupyter.widget-view+json": {
       "model_id": "1e30f0b631524f7e8d3a2ab676fa4c9e",
       "version_major": 2,
       "version_minor": 0
      },
      "text/plain": [
       "Downloading T19LCG_20210901T145731_WVP_20m.jp2:   0%|          | 0.00/31.2M [00:00<?, ?B/s]"
      ]
     },
     "metadata": {},
     "output_type": "display_data"
    },
    {
     "data": {
      "application/vnd.jupyter.widget-view+json": {
       "model_id": "",
       "version_major": 2,
       "version_minor": 0
      },
      "text/plain": [
       "SHA3_256 checksumming:   0%|          | 0.00/31.2M [00:00<?, ?B/s]"
      ]
     },
     "metadata": {},
     "output_type": "display_data"
    },
    {
     "data": {
      "application/vnd.jupyter.widget-view+json": {
       "model_id": "04205f2e0b4c444d9f56bb4ec5ae1ccf",
       "version_major": 2,
       "version_minor": 0
      },
      "text/plain": [
       "Downloading T19LCG_20210901T145731_AOT_60m.jp2:   0%|          | 0.00/488k [00:00<?, ?B/s]"
      ]
     },
     "metadata": {},
     "output_type": "display_data"
    },
    {
     "data": {
      "application/vnd.jupyter.widget-view+json": {
       "model_id": "",
       "version_major": 2,
       "version_minor": 0
      },
      "text/plain": [
       "SHA3_256 checksumming:   0%|          | 0.00/488k [00:00<?, ?B/s]"
      ]
     },
     "metadata": {},
     "output_type": "display_data"
    },
    {
     "data": {
      "application/vnd.jupyter.widget-view+json": {
       "model_id": "2349597b1fe84fb6a9b24a8849750bcb",
       "version_major": 2,
       "version_minor": 0
      },
      "text/plain": [
       "Downloading T19LCG_20210901T145731_B01_60m.jp2:   0%|          | 0.00/3.08M [00:00<?, ?B/s]"
      ]
     },
     "metadata": {},
     "output_type": "display_data"
    },
    {
     "data": {
      "application/vnd.jupyter.widget-view+json": {
       "model_id": "",
       "version_major": 2,
       "version_minor": 0
      },
      "text/plain": [
       "SHA3_256 checksumming:   0%|          | 0.00/3.08M [00:00<?, ?B/s]"
      ]
     },
     "metadata": {},
     "output_type": "display_data"
    },
    {
     "data": {
      "application/vnd.jupyter.widget-view+json": {
       "model_id": "237b135164f64355a82d1c663c79ce77",
       "version_major": 2,
       "version_minor": 0
      },
      "text/plain": [
       "Downloading T19LCG_20210901T145731_B02_60m.jp2:   0%|          | 0.00/3.50M [00:00<?, ?B/s]"
      ]
     },
     "metadata": {},
     "output_type": "display_data"
    },
    {
     "data": {
      "application/vnd.jupyter.widget-view+json": {
       "model_id": "",
       "version_major": 2,
       "version_minor": 0
      },
      "text/plain": [
       "SHA3_256 checksumming:   0%|          | 0.00/3.50M [00:00<?, ?B/s]"
      ]
     },
     "metadata": {},
     "output_type": "display_data"
    },
    {
     "data": {
      "application/vnd.jupyter.widget-view+json": {
       "model_id": "c8caa7771848460fad79f729a72bb32b",
       "version_major": 2,
       "version_minor": 0
      },
      "text/plain": [
       "Downloading T19LCG_20210901T145731_B03_60m.jp2:   0%|          | 0.00/3.76M [00:00<?, ?B/s]"
      ]
     },
     "metadata": {},
     "output_type": "display_data"
    },
    {
     "data": {
      "application/vnd.jupyter.widget-view+json": {
       "model_id": "",
       "version_major": 2,
       "version_minor": 0
      },
      "text/plain": [
       "SHA3_256 checksumming:   0%|          | 0.00/3.76M [00:00<?, ?B/s]"
      ]
     },
     "metadata": {},
     "output_type": "display_data"
    },
    {
     "data": {
      "application/vnd.jupyter.widget-view+json": {
       "model_id": "a91fa8b8d8724e6bb61a59ae82d05915",
       "version_major": 2,
       "version_minor": 0
      },
      "text/plain": [
       "Downloading T19LCG_20210901T145731_B04_60m.jp2:   0%|          | 0.00/3.71M [00:00<?, ?B/s]"
      ]
     },
     "metadata": {},
     "output_type": "display_data"
    },
    {
     "data": {
      "application/vnd.jupyter.widget-view+json": {
       "model_id": "",
       "version_major": 2,
       "version_minor": 0
      },
      "text/plain": [
       "SHA3_256 checksumming:   0%|          | 0.00/3.71M [00:00<?, ?B/s]"
      ]
     },
     "metadata": {},
     "output_type": "display_data"
    },
    {
     "data": {
      "application/vnd.jupyter.widget-view+json": {
       "model_id": "470adf167ed741e8873a378b5060a857",
       "version_major": 2,
       "version_minor": 0
      },
      "text/plain": [
       "Downloading T19LCG_20210901T145731_B05_60m.jp2:   0%|          | 0.00/3.74M [00:00<?, ?B/s]"
      ]
     },
     "metadata": {},
     "output_type": "display_data"
    },
    {
     "data": {
      "application/vnd.jupyter.widget-view+json": {
       "model_id": "",
       "version_major": 2,
       "version_minor": 0
      },
      "text/plain": [
       "SHA3_256 checksumming:   0%|          | 0.00/3.74M [00:00<?, ?B/s]"
      ]
     },
     "metadata": {},
     "output_type": "display_data"
    },
    {
     "data": {
      "application/vnd.jupyter.widget-view+json": {
       "model_id": "abd2ec83aa164651be97ba875766bf84",
       "version_major": 2,
       "version_minor": 0
      },
      "text/plain": [
       "Downloading T19LCG_20210901T145731_B06_60m.jp2:   0%|          | 0.00/3.74M [00:00<?, ?B/s]"
      ]
     },
     "metadata": {},
     "output_type": "display_data"
    },
    {
     "data": {
      "application/vnd.jupyter.widget-view+json": {
       "model_id": "",
       "version_major": 2,
       "version_minor": 0
      },
      "text/plain": [
       "SHA3_256 checksumming:   0%|          | 0.00/3.74M [00:00<?, ?B/s]"
      ]
     },
     "metadata": {},
     "output_type": "display_data"
    },
    {
     "data": {
      "application/vnd.jupyter.widget-view+json": {
       "model_id": "9dcb718808304eca84335d3398f418c1",
       "version_major": 2,
       "version_minor": 0
      },
      "text/plain": [
       "Downloading T19LCG_20210901T145731_B07_60m.jp2:   0%|          | 0.00/3.75M [00:00<?, ?B/s]"
      ]
     },
     "metadata": {},
     "output_type": "display_data"
    },
    {
     "data": {
      "application/vnd.jupyter.widget-view+json": {
       "model_id": "",
       "version_major": 2,
       "version_minor": 0
      },
      "text/plain": [
       "SHA3_256 checksumming:   0%|          | 0.00/3.75M [00:00<?, ?B/s]"
      ]
     },
     "metadata": {},
     "output_type": "display_data"
    },
    {
     "data": {
      "application/vnd.jupyter.widget-view+json": {
       "model_id": "d530192dc6064c978f80d81b2e87b073",
       "version_major": 2,
       "version_minor": 0
      },
      "text/plain": [
       "Downloading T19LCG_20210901T145731_B09_60m.jp2:   0%|          | 0.00/3.77M [00:00<?, ?B/s]"
      ]
     },
     "metadata": {},
     "output_type": "display_data"
    },
    {
     "data": {
      "application/vnd.jupyter.widget-view+json": {
       "model_id": "",
       "version_major": 2,
       "version_minor": 0
      },
      "text/plain": [
       "SHA3_256 checksumming:   0%|          | 0.00/3.77M [00:00<?, ?B/s]"
      ]
     },
     "metadata": {},
     "output_type": "display_data"
    },
    {
     "data": {
      "application/vnd.jupyter.widget-view+json": {
       "model_id": "e9c87f478941454ebdaf5996f8506e53",
       "version_major": 2,
       "version_minor": 0
      },
      "text/plain": [
       "Downloading T19LCG_20210901T145731_B11_60m.jp2:   0%|          | 0.00/3.73M [00:00<?, ?B/s]"
      ]
     },
     "metadata": {},
     "output_type": "display_data"
    },
    {
     "data": {
      "application/vnd.jupyter.widget-view+json": {
       "model_id": "",
       "version_major": 2,
       "version_minor": 0
      },
      "text/plain": [
       "SHA3_256 checksumming:   0%|          | 0.00/3.73M [00:00<?, ?B/s]"
      ]
     },
     "metadata": {},
     "output_type": "display_data"
    },
    {
     "data": {
      "application/vnd.jupyter.widget-view+json": {
       "model_id": "36d6f55dbe6a4046b3df3bbed38d646c",
       "version_major": 2,
       "version_minor": 0
      },
      "text/plain": [
       "Downloading T19LCG_20210901T145731_B12_60m.jp2:   0%|          | 0.00/3.73M [00:00<?, ?B/s]"
      ]
     },
     "metadata": {},
     "output_type": "display_data"
    },
    {
     "data": {
      "application/vnd.jupyter.widget-view+json": {
       "model_id": "",
       "version_major": 2,
       "version_minor": 0
      },
      "text/plain": [
       "SHA3_256 checksumming:   0%|          | 0.00/3.73M [00:00<?, ?B/s]"
      ]
     },
     "metadata": {},
     "output_type": "display_data"
    },
    {
     "data": {
      "application/vnd.jupyter.widget-view+json": {
       "model_id": "005646a842fd452f9002ab15f22d5e7e",
       "version_major": 2,
       "version_minor": 0
      },
      "text/plain": [
       "Downloading T19LCG_20210901T145731_B8A_60m.jp2:   0%|          | 0.00/3.75M [00:00<?, ?B/s]"
      ]
     },
     "metadata": {},
     "output_type": "display_data"
    },
    {
     "data": {
      "application/vnd.jupyter.widget-view+json": {
       "model_id": "",
       "version_major": 2,
       "version_minor": 0
      },
      "text/plain": [
       "SHA3_256 checksumming:   0%|          | 0.00/3.75M [00:00<?, ?B/s]"
      ]
     },
     "metadata": {},
     "output_type": "display_data"
    },
    {
     "data": {
      "application/vnd.jupyter.widget-view+json": {
       "model_id": "45b8080179c1441287f19150ea2dbae9",
       "version_major": 2,
       "version_minor": 0
      },
      "text/plain": [
       "Downloading T19LCG_20210901T145731_SCL_60m.jp2:   0%|          | 0.00/237k [00:00<?, ?B/s]"
      ]
     },
     "metadata": {},
     "output_type": "display_data"
    },
    {
     "data": {
      "application/vnd.jupyter.widget-view+json": {
       "model_id": "",
       "version_major": 2,
       "version_minor": 0
      },
      "text/plain": [
       "SHA3_256 checksumming:   0%|          | 0.00/237k [00:00<?, ?B/s]"
      ]
     },
     "metadata": {},
     "output_type": "display_data"
    },
    {
     "data": {
      "application/vnd.jupyter.widget-view+json": {
       "model_id": "142ce1ecf71e46e2b594d2c5d52fe474",
       "version_major": 2,
       "version_minor": 0
      },
      "text/plain": [
       "Downloading T19LCG_20210901T145731_TCI_60m.jp2:   0%|          | 0.00/3.75M [00:00<?, ?B/s]"
      ]
     },
     "metadata": {},
     "output_type": "display_data"
    },
    {
     "data": {
      "application/vnd.jupyter.widget-view+json": {
       "model_id": "",
       "version_major": 2,
       "version_minor": 0
      },
      "text/plain": [
       "SHA3_256 checksumming:   0%|          | 0.00/3.75M [00:00<?, ?B/s]"
      ]
     },
     "metadata": {},
     "output_type": "display_data"
    },
    {
     "data": {
      "application/vnd.jupyter.widget-view+json": {
       "model_id": "55ea0ea2797b46b49b76a6fbbea6bc81",
       "version_major": 2,
       "version_minor": 0
      },
      "text/plain": [
       "Downloading T19LCG_20210901T145731_WVP_60m.jp2:   0%|          | 0.00/3.73M [00:00<?, ?B/s]"
      ]
     },
     "metadata": {},
     "output_type": "display_data"
    },
    {
     "data": {
      "application/vnd.jupyter.widget-view+json": {
       "model_id": "",
       "version_major": 2,
       "version_minor": 0
      },
      "text/plain": [
       "SHA3_256 checksumming:   0%|          | 0.00/3.73M [00:00<?, ?B/s]"
      ]
     },
     "metadata": {},
     "output_type": "display_data"
    },
    {
     "name": "stdout",
     "output_type": "stream",
     "text": [
      "01558b31-8f94-43ff-a75e-3ec8f17127e9\n"
     ]
    },
    {
     "data": {
      "application/vnd.jupyter.widget-view+json": {
       "model_id": "c4203fa5c08046b9a3492ab777fa2fde",
       "version_major": 2,
       "version_minor": 0
      },
      "text/plain": [
       "Downloading T19LCG_20210822T145731_AOT_10m.jp2:   0%|          | 0.00/2.57M [00:00<?, ?B/s]"
      ]
     },
     "metadata": {},
     "output_type": "display_data"
    },
    {
     "data": {
      "application/vnd.jupyter.widget-view+json": {
       "model_id": "",
       "version_major": 2,
       "version_minor": 0
      },
      "text/plain": [
       "SHA3_256 checksumming:   0%|          | 0.00/2.57M [00:00<?, ?B/s]"
      ]
     },
     "metadata": {},
     "output_type": "display_data"
    },
    {
     "data": {
      "application/vnd.jupyter.widget-view+json": {
       "model_id": "11157cbd787e46af8bcd0f9bb60cc2f6",
       "version_major": 2,
       "version_minor": 0
      },
      "text/plain": [
       "Downloading T19LCG_20210822T145731_B02_10m.jp2:   0%|          | 0.00/110M [00:00<?, ?B/s]"
      ]
     },
     "metadata": {},
     "output_type": "display_data"
    },
    {
     "data": {
      "application/vnd.jupyter.widget-view+json": {
       "model_id": "",
       "version_major": 2,
       "version_minor": 0
      },
      "text/plain": [
       "SHA3_256 checksumming:   0%|          | 0.00/110M [00:00<?, ?B/s]"
      ]
     },
     "metadata": {},
     "output_type": "display_data"
    },
    {
     "data": {
      "application/vnd.jupyter.widget-view+json": {
       "model_id": "7d31c538d48f43f79ba6dd879c9dafa9",
       "version_major": 2,
       "version_minor": 0
      },
      "text/plain": [
       "Downloading T19LCG_20210822T145731_B03_10m.jp2:   0%|          | 0.00/116M [00:00<?, ?B/s]"
      ]
     },
     "metadata": {},
     "output_type": "display_data"
    },
    {
     "data": {
      "application/vnd.jupyter.widget-view+json": {
       "model_id": "",
       "version_major": 2,
       "version_minor": 0
      },
      "text/plain": [
       "SHA3_256 checksumming:   0%|          | 0.00/116M [00:00<?, ?B/s]"
      ]
     },
     "metadata": {},
     "output_type": "display_data"
    },
    {
     "data": {
      "application/vnd.jupyter.widget-view+json": {
       "model_id": "8c00b560452a4bdd8fe72c599e46a07a",
       "version_major": 2,
       "version_minor": 0
      },
      "text/plain": [
       "Downloading T19LCG_20210822T145731_B04_10m.jp2:   0%|          | 0.00/110M [00:00<?, ?B/s]"
      ]
     },
     "metadata": {},
     "output_type": "display_data"
    },
    {
     "data": {
      "application/vnd.jupyter.widget-view+json": {
       "model_id": "",
       "version_major": 2,
       "version_minor": 0
      },
      "text/plain": [
       "SHA3_256 checksumming:   0%|          | 0.00/110M [00:00<?, ?B/s]"
      ]
     },
     "metadata": {},
     "output_type": "display_data"
    },
    {
     "data": {
      "application/vnd.jupyter.widget-view+json": {
       "model_id": "60452daf7e1f4dc9ad450b63c86a0489",
       "version_major": 2,
       "version_minor": 0
      },
      "text/plain": [
       "Downloading T19LCG_20210822T145731_B08_10m.jp2:   0%|          | 0.00/135M [00:00<?, ?B/s]"
      ]
     },
     "metadata": {},
     "output_type": "display_data"
    },
    {
     "data": {
      "application/vnd.jupyter.widget-view+json": {
       "model_id": "",
       "version_major": 2,
       "version_minor": 0
      },
      "text/plain": [
       "SHA3_256 checksumming:   0%|          | 0.00/135M [00:00<?, ?B/s]"
      ]
     },
     "metadata": {},
     "output_type": "display_data"
    },
    {
     "data": {
      "application/vnd.jupyter.widget-view+json": {
       "model_id": "6729f1d5567b4a55bb8a93cb3e15c101",
       "version_major": 2,
       "version_minor": 0
      },
      "text/plain": [
       "Downloading T19LCG_20210822T145731_TCI_10m.jp2:   0%|          | 0.00/135M [00:00<?, ?B/s]"
      ]
     },
     "metadata": {},
     "output_type": "display_data"
    },
    {
     "data": {
      "application/vnd.jupyter.widget-view+json": {
       "model_id": "",
       "version_major": 2,
       "version_minor": 0
      },
      "text/plain": [
       "SHA3_256 checksumming:   0%|          | 0.00/135M [00:00<?, ?B/s]"
      ]
     },
     "metadata": {},
     "output_type": "display_data"
    },
    {
     "data": {
      "application/vnd.jupyter.widget-view+json": {
       "model_id": "121fda5ccd3d4c29adf6346d6b00ad79",
       "version_major": 2,
       "version_minor": 0
      },
      "text/plain": [
       "Downloading T19LCG_20210822T145731_WVP_10m.jp2:   0%|          | 0.00/108M [00:00<?, ?B/s]"
      ]
     },
     "metadata": {},
     "output_type": "display_data"
    },
    {
     "data": {
      "application/vnd.jupyter.widget-view+json": {
       "model_id": "",
       "version_major": 2,
       "version_minor": 0
      },
      "text/plain": [
       "SHA3_256 checksumming:   0%|          | 0.00/108M [00:00<?, ?B/s]"
      ]
     },
     "metadata": {},
     "output_type": "display_data"
    },
    {
     "data": {
      "application/vnd.jupyter.widget-view+json": {
       "model_id": "04399f169d4f46f6a36ea716caef9ffa",
       "version_major": 2,
       "version_minor": 0
      },
      "text/plain": [
       "Downloading T19LCG_20210822T145731_AOT_20m.jp2:   0%|          | 0.00/2.18M [00:00<?, ?B/s]"
      ]
     },
     "metadata": {},
     "output_type": "display_data"
    },
    {
     "data": {
      "application/vnd.jupyter.widget-view+json": {
       "model_id": "",
       "version_major": 2,
       "version_minor": 0
      },
      "text/plain": [
       "SHA3_256 checksumming:   0%|          | 0.00/2.18M [00:00<?, ?B/s]"
      ]
     },
     "metadata": {},
     "output_type": "display_data"
    },
    {
     "data": {
      "application/vnd.jupyter.widget-view+json": {
       "model_id": "5930bb09f8a849858bb9732682696009",
       "version_major": 2,
       "version_minor": 0
      },
      "text/plain": [
       "Downloading T19LCG_20210822T145731_B02_20m.jp2:   0%|          | 0.00/29.5M [00:00<?, ?B/s]"
      ]
     },
     "metadata": {},
     "output_type": "display_data"
    },
    {
     "data": {
      "application/vnd.jupyter.widget-view+json": {
       "model_id": "",
       "version_major": 2,
       "version_minor": 0
      },
      "text/plain": [
       "SHA3_256 checksumming:   0%|          | 0.00/29.5M [00:00<?, ?B/s]"
      ]
     },
     "metadata": {},
     "output_type": "display_data"
    },
    {
     "data": {
      "application/vnd.jupyter.widget-view+json": {
       "model_id": "3bda17f5de5a453ba1472b12eaca4aac",
       "version_major": 2,
       "version_minor": 0
      },
      "text/plain": [
       "Downloading T19LCG_20210822T145731_B03_20m.jp2:   0%|          | 0.00/31.9M [00:00<?, ?B/s]"
      ]
     },
     "metadata": {},
     "output_type": "display_data"
    },
    {
     "data": {
      "application/vnd.jupyter.widget-view+json": {
       "model_id": "",
       "version_major": 2,
       "version_minor": 0
      },
      "text/plain": [
       "SHA3_256 checksumming:   0%|          | 0.00/31.9M [00:00<?, ?B/s]"
      ]
     },
     "metadata": {},
     "output_type": "display_data"
    },
    {
     "data": {
      "application/vnd.jupyter.widget-view+json": {
       "model_id": "15eb6df6afea47188c74b13a61aa7633",
       "version_major": 2,
       "version_minor": 0
      },
      "text/plain": [
       "Downloading T19LCG_20210822T145731_B04_20m.jp2:   0%|          | 0.00/31.0M [00:00<?, ?B/s]"
      ]
     },
     "metadata": {},
     "output_type": "display_data"
    },
    {
     "data": {
      "application/vnd.jupyter.widget-view+json": {
       "model_id": "",
       "version_major": 2,
       "version_minor": 0
      },
      "text/plain": [
       "SHA3_256 checksumming:   0%|          | 0.00/31.0M [00:00<?, ?B/s]"
      ]
     },
     "metadata": {},
     "output_type": "display_data"
    },
    {
     "data": {
      "application/vnd.jupyter.widget-view+json": {
       "model_id": "09e79ad497a94cbcac619b2b9848b304",
       "version_major": 2,
       "version_minor": 0
      },
      "text/plain": [
       "Downloading T19LCG_20210822T145731_B05_20m.jp2:   0%|          | 0.00/33.7M [00:00<?, ?B/s]"
      ]
     },
     "metadata": {},
     "output_type": "display_data"
    },
    {
     "data": {
      "application/vnd.jupyter.widget-view+json": {
       "model_id": "",
       "version_major": 2,
       "version_minor": 0
      },
      "text/plain": [
       "SHA3_256 checksumming:   0%|          | 0.00/33.7M [00:00<?, ?B/s]"
      ]
     },
     "metadata": {},
     "output_type": "display_data"
    },
    {
     "data": {
      "application/vnd.jupyter.widget-view+json": {
       "model_id": "903fe6961b7a47aba6a153313dd101ae",
       "version_major": 2,
       "version_minor": 0
      },
      "text/plain": [
       "Downloading T19LCG_20210822T145731_B06_20m.jp2:   0%|          | 0.00/33.7M [00:00<?, ?B/s]"
      ]
     },
     "metadata": {},
     "output_type": "display_data"
    },
    {
     "data": {
      "application/vnd.jupyter.widget-view+json": {
       "model_id": "",
       "version_major": 2,
       "version_minor": 0
      },
      "text/plain": [
       "SHA3_256 checksumming:   0%|          | 0.00/33.7M [00:00<?, ?B/s]"
      ]
     },
     "metadata": {},
     "output_type": "display_data"
    },
    {
     "data": {
      "application/vnd.jupyter.widget-view+json": {
       "model_id": "f89538a04f664371aeabdda8b2d27ce5",
       "version_major": 2,
       "version_minor": 0
      },
      "text/plain": [
       "Downloading T19LCG_20210822T145731_B07_20m.jp2:   0%|          | 0.00/33.9M [00:00<?, ?B/s]"
      ]
     },
     "metadata": {},
     "output_type": "display_data"
    },
    {
     "data": {
      "application/vnd.jupyter.widget-view+json": {
       "model_id": "",
       "version_major": 2,
       "version_minor": 0
      },
      "text/plain": [
       "SHA3_256 checksumming:   0%|          | 0.00/33.9M [00:00<?, ?B/s]"
      ]
     },
     "metadata": {},
     "output_type": "display_data"
    },
    {
     "data": {
      "application/vnd.jupyter.widget-view+json": {
       "model_id": "69bd1857fb2941b59f9283cec51087b6",
       "version_major": 2,
       "version_minor": 0
      },
      "text/plain": [
       "Downloading T19LCG_20210822T145731_B11_20m.jp2:   0%|          | 0.00/33.7M [00:00<?, ?B/s]"
      ]
     },
     "metadata": {},
     "output_type": "display_data"
    },
    {
     "data": {
      "application/vnd.jupyter.widget-view+json": {
       "model_id": "",
       "version_major": 2,
       "version_minor": 0
      },
      "text/plain": [
       "SHA3_256 checksumming:   0%|          | 0.00/33.7M [00:00<?, ?B/s]"
      ]
     },
     "metadata": {},
     "output_type": "display_data"
    },
    {
     "data": {
      "application/vnd.jupyter.widget-view+json": {
       "model_id": "7f0f8569c1774e59b85581a2558dd530",
       "version_major": 2,
       "version_minor": 0
      },
      "text/plain": [
       "Downloading T19LCG_20210822T145731_B12_20m.jp2:   0%|          | 0.00/32.1M [00:00<?, ?B/s]"
      ]
     },
     "metadata": {},
     "output_type": "display_data"
    },
    {
     "data": {
      "application/vnd.jupyter.widget-view+json": {
       "model_id": "",
       "version_major": 2,
       "version_minor": 0
      },
      "text/plain": [
       "SHA3_256 checksumming:   0%|          | 0.00/32.1M [00:00<?, ?B/s]"
      ]
     },
     "metadata": {},
     "output_type": "display_data"
    },
    {
     "data": {
      "application/vnd.jupyter.widget-view+json": {
       "model_id": "3b7d0310c90747ac801e398b03a508ee",
       "version_major": 2,
       "version_minor": 0
      },
      "text/plain": [
       "Downloading T19LCG_20210822T145731_B8A_20m.jp2:   0%|          | 0.00/33.8M [00:00<?, ?B/s]"
      ]
     },
     "metadata": {},
     "output_type": "display_data"
    },
    {
     "data": {
      "application/vnd.jupyter.widget-view+json": {
       "model_id": "",
       "version_major": 2,
       "version_minor": 0
      },
      "text/plain": [
       "SHA3_256 checksumming:   0%|          | 0.00/33.8M [00:00<?, ?B/s]"
      ]
     },
     "metadata": {},
     "output_type": "display_data"
    },
    {
     "data": {
      "application/vnd.jupyter.widget-view+json": {
       "model_id": "d067e88af3e445f791a400fb16195fa9",
       "version_major": 2,
       "version_minor": 0
      },
      "text/plain": [
       "Downloading T19LCG_20210822T145731_SCL_20m.jp2:   0%|          | 0.00/912k [00:00<?, ?B/s]"
      ]
     },
     "metadata": {},
     "output_type": "display_data"
    },
    {
     "data": {
      "application/vnd.jupyter.widget-view+json": {
       "model_id": "",
       "version_major": 2,
       "version_minor": 0
      },
      "text/plain": [
       "SHA3_256 checksumming:   0%|          | 0.00/912k [00:00<?, ?B/s]"
      ]
     },
     "metadata": {},
     "output_type": "display_data"
    },
    {
     "data": {
      "application/vnd.jupyter.widget-view+json": {
       "model_id": "2adeefb8426c4f829c06dd4ed0391847",
       "version_major": 2,
       "version_minor": 0
      },
      "text/plain": [
       "Downloading T19LCG_20210822T145731_TCI_20m.jp2:   0%|          | 0.00/33.8M [00:00<?, ?B/s]"
      ]
     },
     "metadata": {},
     "output_type": "display_data"
    },
    {
     "data": {
      "application/vnd.jupyter.widget-view+json": {
       "model_id": "",
       "version_major": 2,
       "version_minor": 0
      },
      "text/plain": [
       "SHA3_256 checksumming:   0%|          | 0.00/33.8M [00:00<?, ?B/s]"
      ]
     },
     "metadata": {},
     "output_type": "display_data"
    },
    {
     "data": {
      "application/vnd.jupyter.widget-view+json": {
       "model_id": "4f353d8dde6a4eb79eabe51d95ab68ec",
       "version_major": 2,
       "version_minor": 0
      },
      "text/plain": [
       "Downloading T19LCG_20210822T145731_WVP_20m.jp2:   0%|          | 0.00/33.4M [00:00<?, ?B/s]"
      ]
     },
     "metadata": {},
     "output_type": "display_data"
    },
    {
     "data": {
      "application/vnd.jupyter.widget-view+json": {
       "model_id": "",
       "version_major": 2,
       "version_minor": 0
      },
      "text/plain": [
       "SHA3_256 checksumming:   0%|          | 0.00/33.4M [00:00<?, ?B/s]"
      ]
     },
     "metadata": {},
     "output_type": "display_data"
    },
    {
     "data": {
      "application/vnd.jupyter.widget-view+json": {
       "model_id": "b2465d44ec3b471693201e57d2e56b76",
       "version_major": 2,
       "version_minor": 0
      },
      "text/plain": [
       "Downloading T19LCG_20210822T145731_AOT_60m.jp2:   0%|          | 0.00/669k [00:00<?, ?B/s]"
      ]
     },
     "metadata": {},
     "output_type": "display_data"
    },
    {
     "data": {
      "application/vnd.jupyter.widget-view+json": {
       "model_id": "",
       "version_major": 2,
       "version_minor": 0
      },
      "text/plain": [
       "SHA3_256 checksumming:   0%|          | 0.00/669k [00:00<?, ?B/s]"
      ]
     },
     "metadata": {},
     "output_type": "display_data"
    },
    {
     "data": {
      "application/vnd.jupyter.widget-view+json": {
       "model_id": "290f66f186ce44869903e6248a87683e",
       "version_major": 2,
       "version_minor": 0
      },
      "text/plain": [
       "Downloading T19LCG_20210822T145731_B01_60m.jp2:   0%|          | 0.00/3.25M [00:00<?, ?B/s]"
      ]
     },
     "metadata": {},
     "output_type": "display_data"
    },
    {
     "data": {
      "application/vnd.jupyter.widget-view+json": {
       "model_id": "",
       "version_major": 2,
       "version_minor": 0
      },
      "text/plain": [
       "SHA3_256 checksumming:   0%|          | 0.00/3.25M [00:00<?, ?B/s]"
      ]
     },
     "metadata": {},
     "output_type": "display_data"
    },
    {
     "data": {
      "application/vnd.jupyter.widget-view+json": {
       "model_id": "855f4cef974d4e9a8370949ce4d58edb",
       "version_major": 2,
       "version_minor": 0
      },
      "text/plain": [
       "Downloading T19LCG_20210822T145731_B02_60m.jp2:   0%|          | 0.00/3.58M [00:00<?, ?B/s]"
      ]
     },
     "metadata": {},
     "output_type": "display_data"
    },
    {
     "data": {
      "application/vnd.jupyter.widget-view+json": {
       "model_id": "",
       "version_major": 2,
       "version_minor": 0
      },
      "text/plain": [
       "SHA3_256 checksumming:   0%|          | 0.00/3.58M [00:00<?, ?B/s]"
      ]
     },
     "metadata": {},
     "output_type": "display_data"
    },
    {
     "data": {
      "application/vnd.jupyter.widget-view+json": {
       "model_id": "495f4d500f6448bd8fbfa2037596d9a9",
       "version_major": 2,
       "version_minor": 0
      },
      "text/plain": [
       "Downloading T19LCG_20210822T145731_B03_60m.jp2:   0%|          | 0.00/3.77M [00:00<?, ?B/s]"
      ]
     },
     "metadata": {},
     "output_type": "display_data"
    },
    {
     "data": {
      "application/vnd.jupyter.widget-view+json": {
       "model_id": "",
       "version_major": 2,
       "version_minor": 0
      },
      "text/plain": [
       "SHA3_256 checksumming:   0%|          | 0.00/3.77M [00:00<?, ?B/s]"
      ]
     },
     "metadata": {},
     "output_type": "display_data"
    },
    {
     "data": {
      "application/vnd.jupyter.widget-view+json": {
       "model_id": "55c708b90171416dbf2a326b07a2c42b",
       "version_major": 2,
       "version_minor": 0
      },
      "text/plain": [
       "Downloading T19LCG_20210822T145731_B04_60m.jp2:   0%|          | 0.00/3.77M [00:00<?, ?B/s]"
      ]
     },
     "metadata": {},
     "output_type": "display_data"
    },
    {
     "data": {
      "application/vnd.jupyter.widget-view+json": {
       "model_id": "",
       "version_major": 2,
       "version_minor": 0
      },
      "text/plain": [
       "SHA3_256 checksumming:   0%|          | 0.00/3.77M [00:00<?, ?B/s]"
      ]
     },
     "metadata": {},
     "output_type": "display_data"
    },
    {
     "data": {
      "application/vnd.jupyter.widget-view+json": {
       "model_id": "e27d5aa11c8540df93f7534e44ac1908",
       "version_major": 2,
       "version_minor": 0
      },
      "text/plain": [
       "Downloading T19LCG_20210822T145731_B05_60m.jp2:   0%|          | 0.00/3.77M [00:00<?, ?B/s]"
      ]
     },
     "metadata": {},
     "output_type": "display_data"
    },
    {
     "data": {
      "application/vnd.jupyter.widget-view+json": {
       "model_id": "",
       "version_major": 2,
       "version_minor": 0
      },
      "text/plain": [
       "SHA3_256 checksumming:   0%|          | 0.00/3.77M [00:00<?, ?B/s]"
      ]
     },
     "metadata": {},
     "output_type": "display_data"
    },
    {
     "data": {
      "application/vnd.jupyter.widget-view+json": {
       "model_id": "11d9c86951e3445093cdaa9b2ac80dc3",
       "version_major": 2,
       "version_minor": 0
      },
      "text/plain": [
       "Downloading T19LCG_20210822T145731_B06_60m.jp2:   0%|          | 0.00/3.76M [00:00<?, ?B/s]"
      ]
     },
     "metadata": {},
     "output_type": "display_data"
    },
    {
     "data": {
      "application/vnd.jupyter.widget-view+json": {
       "model_id": "",
       "version_major": 2,
       "version_minor": 0
      },
      "text/plain": [
       "SHA3_256 checksumming:   0%|          | 0.00/3.76M [00:00<?, ?B/s]"
      ]
     },
     "metadata": {},
     "output_type": "display_data"
    },
    {
     "data": {
      "application/vnd.jupyter.widget-view+json": {
       "model_id": "da80ce9eb7f24370b974cef5ed3db6ec",
       "version_major": 2,
       "version_minor": 0
      },
      "text/plain": [
       "Downloading T19LCG_20210822T145731_B07_60m.jp2:   0%|          | 0.00/3.75M [00:00<?, ?B/s]"
      ]
     },
     "metadata": {},
     "output_type": "display_data"
    },
    {
     "data": {
      "application/vnd.jupyter.widget-view+json": {
       "model_id": "",
       "version_major": 2,
       "version_minor": 0
      },
      "text/plain": [
       "SHA3_256 checksumming:   0%|          | 0.00/3.75M [00:00<?, ?B/s]"
      ]
     },
     "metadata": {},
     "output_type": "display_data"
    },
    {
     "data": {
      "application/vnd.jupyter.widget-view+json": {
       "model_id": "12dc75e9e87c42ac97ce6628fe6d0aa4",
       "version_major": 2,
       "version_minor": 0
      },
      "text/plain": [
       "Downloading T19LCG_20210822T145731_B09_60m.jp2:   0%|          | 0.00/3.75M [00:00<?, ?B/s]"
      ]
     },
     "metadata": {},
     "output_type": "display_data"
    },
    {
     "data": {
      "application/vnd.jupyter.widget-view+json": {
       "model_id": "",
       "version_major": 2,
       "version_minor": 0
      },
      "text/plain": [
       "SHA3_256 checksumming:   0%|          | 0.00/3.75M [00:00<?, ?B/s]"
      ]
     },
     "metadata": {},
     "output_type": "display_data"
    },
    {
     "data": {
      "application/vnd.jupyter.widget-view+json": {
       "model_id": "1b28c37d9c76458cbb2c48f41585d5e2",
       "version_major": 2,
       "version_minor": 0
      },
      "text/plain": [
       "Downloading T19LCG_20210822T145731_B11_60m.jp2:   0%|          | 0.00/3.75M [00:00<?, ?B/s]"
      ]
     },
     "metadata": {},
     "output_type": "display_data"
    },
    {
     "data": {
      "application/vnd.jupyter.widget-view+json": {
       "model_id": "",
       "version_major": 2,
       "version_minor": 0
      },
      "text/plain": [
       "SHA3_256 checksumming:   0%|          | 0.00/3.75M [00:00<?, ?B/s]"
      ]
     },
     "metadata": {},
     "output_type": "display_data"
    },
    {
     "data": {
      "application/vnd.jupyter.widget-view+json": {
       "model_id": "7c8042841a284f83a322b0b54daf53ff",
       "version_major": 2,
       "version_minor": 0
      },
      "text/plain": [
       "Downloading T19LCG_20210822T145731_B12_60m.jp2:   0%|          | 0.00/3.73M [00:00<?, ?B/s]"
      ]
     },
     "metadata": {},
     "output_type": "display_data"
    },
    {
     "data": {
      "application/vnd.jupyter.widget-view+json": {
       "model_id": "",
       "version_major": 2,
       "version_minor": 0
      },
      "text/plain": [
       "SHA3_256 checksumming:   0%|          | 0.00/3.73M [00:00<?, ?B/s]"
      ]
     },
     "metadata": {},
     "output_type": "display_data"
    },
    {
     "data": {
      "application/vnd.jupyter.widget-view+json": {
       "model_id": "9ec249b8c1ae4990befddab9c6a3da9a",
       "version_major": 2,
       "version_minor": 0
      },
      "text/plain": [
       "Downloading T19LCG_20210822T145731_B8A_60m.jp2:   0%|          | 0.00/3.74M [00:00<?, ?B/s]"
      ]
     },
     "metadata": {},
     "output_type": "display_data"
    },
    {
     "data": {
      "application/vnd.jupyter.widget-view+json": {
       "model_id": "",
       "version_major": 2,
       "version_minor": 0
      },
      "text/plain": [
       "SHA3_256 checksumming:   0%|          | 0.00/3.74M [00:00<?, ?B/s]"
      ]
     },
     "metadata": {},
     "output_type": "display_data"
    },
    {
     "data": {
      "application/vnd.jupyter.widget-view+json": {
       "model_id": "27214e4bba2d49dba5f40eaa50693857",
       "version_major": 2,
       "version_minor": 0
      },
      "text/plain": [
       "Downloading T19LCG_20210822T145731_SCL_60m.jp2:   0%|          | 0.00/190k [00:00<?, ?B/s]"
      ]
     },
     "metadata": {},
     "output_type": "display_data"
    },
    {
     "data": {
      "application/vnd.jupyter.widget-view+json": {
       "model_id": "",
       "version_major": 2,
       "version_minor": 0
      },
      "text/plain": [
       "SHA3_256 checksumming:   0%|          | 0.00/190k [00:00<?, ?B/s]"
      ]
     },
     "metadata": {},
     "output_type": "display_data"
    },
    {
     "data": {
      "application/vnd.jupyter.widget-view+json": {
       "model_id": "fb6f41e6450341f4b85d5384fef844a3",
       "version_major": 2,
       "version_minor": 0
      },
      "text/plain": [
       "Downloading T19LCG_20210822T145731_TCI_60m.jp2:   0%|          | 0.00/3.76M [00:00<?, ?B/s]"
      ]
     },
     "metadata": {},
     "output_type": "display_data"
    },
    {
     "data": {
      "application/vnd.jupyter.widget-view+json": {
       "model_id": "",
       "version_major": 2,
       "version_minor": 0
      },
      "text/plain": [
       "SHA3_256 checksumming:   0%|          | 0.00/3.76M [00:00<?, ?B/s]"
      ]
     },
     "metadata": {},
     "output_type": "display_data"
    },
    {
     "data": {
      "application/vnd.jupyter.widget-view+json": {
       "model_id": "48c848d4e84b4a8793784d8c6e1b444f",
       "version_major": 2,
       "version_minor": 0
      },
      "text/plain": [
       "Downloading T19LCG_20210822T145731_WVP_60m.jp2:   0%|          | 0.00/3.76M [00:00<?, ?B/s]"
      ]
     },
     "metadata": {},
     "output_type": "display_data"
    },
    {
     "data": {
      "application/vnd.jupyter.widget-view+json": {
       "model_id": "",
       "version_major": 2,
       "version_minor": 0
      },
      "text/plain": [
       "SHA3_256 checksumming:   0%|          | 0.00/3.76M [00:00<?, ?B/s]"
      ]
     },
     "metadata": {},
     "output_type": "display_data"
    },
    {
     "name": "stdout",
     "output_type": "stream",
     "text": [
      "1d9c1798-227f-4b6d-a533-dc0f1dae5bc6\n"
     ]
    },
    {
     "data": {
      "application/vnd.jupyter.widget-view+json": {
       "model_id": "1ae0254ed4894246a1ce0a888574bc24",
       "version_major": 2,
       "version_minor": 0
      },
      "text/plain": [
       "Downloading T19LCG_20210817T145729_AOT_10m.jp2:   0%|          | 0.00/2.29M [00:00<?, ?B/s]"
      ]
     },
     "metadata": {},
     "output_type": "display_data"
    },
    {
     "data": {
      "application/vnd.jupyter.widget-view+json": {
       "model_id": "",
       "version_major": 2,
       "version_minor": 0
      },
      "text/plain": [
       "SHA3_256 checksumming:   0%|          | 0.00/2.29M [00:00<?, ?B/s]"
      ]
     },
     "metadata": {},
     "output_type": "display_data"
    },
    {
     "data": {
      "application/vnd.jupyter.widget-view+json": {
       "model_id": "88a0e6d95738430bb5e7f3804b6ccbee",
       "version_major": 2,
       "version_minor": 0
      },
      "text/plain": [
       "Downloading T19LCG_20210817T145729_B02_10m.jp2:   0%|          | 0.00/108M [00:00<?, ?B/s]"
      ]
     },
     "metadata": {},
     "output_type": "display_data"
    },
    {
     "data": {
      "application/vnd.jupyter.widget-view+json": {
       "model_id": "",
       "version_major": 2,
       "version_minor": 0
      },
      "text/plain": [
       "SHA3_256 checksumming:   0%|          | 0.00/108M [00:00<?, ?B/s]"
      ]
     },
     "metadata": {},
     "output_type": "display_data"
    },
    {
     "data": {
      "application/vnd.jupyter.widget-view+json": {
       "model_id": "da9c11d879bd4af88db1191bda7acaa0",
       "version_major": 2,
       "version_minor": 0
      },
      "text/plain": [
       "Downloading T19LCG_20210817T145729_B03_10m.jp2:   0%|          | 0.00/115M [00:00<?, ?B/s]"
      ]
     },
     "metadata": {},
     "output_type": "display_data"
    },
    {
     "data": {
      "application/vnd.jupyter.widget-view+json": {
       "model_id": "",
       "version_major": 2,
       "version_minor": 0
      },
      "text/plain": [
       "SHA3_256 checksumming:   0%|          | 0.00/115M [00:00<?, ?B/s]"
      ]
     },
     "metadata": {},
     "output_type": "display_data"
    },
    {
     "data": {
      "application/vnd.jupyter.widget-view+json": {
       "model_id": "6a60eef4e55d46f0b965abcfd6bc9526",
       "version_major": 2,
       "version_minor": 0
      },
      "text/plain": [
       "Downloading T19LCG_20210817T145729_B04_10m.jp2:   0%|          | 0.00/107M [00:00<?, ?B/s]"
      ]
     },
     "metadata": {},
     "output_type": "display_data"
    },
    {
     "data": {
      "application/vnd.jupyter.widget-view+json": {
       "model_id": "",
       "version_major": 2,
       "version_minor": 0
      },
      "text/plain": [
       "SHA3_256 checksumming:   0%|          | 0.00/107M [00:00<?, ?B/s]"
      ]
     },
     "metadata": {},
     "output_type": "display_data"
    },
    {
     "data": {
      "application/vnd.jupyter.widget-view+json": {
       "model_id": "f47f5331f5774972b6ce4628c6616c49",
       "version_major": 2,
       "version_minor": 0
      },
      "text/plain": [
       "Downloading T19LCG_20210817T145729_B08_10m.jp2:   0%|          | 0.00/135M [00:00<?, ?B/s]"
      ]
     },
     "metadata": {},
     "output_type": "display_data"
    },
    {
     "data": {
      "application/vnd.jupyter.widget-view+json": {
       "model_id": "",
       "version_major": 2,
       "version_minor": 0
      },
      "text/plain": [
       "SHA3_256 checksumming:   0%|          | 0.00/135M [00:00<?, ?B/s]"
      ]
     },
     "metadata": {},
     "output_type": "display_data"
    },
    {
     "data": {
      "application/vnd.jupyter.widget-view+json": {
       "model_id": "967d16f6b126420cb081610da71a5832",
       "version_major": 2,
       "version_minor": 0
      },
      "text/plain": [
       "Downloading T19LCG_20210817T145729_TCI_10m.jp2:   0%|          | 0.00/135M [00:00<?, ?B/s]"
      ]
     },
     "metadata": {},
     "output_type": "display_data"
    },
    {
     "data": {
      "application/vnd.jupyter.widget-view+json": {
       "model_id": "",
       "version_major": 2,
       "version_minor": 0
      },
      "text/plain": [
       "SHA3_256 checksumming:   0%|          | 0.00/135M [00:00<?, ?B/s]"
      ]
     },
     "metadata": {},
     "output_type": "display_data"
    },
    {
     "data": {
      "application/vnd.jupyter.widget-view+json": {
       "model_id": "1dd66ef0f59c458d8f96ec2db2fce341",
       "version_major": 2,
       "version_minor": 0
      },
      "text/plain": [
       "Downloading T19LCG_20210817T145729_WVP_10m.jp2:   0%|          | 0.00/105M [00:00<?, ?B/s]"
      ]
     },
     "metadata": {},
     "output_type": "display_data"
    },
    {
     "data": {
      "application/vnd.jupyter.widget-view+json": {
       "model_id": "",
       "version_major": 2,
       "version_minor": 0
      },
      "text/plain": [
       "SHA3_256 checksumming:   0%|          | 0.00/105M [00:00<?, ?B/s]"
      ]
     },
     "metadata": {},
     "output_type": "display_data"
    },
    {
     "data": {
      "application/vnd.jupyter.widget-view+json": {
       "model_id": "31a2a83eb33843ddaf4fb8f69373f020",
       "version_major": 2,
       "version_minor": 0
      },
      "text/plain": [
       "Downloading T19LCG_20210817T145729_AOT_20m.jp2:   0%|          | 0.00/1.99M [00:00<?, ?B/s]"
      ]
     },
     "metadata": {},
     "output_type": "display_data"
    },
    {
     "data": {
      "application/vnd.jupyter.widget-view+json": {
       "model_id": "",
       "version_major": 2,
       "version_minor": 0
      },
      "text/plain": [
       "SHA3_256 checksumming:   0%|          | 0.00/1.99M [00:00<?, ?B/s]"
      ]
     },
     "metadata": {},
     "output_type": "display_data"
    },
    {
     "data": {
      "application/vnd.jupyter.widget-view+json": {
       "model_id": "6591c7456c4d4af5acee0cd92e1a023f",
       "version_major": 2,
       "version_minor": 0
      },
      "text/plain": [
       "Downloading T19LCG_20210817T145729_B02_20m.jp2:   0%|          | 0.00/29.0M [00:00<?, ?B/s]"
      ]
     },
     "metadata": {},
     "output_type": "display_data"
    },
    {
     "data": {
      "application/vnd.jupyter.widget-view+json": {
       "model_id": "",
       "version_major": 2,
       "version_minor": 0
      },
      "text/plain": [
       "SHA3_256 checksumming:   0%|          | 0.00/29.0M [00:00<?, ?B/s]"
      ]
     },
     "metadata": {},
     "output_type": "display_data"
    },
    {
     "data": {
      "application/vnd.jupyter.widget-view+json": {
       "model_id": "4808b422a92148edaf177e9764542be2",
       "version_major": 2,
       "version_minor": 0
      },
      "text/plain": [
       "Downloading T19LCG_20210817T145729_B03_20m.jp2:   0%|          | 0.00/31.6M [00:00<?, ?B/s]"
      ]
     },
     "metadata": {},
     "output_type": "display_data"
    },
    {
     "data": {
      "application/vnd.jupyter.widget-view+json": {
       "model_id": "",
       "version_major": 2,
       "version_minor": 0
      },
      "text/plain": [
       "SHA3_256 checksumming:   0%|          | 0.00/31.6M [00:00<?, ?B/s]"
      ]
     },
     "metadata": {},
     "output_type": "display_data"
    },
    {
     "data": {
      "application/vnd.jupyter.widget-view+json": {
       "model_id": "fb3719203acf45ba91b4a41a564d9d7f",
       "version_major": 2,
       "version_minor": 0
      },
      "text/plain": [
       "Downloading T19LCG_20210817T145729_B04_20m.jp2:   0%|          | 0.00/30.4M [00:00<?, ?B/s]"
      ]
     },
     "metadata": {},
     "output_type": "display_data"
    },
    {
     "data": {
      "application/vnd.jupyter.widget-view+json": {
       "model_id": "",
       "version_major": 2,
       "version_minor": 0
      },
      "text/plain": [
       "SHA3_256 checksumming:   0%|          | 0.00/30.4M [00:00<?, ?B/s]"
      ]
     },
     "metadata": {},
     "output_type": "display_data"
    },
    {
     "data": {
      "application/vnd.jupyter.widget-view+json": {
       "model_id": "fbb41a86bf544a60899920015d6349a8",
       "version_major": 2,
       "version_minor": 0
      },
      "text/plain": [
       "Downloading T19LCG_20210817T145729_B05_20m.jp2:   0%|          | 0.00/33.4M [00:00<?, ?B/s]"
      ]
     },
     "metadata": {},
     "output_type": "display_data"
    },
    {
     "data": {
      "application/vnd.jupyter.widget-view+json": {
       "model_id": "",
       "version_major": 2,
       "version_minor": 0
      },
      "text/plain": [
       "SHA3_256 checksumming:   0%|          | 0.00/33.4M [00:00<?, ?B/s]"
      ]
     },
     "metadata": {},
     "output_type": "display_data"
    },
    {
     "data": {
      "application/vnd.jupyter.widget-view+json": {
       "model_id": "9f1b2ff4a0e84b8c8713e6cf82bd7546",
       "version_major": 2,
       "version_minor": 0
      },
      "text/plain": [
       "Downloading T19LCG_20210817T145729_B06_20m.jp2:   0%|          | 0.00/33.7M [00:00<?, ?B/s]"
      ]
     },
     "metadata": {},
     "output_type": "display_data"
    },
    {
     "data": {
      "application/vnd.jupyter.widget-view+json": {
       "model_id": "",
       "version_major": 2,
       "version_minor": 0
      },
      "text/plain": [
       "SHA3_256 checksumming:   0%|          | 0.00/33.7M [00:00<?, ?B/s]"
      ]
     },
     "metadata": {},
     "output_type": "display_data"
    },
    {
     "data": {
      "application/vnd.jupyter.widget-view+json": {
       "model_id": "faa395603b2c4514aa6044040044f212",
       "version_major": 2,
       "version_minor": 0
      },
      "text/plain": [
       "Downloading T19LCG_20210817T145729_B07_20m.jp2:   0%|          | 0.00/33.8M [00:00<?, ?B/s]"
      ]
     },
     "metadata": {},
     "output_type": "display_data"
    },
    {
     "data": {
      "application/vnd.jupyter.widget-view+json": {
       "model_id": "",
       "version_major": 2,
       "version_minor": 0
      },
      "text/plain": [
       "SHA3_256 checksumming:   0%|          | 0.00/33.8M [00:00<?, ?B/s]"
      ]
     },
     "metadata": {},
     "output_type": "display_data"
    },
    {
     "data": {
      "application/vnd.jupyter.widget-view+json": {
       "model_id": "4d368dd8620a4d509d96d039a9997061",
       "version_major": 2,
       "version_minor": 0
      },
      "text/plain": [
       "Downloading T19LCG_20210817T145729_B11_20m.jp2:   0%|          | 0.00/33.7M [00:00<?, ?B/s]"
      ]
     },
     "metadata": {},
     "output_type": "display_data"
    },
    {
     "data": {
      "application/vnd.jupyter.widget-view+json": {
       "model_id": "",
       "version_major": 2,
       "version_minor": 0
      },
      "text/plain": [
       "SHA3_256 checksumming:   0%|          | 0.00/33.7M [00:00<?, ?B/s]"
      ]
     },
     "metadata": {},
     "output_type": "display_data"
    },
    {
     "data": {
      "application/vnd.jupyter.widget-view+json": {
       "model_id": "0cfff1f0386a487784ab1deeb733c584",
       "version_major": 2,
       "version_minor": 0
      },
      "text/plain": [
       "Downloading T19LCG_20210817T145729_B12_20m.jp2:   0%|          | 0.00/31.8M [00:00<?, ?B/s]"
      ]
     },
     "metadata": {},
     "output_type": "display_data"
    },
    {
     "data": {
      "application/vnd.jupyter.widget-view+json": {
       "model_id": "",
       "version_major": 2,
       "version_minor": 0
      },
      "text/plain": [
       "SHA3_256 checksumming:   0%|          | 0.00/31.8M [00:00<?, ?B/s]"
      ]
     },
     "metadata": {},
     "output_type": "display_data"
    },
    {
     "data": {
      "application/vnd.jupyter.widget-view+json": {
       "model_id": "02c2df799d454e148277ce5769150e06",
       "version_major": 2,
       "version_minor": 0
      },
      "text/plain": [
       "Downloading T19LCG_20210817T145729_B8A_20m.jp2:   0%|          | 0.00/33.9M [00:00<?, ?B/s]"
      ]
     },
     "metadata": {},
     "output_type": "display_data"
    },
    {
     "data": {
      "application/vnd.jupyter.widget-view+json": {
       "model_id": "",
       "version_major": 2,
       "version_minor": 0
      },
      "text/plain": [
       "SHA3_256 checksumming:   0%|          | 0.00/33.9M [00:00<?, ?B/s]"
      ]
     },
     "metadata": {},
     "output_type": "display_data"
    },
    {
     "data": {
      "application/vnd.jupyter.widget-view+json": {
       "model_id": "456709798cba4944883fe4aed94e6727",
       "version_major": 2,
       "version_minor": 0
      },
      "text/plain": [
       "Downloading T19LCG_20210817T145729_SCL_20m.jp2:   0%|          | 0.00/817k [00:00<?, ?B/s]"
      ]
     },
     "metadata": {},
     "output_type": "display_data"
    },
    {
     "data": {
      "application/vnd.jupyter.widget-view+json": {
       "model_id": "",
       "version_major": 2,
       "version_minor": 0
      },
      "text/plain": [
       "SHA3_256 checksumming:   0%|          | 0.00/817k [00:00<?, ?B/s]"
      ]
     },
     "metadata": {},
     "output_type": "display_data"
    },
    {
     "data": {
      "application/vnd.jupyter.widget-view+json": {
       "model_id": "800d37e0cf064fa6af193b864ffbdf3c",
       "version_major": 2,
       "version_minor": 0
      },
      "text/plain": [
       "Downloading T19LCG_20210817T145729_TCI_20m.jp2:   0%|          | 0.00/33.9M [00:00<?, ?B/s]"
      ]
     },
     "metadata": {},
     "output_type": "display_data"
    },
    {
     "data": {
      "application/vnd.jupyter.widget-view+json": {
       "model_id": "",
       "version_major": 2,
       "version_minor": 0
      },
      "text/plain": [
       "SHA3_256 checksumming:   0%|          | 0.00/33.9M [00:00<?, ?B/s]"
      ]
     },
     "metadata": {},
     "output_type": "display_data"
    },
    {
     "data": {
      "application/vnd.jupyter.widget-view+json": {
       "model_id": "2f16ec4ffbdc4754b01d0e56f9088e57",
       "version_major": 2,
       "version_minor": 0
      },
      "text/plain": [
       "Downloading T19LCG_20210817T145729_WVP_20m.jp2:   0%|          | 0.00/32.5M [00:00<?, ?B/s]"
      ]
     },
     "metadata": {},
     "output_type": "display_data"
    },
    {
     "data": {
      "application/vnd.jupyter.widget-view+json": {
       "model_id": "",
       "version_major": 2,
       "version_minor": 0
      },
      "text/plain": [
       "SHA3_256 checksumming:   0%|          | 0.00/32.5M [00:00<?, ?B/s]"
      ]
     },
     "metadata": {},
     "output_type": "display_data"
    },
    {
     "data": {
      "application/vnd.jupyter.widget-view+json": {
       "model_id": "6ca4649fcad64e8d931f830eb1171567",
       "version_major": 2,
       "version_minor": 0
      },
      "text/plain": [
       "Downloading T19LCG_20210817T145729_AOT_60m.jp2:   0%|          | 0.00/633k [00:00<?, ?B/s]"
      ]
     },
     "metadata": {},
     "output_type": "display_data"
    },
    {
     "data": {
      "application/vnd.jupyter.widget-view+json": {
       "model_id": "",
       "version_major": 2,
       "version_minor": 0
      },
      "text/plain": [
       "SHA3_256 checksumming:   0%|          | 0.00/633k [00:00<?, ?B/s]"
      ]
     },
     "metadata": {},
     "output_type": "display_data"
    },
    {
     "data": {
      "application/vnd.jupyter.widget-view+json": {
       "model_id": "04267769d00e4b4cbb52057ef43e6ab7",
       "version_major": 2,
       "version_minor": 0
      },
      "text/plain": [
       "Downloading T19LCG_20210817T145729_B01_60m.jp2:   0%|          | 0.00/3.18M [00:00<?, ?B/s]"
      ]
     },
     "metadata": {},
     "output_type": "display_data"
    },
    {
     "data": {
      "application/vnd.jupyter.widget-view+json": {
       "model_id": "",
       "version_major": 2,
       "version_minor": 0
      },
      "text/plain": [
       "SHA3_256 checksumming:   0%|          | 0.00/3.18M [00:00<?, ?B/s]"
      ]
     },
     "metadata": {},
     "output_type": "display_data"
    },
    {
     "data": {
      "application/vnd.jupyter.widget-view+json": {
       "model_id": "3458c31daa8547c1aa7297341252594d",
       "version_major": 2,
       "version_minor": 0
      },
      "text/plain": [
       "Downloading T19LCG_20210817T145729_B02_60m.jp2:   0%|          | 0.00/3.55M [00:00<?, ?B/s]"
      ]
     },
     "metadata": {},
     "output_type": "display_data"
    },
    {
     "data": {
      "application/vnd.jupyter.widget-view+json": {
       "model_id": "",
       "version_major": 2,
       "version_minor": 0
      },
      "text/plain": [
       "SHA3_256 checksumming:   0%|          | 0.00/3.55M [00:00<?, ?B/s]"
      ]
     },
     "metadata": {},
     "output_type": "display_data"
    },
    {
     "data": {
      "application/vnd.jupyter.widget-view+json": {
       "model_id": "a92c00ba2e1947d1be88af540f9fe6ca",
       "version_major": 2,
       "version_minor": 0
      },
      "text/plain": [
       "Downloading T19LCG_20210817T145729_B03_60m.jp2:   0%|          | 0.00/3.77M [00:00<?, ?B/s]"
      ]
     },
     "metadata": {},
     "output_type": "display_data"
    },
    {
     "data": {
      "application/vnd.jupyter.widget-view+json": {
       "model_id": "",
       "version_major": 2,
       "version_minor": 0
      },
      "text/plain": [
       "SHA3_256 checksumming:   0%|          | 0.00/3.77M [00:00<?, ?B/s]"
      ]
     },
     "metadata": {},
     "output_type": "display_data"
    },
    {
     "data": {
      "application/vnd.jupyter.widget-view+json": {
       "model_id": "47212a3d62304829a23283e414a6ddd3",
       "version_major": 2,
       "version_minor": 0
      },
      "text/plain": [
       "Downloading T19LCG_20210817T145729_B04_60m.jp2:   0%|          | 0.00/3.75M [00:00<?, ?B/s]"
      ]
     },
     "metadata": {},
     "output_type": "display_data"
    },
    {
     "data": {
      "application/vnd.jupyter.widget-view+json": {
       "model_id": "",
       "version_major": 2,
       "version_minor": 0
      },
      "text/plain": [
       "SHA3_256 checksumming:   0%|          | 0.00/3.75M [00:00<?, ?B/s]"
      ]
     },
     "metadata": {},
     "output_type": "display_data"
    },
    {
     "data": {
      "application/vnd.jupyter.widget-view+json": {
       "model_id": "4f0b3c4003314197b0e2e12f776649e3",
       "version_major": 2,
       "version_minor": 0
      },
      "text/plain": [
       "Downloading T19LCG_20210817T145729_B05_60m.jp2:   0%|          | 0.00/3.75M [00:00<?, ?B/s]"
      ]
     },
     "metadata": {},
     "output_type": "display_data"
    },
    {
     "data": {
      "application/vnd.jupyter.widget-view+json": {
       "model_id": "",
       "version_major": 2,
       "version_minor": 0
      },
      "text/plain": [
       "SHA3_256 checksumming:   0%|          | 0.00/3.75M [00:00<?, ?B/s]"
      ]
     },
     "metadata": {},
     "output_type": "display_data"
    },
    {
     "data": {
      "application/vnd.jupyter.widget-view+json": {
       "model_id": "d91f6cad1dca4f398adde20363e5e06e",
       "version_major": 2,
       "version_minor": 0
      },
      "text/plain": [
       "Downloading T19LCG_20210817T145729_B06_60m.jp2:   0%|          | 0.00/3.77M [00:00<?, ?B/s]"
      ]
     },
     "metadata": {},
     "output_type": "display_data"
    },
    {
     "data": {
      "application/vnd.jupyter.widget-view+json": {
       "model_id": "",
       "version_major": 2,
       "version_minor": 0
      },
      "text/plain": [
       "SHA3_256 checksumming:   0%|          | 0.00/3.77M [00:00<?, ?B/s]"
      ]
     },
     "metadata": {},
     "output_type": "display_data"
    },
    {
     "data": {
      "application/vnd.jupyter.widget-view+json": {
       "model_id": "c857f64569cd46579fef74431245ef33",
       "version_major": 2,
       "version_minor": 0
      },
      "text/plain": [
       "Downloading T19LCG_20210817T145729_B07_60m.jp2:   0%|          | 0.00/3.75M [00:00<?, ?B/s]"
      ]
     },
     "metadata": {},
     "output_type": "display_data"
    },
    {
     "data": {
      "application/vnd.jupyter.widget-view+json": {
       "model_id": "",
       "version_major": 2,
       "version_minor": 0
      },
      "text/plain": [
       "SHA3_256 checksumming:   0%|          | 0.00/3.75M [00:00<?, ?B/s]"
      ]
     },
     "metadata": {},
     "output_type": "display_data"
    },
    {
     "data": {
      "application/vnd.jupyter.widget-view+json": {
       "model_id": "8766075f0cb346fc88951f80849e2496",
       "version_major": 2,
       "version_minor": 0
      },
      "text/plain": [
       "Downloading T19LCG_20210817T145729_B09_60m.jp2:   0%|          | 0.00/3.75M [00:00<?, ?B/s]"
      ]
     },
     "metadata": {},
     "output_type": "display_data"
    },
    {
     "data": {
      "application/vnd.jupyter.widget-view+json": {
       "model_id": "",
       "version_major": 2,
       "version_minor": 0
      },
      "text/plain": [
       "SHA3_256 checksumming:   0%|          | 0.00/3.75M [00:00<?, ?B/s]"
      ]
     },
     "metadata": {},
     "output_type": "display_data"
    },
    {
     "data": {
      "application/vnd.jupyter.widget-view+json": {
       "model_id": "db9bac17466d43ea9cdad88d13564437",
       "version_major": 2,
       "version_minor": 0
      },
      "text/plain": [
       "Downloading T19LCG_20210817T145729_B11_60m.jp2:   0%|          | 0.00/3.74M [00:00<?, ?B/s]"
      ]
     },
     "metadata": {},
     "output_type": "display_data"
    },
    {
     "data": {
      "application/vnd.jupyter.widget-view+json": {
       "model_id": "",
       "version_major": 2,
       "version_minor": 0
      },
      "text/plain": [
       "SHA3_256 checksumming:   0%|          | 0.00/3.74M [00:00<?, ?B/s]"
      ]
     },
     "metadata": {},
     "output_type": "display_data"
    },
    {
     "data": {
      "application/vnd.jupyter.widget-view+json": {
       "model_id": "d4f5ae54d19849d79632832698e7f443",
       "version_major": 2,
       "version_minor": 0
      },
      "text/plain": [
       "Downloading T19LCG_20210817T145729_B12_60m.jp2:   0%|          | 0.00/3.73M [00:00<?, ?B/s]"
      ]
     },
     "metadata": {},
     "output_type": "display_data"
    },
    {
     "data": {
      "application/vnd.jupyter.widget-view+json": {
       "model_id": "",
       "version_major": 2,
       "version_minor": 0
      },
      "text/plain": [
       "SHA3_256 checksumming:   0%|          | 0.00/3.73M [00:00<?, ?B/s]"
      ]
     },
     "metadata": {},
     "output_type": "display_data"
    },
    {
     "data": {
      "application/vnd.jupyter.widget-view+json": {
       "model_id": "ce8f0a372efd457a9b5163b4b270013e",
       "version_major": 2,
       "version_minor": 0
      },
      "text/plain": [
       "Downloading T19LCG_20210817T145729_B8A_60m.jp2:   0%|          | 0.00/3.74M [00:00<?, ?B/s]"
      ]
     },
     "metadata": {},
     "output_type": "display_data"
    },
    {
     "data": {
      "application/vnd.jupyter.widget-view+json": {
       "model_id": "",
       "version_major": 2,
       "version_minor": 0
      },
      "text/plain": [
       "SHA3_256 checksumming:   0%|          | 0.00/3.74M [00:00<?, ?B/s]"
      ]
     },
     "metadata": {},
     "output_type": "display_data"
    },
    {
     "data": {
      "application/vnd.jupyter.widget-view+json": {
       "model_id": "4962a206e76a40d9b4833235e39ee669",
       "version_major": 2,
       "version_minor": 0
      },
      "text/plain": [
       "Downloading T19LCG_20210817T145729_SCL_60m.jp2:   0%|          | 0.00/190k [00:00<?, ?B/s]"
      ]
     },
     "metadata": {},
     "output_type": "display_data"
    },
    {
     "data": {
      "application/vnd.jupyter.widget-view+json": {
       "model_id": "",
       "version_major": 2,
       "version_minor": 0
      },
      "text/plain": [
       "SHA3_256 checksumming:   0%|          | 0.00/190k [00:00<?, ?B/s]"
      ]
     },
     "metadata": {},
     "output_type": "display_data"
    },
    {
     "data": {
      "application/vnd.jupyter.widget-view+json": {
       "model_id": "ae7bde4bba1440c189dad0ad840bf632",
       "version_major": 2,
       "version_minor": 0
      },
      "text/plain": [
       "Downloading T19LCG_20210817T145729_TCI_60m.jp2:   0%|          | 0.00/3.75M [00:00<?, ?B/s]"
      ]
     },
     "metadata": {},
     "output_type": "display_data"
    },
    {
     "data": {
      "application/vnd.jupyter.widget-view+json": {
       "model_id": "",
       "version_major": 2,
       "version_minor": 0
      },
      "text/plain": [
       "SHA3_256 checksumming:   0%|          | 0.00/3.75M [00:00<?, ?B/s]"
      ]
     },
     "metadata": {},
     "output_type": "display_data"
    },
    {
     "data": {
      "application/vnd.jupyter.widget-view+json": {
       "model_id": "4cbc88b057dc481cb71f8fb7d39e126a",
       "version_major": 2,
       "version_minor": 0
      },
      "text/plain": [
       "Downloading T19LCG_20210817T145729_WVP_60m.jp2:   0%|          | 0.00/3.74M [00:00<?, ?B/s]"
      ]
     },
     "metadata": {},
     "output_type": "display_data"
    },
    {
     "data": {
      "application/vnd.jupyter.widget-view+json": {
       "model_id": "",
       "version_major": 2,
       "version_minor": 0
      },
      "text/plain": [
       "SHA3_256 checksumming:   0%|          | 0.00/3.74M [00:00<?, ?B/s]"
      ]
     },
     "metadata": {},
     "output_type": "display_data"
    },
    {
     "name": "stdout",
     "output_type": "stream",
     "text": [
      "1b29b3d1-144c-4c33-bd3b-c8a4ed6c0213\n"
     ]
    },
    {
     "data": {
      "application/vnd.jupyter.widget-view+json": {
       "model_id": "8079db1d93d74a17b773be61a58708cb",
       "version_major": 2,
       "version_minor": 0
      },
      "text/plain": [
       "Downloading T19LCG_20210807T145729_AOT_10m.jp2:   0%|          | 0.00/1.09M [00:00<?, ?B/s]"
      ]
     },
     "metadata": {},
     "output_type": "display_data"
    },
    {
     "data": {
      "application/vnd.jupyter.widget-view+json": {
       "model_id": "",
       "version_major": 2,
       "version_minor": 0
      },
      "text/plain": [
       "SHA3_256 checksumming:   0%|          | 0.00/1.09M [00:00<?, ?B/s]"
      ]
     },
     "metadata": {},
     "output_type": "display_data"
    },
    {
     "data": {
      "application/vnd.jupyter.widget-view+json": {
       "model_id": "fc4b6cd0312c476ea918b563172ec62d",
       "version_major": 2,
       "version_minor": 0
      },
      "text/plain": [
       "Downloading T19LCG_20210807T145729_B02_10m.jp2:   0%|          | 0.00/103M [00:00<?, ?B/s]"
      ]
     },
     "metadata": {},
     "output_type": "display_data"
    },
    {
     "data": {
      "application/vnd.jupyter.widget-view+json": {
       "model_id": "",
       "version_major": 2,
       "version_minor": 0
      },
      "text/plain": [
       "SHA3_256 checksumming:   0%|          | 0.00/103M [00:00<?, ?B/s]"
      ]
     },
     "metadata": {},
     "output_type": "display_data"
    },
    {
     "data": {
      "application/vnd.jupyter.widget-view+json": {
       "model_id": "6e9fd704ee194563ae80c0b50bcb1a7d",
       "version_major": 2,
       "version_minor": 0
      },
      "text/plain": [
       "Downloading T19LCG_20210807T145729_B03_10m.jp2:   0%|          | 0.00/115M [00:00<?, ?B/s]"
      ]
     },
     "metadata": {},
     "output_type": "display_data"
    },
    {
     "data": {
      "application/vnd.jupyter.widget-view+json": {
       "model_id": "",
       "version_major": 2,
       "version_minor": 0
      },
      "text/plain": [
       "SHA3_256 checksumming:   0%|          | 0.00/115M [00:00<?, ?B/s]"
      ]
     },
     "metadata": {},
     "output_type": "display_data"
    },
    {
     "data": {
      "application/vnd.jupyter.widget-view+json": {
       "model_id": "00130df00bac431a9132959338b22376",
       "version_major": 2,
       "version_minor": 0
      },
      "text/plain": [
       "Downloading T19LCG_20210807T145729_B04_10m.jp2:   0%|          | 0.00/106M [00:00<?, ?B/s]"
      ]
     },
     "metadata": {},
     "output_type": "display_data"
    },
    {
     "data": {
      "application/vnd.jupyter.widget-view+json": {
       "model_id": "",
       "version_major": 2,
       "version_minor": 0
      },
      "text/plain": [
       "SHA3_256 checksumming:   0%|          | 0.00/106M [00:00<?, ?B/s]"
      ]
     },
     "metadata": {},
     "output_type": "display_data"
    },
    {
     "data": {
      "application/vnd.jupyter.widget-view+json": {
       "model_id": "e3c9ab99a1694f6ebb5745d06881efcf",
       "version_major": 2,
       "version_minor": 0
      },
      "text/plain": [
       "Downloading T19LCG_20210807T145729_B08_10m.jp2:   0%|          | 0.00/135M [00:00<?, ?B/s]"
      ]
     },
     "metadata": {},
     "output_type": "display_data"
    },
    {
     "data": {
      "application/vnd.jupyter.widget-view+json": {
       "model_id": "",
       "version_major": 2,
       "version_minor": 0
      },
      "text/plain": [
       "SHA3_256 checksumming:   0%|          | 0.00/135M [00:00<?, ?B/s]"
      ]
     },
     "metadata": {},
     "output_type": "display_data"
    },
    {
     "data": {
      "application/vnd.jupyter.widget-view+json": {
       "model_id": "94b19611786f4d9cb9ad27748adcd7a8",
       "version_major": 2,
       "version_minor": 0
      },
      "text/plain": [
       "Downloading T19LCG_20210807T145729_TCI_10m.jp2:   0%|          | 0.00/135M [00:00<?, ?B/s]"
      ]
     },
     "metadata": {},
     "output_type": "display_data"
    },
    {
     "data": {
      "application/vnd.jupyter.widget-view+json": {
       "model_id": "",
       "version_major": 2,
       "version_minor": 0
      },
      "text/plain": [
       "SHA3_256 checksumming:   0%|          | 0.00/135M [00:00<?, ?B/s]"
      ]
     },
     "metadata": {},
     "output_type": "display_data"
    },
    {
     "data": {
      "application/vnd.jupyter.widget-view+json": {
       "model_id": "f5689dd3ddcc4a94929c01dfcf00df01",
       "version_major": 2,
       "version_minor": 0
      },
      "text/plain": [
       "Downloading T19LCG_20210807T145729_WVP_10m.jp2:   0%|          | 0.00/113M [00:00<?, ?B/s]"
      ]
     },
     "metadata": {},
     "output_type": "display_data"
    },
    {
     "data": {
      "application/vnd.jupyter.widget-view+json": {
       "model_id": "",
       "version_major": 2,
       "version_minor": 0
      },
      "text/plain": [
       "SHA3_256 checksumming:   0%|          | 0.00/113M [00:00<?, ?B/s]"
      ]
     },
     "metadata": {},
     "output_type": "display_data"
    },
    {
     "data": {
      "application/vnd.jupyter.widget-view+json": {
       "model_id": "ff6c42a2f1fa4e508650baedb046ea35",
       "version_major": 2,
       "version_minor": 0
      },
      "text/plain": [
       "Downloading T19LCG_20210807T145729_AOT_20m.jp2:   0%|          | 0.00/931k [00:00<?, ?B/s]"
      ]
     },
     "metadata": {},
     "output_type": "display_data"
    },
    {
     "data": {
      "application/vnd.jupyter.widget-view+json": {
       "model_id": "",
       "version_major": 2,
       "version_minor": 0
      },
      "text/plain": [
       "SHA3_256 checksumming:   0%|          | 0.00/931k [00:00<?, ?B/s]"
      ]
     },
     "metadata": {},
     "output_type": "display_data"
    },
    {
     "data": {
      "application/vnd.jupyter.widget-view+json": {
       "model_id": "fda834b12e1c472d96b4b6b64c7d909f",
       "version_major": 2,
       "version_minor": 0
      },
      "text/plain": [
       "Downloading T19LCG_20210807T145729_B02_20m.jp2:   0%|          | 0.00/28.5M [00:00<?, ?B/s]"
      ]
     },
     "metadata": {},
     "output_type": "display_data"
    },
    {
     "data": {
      "application/vnd.jupyter.widget-view+json": {
       "model_id": "",
       "version_major": 2,
       "version_minor": 0
      },
      "text/plain": [
       "SHA3_256 checksumming:   0%|          | 0.00/28.5M [00:00<?, ?B/s]"
      ]
     },
     "metadata": {},
     "output_type": "display_data"
    },
    {
     "data": {
      "application/vnd.jupyter.widget-view+json": {
       "model_id": "93173055200e4f92a8e85215ffe8f856",
       "version_major": 2,
       "version_minor": 0
      },
      "text/plain": [
       "Downloading T19LCG_20210807T145729_B03_20m.jp2:   0%|          | 0.00/32.0M [00:00<?, ?B/s]"
      ]
     },
     "metadata": {},
     "output_type": "display_data"
    },
    {
     "data": {
      "application/vnd.jupyter.widget-view+json": {
       "model_id": "",
       "version_major": 2,
       "version_minor": 0
      },
      "text/plain": [
       "SHA3_256 checksumming:   0%|          | 0.00/32.0M [00:00<?, ?B/s]"
      ]
     },
     "metadata": {},
     "output_type": "display_data"
    },
    {
     "data": {
      "application/vnd.jupyter.widget-view+json": {
       "model_id": "523ad9919dc54a02aea6c9519c5d62e1",
       "version_major": 2,
       "version_minor": 0
      },
      "text/plain": [
       "Downloading T19LCG_20210807T145729_B04_20m.jp2:   0%|          | 0.00/30.3M [00:00<?, ?B/s]"
      ]
     },
     "metadata": {},
     "output_type": "display_data"
    },
    {
     "data": {
      "application/vnd.jupyter.widget-view+json": {
       "model_id": "",
       "version_major": 2,
       "version_minor": 0
      },
      "text/plain": [
       "SHA3_256 checksumming:   0%|          | 0.00/30.3M [00:00<?, ?B/s]"
      ]
     },
     "metadata": {},
     "output_type": "display_data"
    },
    {
     "data": {
      "application/vnd.jupyter.widget-view+json": {
       "model_id": "6b54c36dc9b049319c1e65ec1e90f690",
       "version_major": 2,
       "version_minor": 0
      },
      "text/plain": [
       "Downloading T19LCG_20210807T145729_B05_20m.jp2:   0%|          | 0.00/33.8M [00:00<?, ?B/s]"
      ]
     },
     "metadata": {},
     "output_type": "display_data"
    },
    {
     "data": {
      "application/vnd.jupyter.widget-view+json": {
       "model_id": "",
       "version_major": 2,
       "version_minor": 0
      },
      "text/plain": [
       "SHA3_256 checksumming:   0%|          | 0.00/33.8M [00:00<?, ?B/s]"
      ]
     },
     "metadata": {},
     "output_type": "display_data"
    },
    {
     "data": {
      "application/vnd.jupyter.widget-view+json": {
       "model_id": "c10abcb9f33340c9b787ce23e280cc93",
       "version_major": 2,
       "version_minor": 0
      },
      "text/plain": [
       "Downloading T19LCG_20210807T145729_B06_20m.jp2:   0%|          | 0.00/33.8M [00:00<?, ?B/s]"
      ]
     },
     "metadata": {},
     "output_type": "display_data"
    }
   ],
   "source": [
    "for key, val in dl_keys.items():\n",
    "    if len(val) > 0:\n",
    "        if key == 'landsat':\n",
    "            print('Downloading ' + key)\n",
    "            ls_results = landsat_tools.ls_place_order(login=ls_login,\n",
    "                                          scenes=val,\n",
    "                                          dl_directory=dl_directory)\n",
    "            output_directory = dl_directory + key\n",
    "        if key == 'sentinel-2':\n",
    "            print('Downloading ' + key)\n",
    "            val = utils.s2_key_to_hash(val, s2_scenes)\n",
    "            s2_results = sentinel_tools.s2_place_order(login=s2_login,\n",
    "                                           scenes=val, \n",
    "                                           dl_directory=dl_directory)\n",
    "            output_directory = dl_directory + key\n",
    "        if key == 'planet':\n",
    "            print('Downloading ' + key)\n",
    "            val = utils.pl_key_to_hash(val, pl_scenes)\n",
    "#            pl_results = [asyncio.create_task(planet_tools.pl_place_order(login=pl_API_key,\n",
    "            pl_results = await planet_tools.pl_place_order(login=pl_API_key,\n",
    "                                          scenes=val,\n",
    "                                          dl_directory=dl_directory)\n",
    "            output_directory = dl_directory + key\n"
   ]
  },
  {
   "cell_type": "code",
   "execution_count": null,
   "id": "55376f34",
   "metadata": {},
   "outputs": [],
   "source": [
    "# the directory where we want to store our clipped satellite scenes\n",
    "import os\n",
    "ordername = AOI_raster.split(\"/\")[-1].split(\".\")[0].split(\"_\")[0]\n",
    "output_directory = str(dl_directory + ordername + \"_clipped\")\n",
    "target_s2_bands = '10m'\n",
    "\n",
    "if not os.path.exists(output_directory):\n",
    "    os.makedirs(output_directory)\n",
    "top_directory_list = os.listdir(dl_directory)"
   ]
  },
  {
   "cell_type": "code",
   "execution_count": null,
   "id": "b20b1e5d",
   "metadata": {},
   "outputs": [],
   "source": [
    "s2_scn_dirs = utils.s2_directory_scns(dl_directory + 'sentinel-2')\n",
    "#s2_scn_dates = [n.split(\"\\\\\")[-1].split(\"/\")[-1].split(\"_\")[-1][0:8] for n in s2_scn_dirs]\n",
    "\n",
    "import sentinel_tools\n",
    "raster_extent = utils.get_spatial_extent(dataset, latlon=False)\n",
    "pg = MultiPolygon([Polygon(raster_extent)])\n",
    "sentinel_tools.s2_stack_n_crop(s2_scn_dirs, pg, target_s2_bands, output_directory)"
   ]
  }
 ],
 "metadata": {
  "kernelspec": {
   "display_name": "Python 3 (ipykernel)",
   "language": "python",
   "name": "python3"
  },
  "language_info": {
   "codemirror_mode": {
    "name": "ipython",
    "version": 3
   },
   "file_extension": ".py",
   "mimetype": "text/x-python",
   "name": "python",
   "nbconvert_exporter": "python",
   "pygments_lexer": "ipython3",
   "version": "3.9.15"
  }
 },
 "nbformat": 4,
 "nbformat_minor": 5
}
