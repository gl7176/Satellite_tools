{
 "cells": [
  {
   "cell_type": "code",
   "execution_count": 26,
   "id": "d6f73bb4",
   "metadata": {},
   "outputs": [],
   "source": [
    "import datetime\n",
    "import rasterio\n",
    "import utils\n",
    "\n",
    "\n",
    "target_date = datetime.datetime(month=2, day=1, year=2022)\n",
    "date_tolerance = 240 # plus and minus margin of target dates\n",
    "max_cloud_percent = 30 # maximum amount of cloud permitted in a candidate scene\n",
    "\n",
    "# the input raster, which defines our \"area of interest\"\n",
    "AOI_raster = 'path/to/raster.tif'\n",
    "\n",
    "# the directory where we store our whole satellite scenes\n",
    "dl_directory = str('X:/storage/directory')\n",
    "\n",
    "# 30m, 15m or 100m, for now I've only coded for 30m bands (B1, B2, B3, B4, B5, B6, B7)\n",
    "# https://gisgeography.com/sentinel-2-bands-combinations/\n",
    "target_bands = '30m'"
   ]
  },
  {
   "cell_type": "code",
   "execution_count": 27,
   "id": "775256ed",
   "metadata": {},
   "outputs": [],
   "source": [
    "start_date = target_date - datetime.timedelta(days=date_tolerance)\n",
    "end_date = target_date + datetime.timedelta(days=date_tolerance)\n",
    "\n",
    "if 'ls_login' not in globals():\n",
    "    import getpass\n",
    "    user = getpass.getpass(prompt = 'Enter EarthExplorer Username: ')      # Username for https://ers.cr.usgs.gov/\n",
    "    password = getpass.getpass(prompt = 'Enter EarthExplorer Password: ')  # Password for https://ers.cr.usgs.gov/\n",
    "    ls_login = [user, password]\n",
    "\n",
    "from shapely.geometry import Polygon, MultiPolygon\n",
    "\n",
    "dataset = rasterio.open(AOI_raster)\n",
    "raster_extent = utils.get_spatial_extent(dataset, latlon=True)\n",
    "\n",
    "# limit on the number of scenes that will be ordered, here set to 2 for testing\n",
    "#order_limit = 2"
   ]
  },
  {
   "cell_type": "code",
   "execution_count": 28,
   "id": "63f7aee4",
   "metadata": {},
   "outputs": [
    {
     "name": "stdout",
     "output_type": "stream",
     "text": [
      "13 landsat orders wll be attempted\n"
     ]
    }
   ],
   "source": [
    "import landsat_tools\n",
    "ls_scenes = landsat_tools.ls_search_query(login=ls_login,\n",
    "                            dataset='landsat_ot_c2_l2', # product type: see https://pypi.org/project/landsatxplore/\n",
    "                            extent=raster_extent,\n",
    "                            start_date=start_date,\n",
    "                            end_date=end_date,\n",
    "                            max_cloud_cover=max_cloud_percent\n",
    "                           )"
   ]
  },
  {
   "cell_type": "code",
   "execution_count": 29,
   "id": "44985b88",
   "metadata": {},
   "outputs": [
    {
     "name": "stdout",
     "output_type": "stream",
     "text": [
      "LC08_L2SP_003069_20220410_20220419_02_T1 is already downloaded\n",
      "LC08_L2SP_003069_20220613_20220617_02_T1 is already downloaded\n",
      "LC08_L2SP_003069_20220629_20220707_02_T1 is already downloaded\n",
      "LC08_L2SP_003069_20220901_20220910_02_T1 is already downloaded\n",
      "LC08_L2SP_003069_20220917_20220928_02_T1 is already downloaded\n",
      "LC09_L2SP_003069_20220418_20220420_02_T1 is already downloaded\n",
      "LC09_L2SP_003069_20220605_20220607_02_T1 is already downloaded\n",
      "LC09_L2SP_003069_20220621_20220624_02_T1 is already downloaded\n",
      "LC09_L2SP_003069_20220707_20220709_02_T1 is already downloaded\n",
      "LC09_L2SP_003069_20220824_20220826_02_T1 is already downloaded\n",
      "LC09_L2SP_003069_20220909_20220911_02_T1 is already downloaded\n",
      "LC09_L2SP_003069_20220925_20220927_02_T1 is already downloaded\n",
      "Downloading landsat\n",
      "LC08_L2SP_003069_20210610_20210621_02_T1\n"
     ]
    },
    {
     "name": "stderr",
     "output_type": "stream",
     "text": [
      "100%|█████████████████████████████████████████████████████████████████████████████| 1.04G/1.04G [00:14<00:00, 79.1MB/s]\n"
     ]
    },
    {
     "name": "stdout",
     "output_type": "stream",
     "text": [
      "extracting D:/sat_dls/landsat\\LC08_L2SP_003069_20210610_20210621_02_T1.tar\n"
     ]
    }
   ],
   "source": [
    "dl_keys = utils.check_dls(landsat=ls_scenes, dl_directory=dl_directory) #checks our orders against downloads in the folder \n",
    "\n",
    "for key, val in dl_keys.items():\n",
    "    if len(val) > 0:\n",
    "        if key == 'landsat':\n",
    "            print('Downloading ' + key)\n",
    "            ls_results = landsat_tools.ls_place_order(login=ls_login,\n",
    "                                          scenes=val,\n",
    "                                          dl_directory=dl_directory)\n",
    "            output_directory = dl_directory + key\n",
    "        if key == 'sentinel-2':\n",
    "            print('Downloading ' + key)\n",
    "            val = utils.s2_key_to_hash(val, s2_scenes)\n",
    "            s2_results = sentinel_tools.s2_place_order(login=s2_login,\n",
    "                                           scenes=val, \n",
    "                                           dl_directory=dl_directory)\n",
    "            output_directory = dl_directory + key\n",
    "        if key == 'planet':\n",
    "            print('Downloading ' + key)\n",
    "            val = utils.pl_key_to_hash(val, pl_scenes)\n",
    "#            pl_results = [asyncio.create_task(planet_tools.pl_place_order(login=pl_API_key,\n",
    "            pl_results = await planet_tools.pl_place_order(login=pl_API_key,\n",
    "                                          scenes=val,\n",
    "                                          dl_directory=dl_directory)\n",
    "            output_directory = dl_directory + key"
   ]
  },
  {
   "cell_type": "code",
   "execution_count": 34,
   "id": "ae733196",
   "metadata": {},
   "outputs": [],
   "source": [
    "# the directory where we want to store our clipped satellite scenes\n",
    "import os\n",
    "ordername = AOI_raster.split(\"/\")[-1].split(\".\")[0].split(\"_\")[0]\n",
    "output_directory = str(dl_directory + ordername + \"_clipped\")\n",
    "target_ls_bands = '30m'\n",
    "\n",
    "if not os.path.exists(output_directory):\n",
    "    os.makedirs(output_directory)\n",
    "top_directory_list = os.listdir(dl_directory)"
   ]
  },
  {
   "cell_type": "code",
   "execution_count": 35,
   "id": "d48416e6",
   "metadata": {},
   "outputs": [
    {
     "name": "stdout",
     "output_type": "stream",
     "text": [
      "writing layer 1\n",
      "writing layer 2\n",
      "writing layer 3\n",
      "writing layer 4\n",
      "writing layer 5\n",
      "writing layer 6\n",
      "writing layer 7\n",
      "done writing scene 1, proceeding\n"
     ]
    },
    {
     "name": "stderr",
     "output_type": "stream",
     "text": [
      "C:\\ProgramData\\Anaconda3\\envs\\pyspat\\lib\\site-packages\\rasterio\\features.py:441: ShapelyDeprecationWarning: Iteration over multi-part geometries is deprecated and will be removed in Shapely 2.0. Use the `geoms` property to access the constituent parts of a multi-part geometry.\n",
      "  all_bounds = [bounds(shape, transform=~dataset.transform) for shape in shapes]\n",
      "C:\\ProgramData\\Anaconda3\\envs\\pyspat\\lib\\site-packages\\rasterio\\features.py:284: ShapelyDeprecationWarning: Iteration over multi-part geometries is deprecated and will be removed in Shapely 2.0. Use the `geoms` property to access the constituent parts of a multi-part geometry.\n",
      "  for index, item in enumerate(shapes):\n"
     ]
    },
    {
     "name": "stdout",
     "output_type": "stream",
     "text": [
      "writing layer 1\n",
      "writing layer 2\n",
      "writing layer 3\n",
      "writing layer 4\n",
      "writing layer 5\n",
      "writing layer 6\n",
      "writing layer 7\n",
      "done writing scene 2, proceeding\n",
      "writing layer 1\n",
      "writing layer 2\n",
      "writing layer 3\n",
      "writing layer 4\n",
      "writing layer 5\n",
      "writing layer 6\n",
      "writing layer 7\n",
      "done writing scene 3, proceeding\n",
      "writing layer 1\n",
      "writing layer 2\n",
      "writing layer 3\n",
      "writing layer 4\n",
      "writing layer 5\n",
      "writing layer 6\n",
      "writing layer 7\n",
      "done writing scene 4, proceeding\n",
      "writing layer 1\n",
      "writing layer 2\n",
      "writing layer 3\n",
      "writing layer 4\n",
      "writing layer 5\n",
      "writing layer 6\n",
      "writing layer 7\n",
      "done writing scene 5, proceeding\n",
      "writing layer 1\n",
      "writing layer 2\n",
      "writing layer 3\n",
      "writing layer 4\n",
      "writing layer 5\n",
      "writing layer 6\n",
      "writing layer 7\n",
      "done writing scene 6, proceeding\n",
      "writing layer 1\n",
      "writing layer 2\n",
      "writing layer 3\n",
      "writing layer 4\n",
      "writing layer 5\n",
      "writing layer 6\n",
      "writing layer 7\n",
      "done writing scene 7, proceeding\n",
      "writing layer 1\n",
      "writing layer 2\n",
      "writing layer 3\n",
      "writing layer 4\n",
      "writing layer 5\n",
      "writing layer 6\n",
      "writing layer 7\n",
      "done writing scene 8, proceeding\n",
      "writing layer 1\n",
      "writing layer 2\n",
      "writing layer 3\n",
      "writing layer 4\n",
      "writing layer 5\n",
      "writing layer 6\n",
      "writing layer 7\n",
      "done writing scene 9, proceeding\n",
      "writing layer 1\n",
      "writing layer 2\n",
      "writing layer 3\n",
      "writing layer 4\n",
      "writing layer 5\n",
      "writing layer 6\n",
      "writing layer 7\n",
      "done writing scene 10, proceeding\n",
      "writing layer 1\n",
      "writing layer 2\n",
      "writing layer 3\n",
      "writing layer 4\n",
      "writing layer 5\n",
      "writing layer 6\n",
      "writing layer 7\n",
      "done writing scene 11, proceeding\n",
      "writing layer 1\n",
      "writing layer 2\n",
      "writing layer 3\n",
      "writing layer 4\n",
      "writing layer 5\n",
      "writing layer 6\n",
      "writing layer 7\n",
      "done writing scene 12, proceeding\n",
      "writing layer 1\n",
      "writing layer 2\n",
      "writing layer 3\n",
      "writing layer 4\n",
      "writing layer 5\n",
      "writing layer 6\n",
      "writing layer 7\n",
      "done writing scene 13, proceeding\n",
      "writing layer 1\n",
      "writing layer 2\n",
      "writing layer 3\n",
      "writing layer 4\n",
      "writing layer 5\n",
      "writing layer 6\n",
      "writing layer 7\n",
      "done writing scene 14, proceeding\n",
      "writing layer 1\n",
      "writing layer 2\n",
      "writing layer 3\n",
      "writing layer 4\n",
      "writing layer 5\n",
      "writing layer 6\n",
      "writing layer 7\n",
      "done writing scene 15, proceeding\n",
      "all files cropped\n"
     ]
    }
   ],
   "source": [
    "ls_scn_dirs = utils.ls_directory_scns(dl_directory + 'landsat')\n",
    "\n",
    "import landsat_tools\n",
    "raster_extent = utils.get_spatial_extent(dataset, latlon=False)\n",
    "pg = MultiPolygon([Polygon(raster_extent)])\n",
    "pg_crs = dataset.crs\n",
    "landsat_tools.ls_stack_n_crop(ls_scn_dirs, pg, pg_crs, target_ls_bands, output_directory)"
   ]
  },
  {
   "cell_type": "code",
   "execution_count": null,
   "id": "57aa8b19",
   "metadata": {},
   "outputs": [],
   "source": []
  }
 ],
 "metadata": {
  "kernelspec": {
   "display_name": "Python 3 (ipykernel)",
   "language": "python",
   "name": "python3"
  },
  "language_info": {
   "codemirror_mode": {
    "name": "ipython",
    "version": 3
   },
   "file_extension": ".py",
   "mimetype": "text/x-python",
   "name": "python",
   "nbconvert_exporter": "python",
   "pygments_lexer": "ipython3",
   "version": "3.9.15"
  }
 },
 "nbformat": 4,
 "nbformat_minor": 5
}
